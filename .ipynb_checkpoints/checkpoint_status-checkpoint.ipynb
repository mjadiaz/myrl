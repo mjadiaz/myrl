{
 "cells": [
  {
   "cell_type": "code",
   "execution_count": 1,
   "id": "5c757268",
   "metadata": {},
   "outputs": [],
   "source": [
    "import pandas as pd\n",
    "import plotly.express as px\n",
    "import os \n",
    "import pickle\n",
    "from omegaconf import OmegaConf\n",
    "import gym\n",
    "from pheno_game.envs.pheno_env import PhenoEnvContinuous_v0\n"
   ]
  },
  {
   "cell_type": "markdown",
   "id": "49a468ce",
   "metadata": {},
   "source": [
    "## Agent Status"
   ]
  },
  {
   "cell_type": "code",
   "execution_count": 27,
   "id": "fc75ed47",
   "metadata": {},
   "outputs": [],
   "source": [
    "chckpt_path = 'runs/chckpt_nr_50' "
   ]
  },
  {
   "cell_type": "code",
   "execution_count": 28,
   "id": "c12e7fea",
   "metadata": {},
   "outputs": [
    {
     "data": {
      "text/html": [
       "<div>\n",
       "<style scoped>\n",
       "    .dataframe tbody tr th:only-of-type {\n",
       "        vertical-align: middle;\n",
       "    }\n",
       "\n",
       "    .dataframe tbody tr th {\n",
       "        vertical-align: top;\n",
       "    }\n",
       "\n",
       "    .dataframe thead th {\n",
       "        text-align: right;\n",
       "    }\n",
       "</style>\n",
       "<table border=\"1\" class=\"dataframe\">\n",
       "  <thead>\n",
       "    <tr style=\"text-align: right;\">\n",
       "      <th></th>\n",
       "      <th>total_episode_reward</th>\n",
       "      <th>episode_length</th>\n",
       "      <th>episode</th>\n",
       "      <th>average_total_reward</th>\n",
       "    </tr>\n",
       "  </thead>\n",
       "  <tbody>\n",
       "    <tr>\n",
       "      <th>0</th>\n",
       "      <td>96.527265</td>\n",
       "      <td>50.0</td>\n",
       "      <td>1</td>\n",
       "      <td>NaN</td>\n",
       "    </tr>\n",
       "    <tr>\n",
       "      <th>1</th>\n",
       "      <td>-48.916136</td>\n",
       "      <td>50.0</td>\n",
       "      <td>2</td>\n",
       "      <td>NaN</td>\n",
       "    </tr>\n",
       "    <tr>\n",
       "      <th>2</th>\n",
       "      <td>-249.018114</td>\n",
       "      <td>29.0</td>\n",
       "      <td>3</td>\n",
       "      <td>NaN</td>\n",
       "    </tr>\n",
       "    <tr>\n",
       "      <th>3</th>\n",
       "      <td>274.482933</td>\n",
       "      <td>50.0</td>\n",
       "      <td>4</td>\n",
       "      <td>NaN</td>\n",
       "    </tr>\n",
       "    <tr>\n",
       "      <th>4</th>\n",
       "      <td>355.948692</td>\n",
       "      <td>50.0</td>\n",
       "      <td>5</td>\n",
       "      <td>85.804928</td>\n",
       "    </tr>\n",
       "  </tbody>\n",
       "</table>\n",
       "</div>"
      ],
      "text/plain": [
       "   total_episode_reward  episode_length  episode  average_total_reward\n",
       "0             96.527265            50.0        1                   NaN\n",
       "1            -48.916136            50.0        2                   NaN\n",
       "2           -249.018114            29.0        3                   NaN\n",
       "3            274.482933            50.0        4                   NaN\n",
       "4            355.948692            50.0        5             85.804928"
      ]
     },
     "execution_count": 28,
     "metadata": {},
     "output_type": "execute_result"
    }
   ],
   "source": [
    "progress_path = os.path.join(chckpt_path, 'progress.csv')\n",
    "df = pd.read_csv(progress_path, index_col=0)\n",
    "df['episode'] = df.index+1\n",
    "df['average_total_reward'] = df['total_episode_reward'].rolling(window=5).mean()\n",
    "df.head()"
   ]
  },
  {
   "cell_type": "code",
   "execution_count": 29,
   "id": "1b0f9f5b",
   "metadata": {},
   "outputs": [
    {
     "data": {
      "application/vnd.plotly.v1+json": {
       "config": {
        "plotlyServerURL": "https://plot.ly"
       },
       "data": [
        {
         "customdata": [
          [
           50
          ],
          [
           50
          ],
          [
           29
          ],
          [
           50
          ],
          [
           50
          ],
          [
           50
          ],
          [
           37
          ],
          [
           27
          ],
          [
           12
          ],
          [
           10
          ],
          [
           14
          ],
          [
           32
          ],
          [
           18
          ],
          [
           16
          ],
          [
           11
          ],
          [
           25
          ],
          [
           12
          ],
          [
           10
          ],
          [
           50
          ],
          [
           11
          ],
          [
           16
          ],
          [
           22
          ],
          [
           16
          ],
          [
           13
          ],
          [
           12
          ],
          [
           12
          ],
          [
           11
          ],
          [
           12
          ],
          [
           12
          ],
          [
           11
          ],
          [
           20
          ],
          [
           11
          ],
          [
           18
          ],
          [
           12
          ],
          [
           14
          ],
          [
           12
          ],
          [
           10
          ],
          [
           30
          ],
          [
           12
          ],
          [
           10
          ],
          [
           16
          ],
          [
           12
          ],
          [
           19
          ],
          [
           10
          ],
          [
           11
          ],
          [
           19
          ],
          [
           13
          ],
          [
           10
          ],
          [
           13
          ],
          [
           14
          ]
         ],
         "hovertemplate": "variable=average_total_reward<br>episode=%{x}<br>value=%{y}<br>episode_length=%{customdata[0]}<extra></extra>",
         "legendgroup": "average_total_reward",
         "line": {
          "color": "#636efa",
          "dash": "solid"
         },
         "mode": "lines",
         "name": "average_total_reward",
         "orientation": "v",
         "showlegend": true,
         "type": "scatter",
         "x": [
          1,
          2,
          3,
          4,
          5,
          6,
          7,
          8,
          9,
          10,
          11,
          12,
          13,
          14,
          15,
          16,
          17,
          18,
          19,
          20,
          21,
          22,
          23,
          24,
          25,
          26,
          27,
          28,
          29,
          30,
          31,
          32,
          33,
          34,
          35,
          36,
          37,
          38,
          39,
          40,
          41,
          42,
          43,
          44,
          45,
          46,
          47,
          48,
          49,
          50
         ],
         "xaxis": "x",
         "y": [
          null,
          null,
          null,
          null,
          85.80492784886118,
          120.22136898988802,
          131.34099635560034,
          167.87082232992228,
          93.49326866283471,
          -17.69646968492601,
          -95.50192524678232,
          -95.70582746889518,
          -96.69831311081668,
          -108.17821522213917,
          -93.0373427391112,
          -73.45284463667373,
          -118.95382616535456,
          -144.68754362477182,
          -71.7540013243582,
          -75.4910629613408,
          -92.83198279755581,
          -70.24157542664675,
          -51.33553944621533,
          -130.92491475253112,
          -140.4115980612197,
          -143.08363701620596,
          -151.9596850343784,
          -153.84006031953604,
          -150.58975432965093,
          -137.55836026761745,
          -138.50644667325543,
          -137.54860793923683,
          -128.41616635369078,
          -108.8173357606674,
          -122.84122540543089,
          -110.9980832066489,
          -121.30179777951983,
          -122.62000795516533,
          -131.52779148156029,
          -132.45242343618702,
          -144.8151159123001,
          -127.68651836013342,
          -120.39856503943159,
          -136.72321582164534,
          -115.67838160327817,
          -108.99001925901362,
          -107.62485957539039,
          -139.75270500126658,
          -129.7120376235147,
          -128.1415736935473
         ],
         "yaxis": "y"
        },
        {
         "customdata": [
          [
           50
          ],
          [
           50
          ],
          [
           29
          ],
          [
           50
          ],
          [
           50
          ],
          [
           50
          ],
          [
           37
          ],
          [
           27
          ],
          [
           12
          ],
          [
           10
          ],
          [
           14
          ],
          [
           32
          ],
          [
           18
          ],
          [
           16
          ],
          [
           11
          ],
          [
           25
          ],
          [
           12
          ],
          [
           10
          ],
          [
           50
          ],
          [
           11
          ],
          [
           16
          ],
          [
           22
          ],
          [
           16
          ],
          [
           13
          ],
          [
           12
          ],
          [
           12
          ],
          [
           11
          ],
          [
           12
          ],
          [
           12
          ],
          [
           11
          ],
          [
           20
          ],
          [
           11
          ],
          [
           18
          ],
          [
           12
          ],
          [
           14
          ],
          [
           12
          ],
          [
           10
          ],
          [
           30
          ],
          [
           12
          ],
          [
           10
          ],
          [
           16
          ],
          [
           12
          ],
          [
           19
          ],
          [
           10
          ],
          [
           11
          ],
          [
           19
          ],
          [
           13
          ],
          [
           10
          ],
          [
           13
          ],
          [
           14
          ]
         ],
         "hovertemplate": "variable=total_episode_reward<br>episode=%{x}<br>value=%{y}<br>episode_length=%{customdata[0]}<extra></extra>",
         "legendgroup": "total_episode_reward",
         "line": {
          "color": "#EF553B",
          "dash": "solid"
         },
         "mode": "lines",
         "name": "total_episode_reward",
         "orientation": "v",
         "showlegend": true,
         "type": "scatter",
         "x": [
          1,
          2,
          3,
          4,
          5,
          6,
          7,
          8,
          9,
          10,
          11,
          12,
          13,
          14,
          15,
          16,
          17,
          18,
          19,
          20,
          21,
          22,
          23,
          24,
          25,
          26,
          27,
          28,
          29,
          30,
          31,
          32,
          33,
          34,
          35,
          36,
          37,
          38,
          39,
          40,
          41,
          42,
          43,
          44,
          45,
          46,
          47,
          48,
          49,
          50
         ],
         "xaxis": "x",
         "y": [
          96.52726496437089,
          -48.91613564401487,
          -249.01811436491573,
          274.4829325500621,
          355.9486917388036,
          268.609470669505,
          6.682001184546806,
          -66.36898449330614,
          -97.4048357853758,
          -200,
          -120.41780713977651,
          5.662490073982553,
          -71.33141270291372,
          -154.80434634198824,
          -124.29563758486012,
          -22.495316627589204,
          -221.8424175694216,
          -200,
          209.86336516007992,
          -142.98094576977317,
          -109.19991580866429,
          -108.89038071487624,
          -105.46982009784293,
          -188.083511371499,
          -190.4143623132161,
          -122.56011058359556,
          -153.27062080573853,
          -114.87169652363109,
          -171.8319814220734,
          -125.2573920030487,
          -127.30054261178556,
          -148.48142713564548,
          -69.20948859590072,
          -73.83782845695657,
          -195.3768402268662,
          -68.08483161787566,
          -200,
          -75.80053947412831,
          -118.37674608893124,
          -200,
          -129.8982939984409,
          -114.35701223916676,
          -39.36077287061914,
          -200,
          -94.7758289081641,
          -96.4564822771181,
          -107.5312138210507,
          -200,
          -149.7966631112406,
          -86.92350925832694
         ],
         "yaxis": "y"
        }
       ],
       "layout": {
        "legend": {
         "title": {
          "text": "variable"
         },
         "tracegroupgap": 0
        },
        "margin": {
         "t": 60
        },
        "template": {
         "data": {
          "bar": [
           {
            "error_x": {
             "color": "#2a3f5f"
            },
            "error_y": {
             "color": "#2a3f5f"
            },
            "marker": {
             "line": {
              "color": "#E5ECF6",
              "width": 0.5
             },
             "pattern": {
              "fillmode": "overlay",
              "size": 10,
              "solidity": 0.2
             }
            },
            "type": "bar"
           }
          ],
          "barpolar": [
           {
            "marker": {
             "line": {
              "color": "#E5ECF6",
              "width": 0.5
             },
             "pattern": {
              "fillmode": "overlay",
              "size": 10,
              "solidity": 0.2
             }
            },
            "type": "barpolar"
           }
          ],
          "carpet": [
           {
            "aaxis": {
             "endlinecolor": "#2a3f5f",
             "gridcolor": "white",
             "linecolor": "white",
             "minorgridcolor": "white",
             "startlinecolor": "#2a3f5f"
            },
            "baxis": {
             "endlinecolor": "#2a3f5f",
             "gridcolor": "white",
             "linecolor": "white",
             "minorgridcolor": "white",
             "startlinecolor": "#2a3f5f"
            },
            "type": "carpet"
           }
          ],
          "choropleth": [
           {
            "colorbar": {
             "outlinewidth": 0,
             "ticks": ""
            },
            "type": "choropleth"
           }
          ],
          "contour": [
           {
            "colorbar": {
             "outlinewidth": 0,
             "ticks": ""
            },
            "colorscale": [
             [
              0,
              "#0d0887"
             ],
             [
              0.1111111111111111,
              "#46039f"
             ],
             [
              0.2222222222222222,
              "#7201a8"
             ],
             [
              0.3333333333333333,
              "#9c179e"
             ],
             [
              0.4444444444444444,
              "#bd3786"
             ],
             [
              0.5555555555555556,
              "#d8576b"
             ],
             [
              0.6666666666666666,
              "#ed7953"
             ],
             [
              0.7777777777777778,
              "#fb9f3a"
             ],
             [
              0.8888888888888888,
              "#fdca26"
             ],
             [
              1,
              "#f0f921"
             ]
            ],
            "type": "contour"
           }
          ],
          "contourcarpet": [
           {
            "colorbar": {
             "outlinewidth": 0,
             "ticks": ""
            },
            "type": "contourcarpet"
           }
          ],
          "heatmap": [
           {
            "colorbar": {
             "outlinewidth": 0,
             "ticks": ""
            },
            "colorscale": [
             [
              0,
              "#0d0887"
             ],
             [
              0.1111111111111111,
              "#46039f"
             ],
             [
              0.2222222222222222,
              "#7201a8"
             ],
             [
              0.3333333333333333,
              "#9c179e"
             ],
             [
              0.4444444444444444,
              "#bd3786"
             ],
             [
              0.5555555555555556,
              "#d8576b"
             ],
             [
              0.6666666666666666,
              "#ed7953"
             ],
             [
              0.7777777777777778,
              "#fb9f3a"
             ],
             [
              0.8888888888888888,
              "#fdca26"
             ],
             [
              1,
              "#f0f921"
             ]
            ],
            "type": "heatmap"
           }
          ],
          "heatmapgl": [
           {
            "colorbar": {
             "outlinewidth": 0,
             "ticks": ""
            },
            "colorscale": [
             [
              0,
              "#0d0887"
             ],
             [
              0.1111111111111111,
              "#46039f"
             ],
             [
              0.2222222222222222,
              "#7201a8"
             ],
             [
              0.3333333333333333,
              "#9c179e"
             ],
             [
              0.4444444444444444,
              "#bd3786"
             ],
             [
              0.5555555555555556,
              "#d8576b"
             ],
             [
              0.6666666666666666,
              "#ed7953"
             ],
             [
              0.7777777777777778,
              "#fb9f3a"
             ],
             [
              0.8888888888888888,
              "#fdca26"
             ],
             [
              1,
              "#f0f921"
             ]
            ],
            "type": "heatmapgl"
           }
          ],
          "histogram": [
           {
            "marker": {
             "pattern": {
              "fillmode": "overlay",
              "size": 10,
              "solidity": 0.2
             }
            },
            "type": "histogram"
           }
          ],
          "histogram2d": [
           {
            "colorbar": {
             "outlinewidth": 0,
             "ticks": ""
            },
            "colorscale": [
             [
              0,
              "#0d0887"
             ],
             [
              0.1111111111111111,
              "#46039f"
             ],
             [
              0.2222222222222222,
              "#7201a8"
             ],
             [
              0.3333333333333333,
              "#9c179e"
             ],
             [
              0.4444444444444444,
              "#bd3786"
             ],
             [
              0.5555555555555556,
              "#d8576b"
             ],
             [
              0.6666666666666666,
              "#ed7953"
             ],
             [
              0.7777777777777778,
              "#fb9f3a"
             ],
             [
              0.8888888888888888,
              "#fdca26"
             ],
             [
              1,
              "#f0f921"
             ]
            ],
            "type": "histogram2d"
           }
          ],
          "histogram2dcontour": [
           {
            "colorbar": {
             "outlinewidth": 0,
             "ticks": ""
            },
            "colorscale": [
             [
              0,
              "#0d0887"
             ],
             [
              0.1111111111111111,
              "#46039f"
             ],
             [
              0.2222222222222222,
              "#7201a8"
             ],
             [
              0.3333333333333333,
              "#9c179e"
             ],
             [
              0.4444444444444444,
              "#bd3786"
             ],
             [
              0.5555555555555556,
              "#d8576b"
             ],
             [
              0.6666666666666666,
              "#ed7953"
             ],
             [
              0.7777777777777778,
              "#fb9f3a"
             ],
             [
              0.8888888888888888,
              "#fdca26"
             ],
             [
              1,
              "#f0f921"
             ]
            ],
            "type": "histogram2dcontour"
           }
          ],
          "mesh3d": [
           {
            "colorbar": {
             "outlinewidth": 0,
             "ticks": ""
            },
            "type": "mesh3d"
           }
          ],
          "parcoords": [
           {
            "line": {
             "colorbar": {
              "outlinewidth": 0,
              "ticks": ""
             }
            },
            "type": "parcoords"
           }
          ],
          "pie": [
           {
            "automargin": true,
            "type": "pie"
           }
          ],
          "scatter": [
           {
            "marker": {
             "colorbar": {
              "outlinewidth": 0,
              "ticks": ""
             }
            },
            "type": "scatter"
           }
          ],
          "scatter3d": [
           {
            "line": {
             "colorbar": {
              "outlinewidth": 0,
              "ticks": ""
             }
            },
            "marker": {
             "colorbar": {
              "outlinewidth": 0,
              "ticks": ""
             }
            },
            "type": "scatter3d"
           }
          ],
          "scattercarpet": [
           {
            "marker": {
             "colorbar": {
              "outlinewidth": 0,
              "ticks": ""
             }
            },
            "type": "scattercarpet"
           }
          ],
          "scattergeo": [
           {
            "marker": {
             "colorbar": {
              "outlinewidth": 0,
              "ticks": ""
             }
            },
            "type": "scattergeo"
           }
          ],
          "scattergl": [
           {
            "marker": {
             "colorbar": {
              "outlinewidth": 0,
              "ticks": ""
             }
            },
            "type": "scattergl"
           }
          ],
          "scattermapbox": [
           {
            "marker": {
             "colorbar": {
              "outlinewidth": 0,
              "ticks": ""
             }
            },
            "type": "scattermapbox"
           }
          ],
          "scatterpolar": [
           {
            "marker": {
             "colorbar": {
              "outlinewidth": 0,
              "ticks": ""
             }
            },
            "type": "scatterpolar"
           }
          ],
          "scatterpolargl": [
           {
            "marker": {
             "colorbar": {
              "outlinewidth": 0,
              "ticks": ""
             }
            },
            "type": "scatterpolargl"
           }
          ],
          "scatterternary": [
           {
            "marker": {
             "colorbar": {
              "outlinewidth": 0,
              "ticks": ""
             }
            },
            "type": "scatterternary"
           }
          ],
          "surface": [
           {
            "colorbar": {
             "outlinewidth": 0,
             "ticks": ""
            },
            "colorscale": [
             [
              0,
              "#0d0887"
             ],
             [
              0.1111111111111111,
              "#46039f"
             ],
             [
              0.2222222222222222,
              "#7201a8"
             ],
             [
              0.3333333333333333,
              "#9c179e"
             ],
             [
              0.4444444444444444,
              "#bd3786"
             ],
             [
              0.5555555555555556,
              "#d8576b"
             ],
             [
              0.6666666666666666,
              "#ed7953"
             ],
             [
              0.7777777777777778,
              "#fb9f3a"
             ],
             [
              0.8888888888888888,
              "#fdca26"
             ],
             [
              1,
              "#f0f921"
             ]
            ],
            "type": "surface"
           }
          ],
          "table": [
           {
            "cells": {
             "fill": {
              "color": "#EBF0F8"
             },
             "line": {
              "color": "white"
             }
            },
            "header": {
             "fill": {
              "color": "#C8D4E3"
             },
             "line": {
              "color": "white"
             }
            },
            "type": "table"
           }
          ]
         },
         "layout": {
          "annotationdefaults": {
           "arrowcolor": "#2a3f5f",
           "arrowhead": 0,
           "arrowwidth": 1
          },
          "autotypenumbers": "strict",
          "coloraxis": {
           "colorbar": {
            "outlinewidth": 0,
            "ticks": ""
           }
          },
          "colorscale": {
           "diverging": [
            [
             0,
             "#8e0152"
            ],
            [
             0.1,
             "#c51b7d"
            ],
            [
             0.2,
             "#de77ae"
            ],
            [
             0.3,
             "#f1b6da"
            ],
            [
             0.4,
             "#fde0ef"
            ],
            [
             0.5,
             "#f7f7f7"
            ],
            [
             0.6,
             "#e6f5d0"
            ],
            [
             0.7,
             "#b8e186"
            ],
            [
             0.8,
             "#7fbc41"
            ],
            [
             0.9,
             "#4d9221"
            ],
            [
             1,
             "#276419"
            ]
           ],
           "sequential": [
            [
             0,
             "#0d0887"
            ],
            [
             0.1111111111111111,
             "#46039f"
            ],
            [
             0.2222222222222222,
             "#7201a8"
            ],
            [
             0.3333333333333333,
             "#9c179e"
            ],
            [
             0.4444444444444444,
             "#bd3786"
            ],
            [
             0.5555555555555556,
             "#d8576b"
            ],
            [
             0.6666666666666666,
             "#ed7953"
            ],
            [
             0.7777777777777778,
             "#fb9f3a"
            ],
            [
             0.8888888888888888,
             "#fdca26"
            ],
            [
             1,
             "#f0f921"
            ]
           ],
           "sequentialminus": [
            [
             0,
             "#0d0887"
            ],
            [
             0.1111111111111111,
             "#46039f"
            ],
            [
             0.2222222222222222,
             "#7201a8"
            ],
            [
             0.3333333333333333,
             "#9c179e"
            ],
            [
             0.4444444444444444,
             "#bd3786"
            ],
            [
             0.5555555555555556,
             "#d8576b"
            ],
            [
             0.6666666666666666,
             "#ed7953"
            ],
            [
             0.7777777777777778,
             "#fb9f3a"
            ],
            [
             0.8888888888888888,
             "#fdca26"
            ],
            [
             1,
             "#f0f921"
            ]
           ]
          },
          "colorway": [
           "#636efa",
           "#EF553B",
           "#00cc96",
           "#ab63fa",
           "#FFA15A",
           "#19d3f3",
           "#FF6692",
           "#B6E880",
           "#FF97FF",
           "#FECB52"
          ],
          "font": {
           "color": "#2a3f5f"
          },
          "geo": {
           "bgcolor": "white",
           "lakecolor": "white",
           "landcolor": "#E5ECF6",
           "showlakes": true,
           "showland": true,
           "subunitcolor": "white"
          },
          "hoverlabel": {
           "align": "left"
          },
          "hovermode": "closest",
          "mapbox": {
           "style": "light"
          },
          "paper_bgcolor": "white",
          "plot_bgcolor": "#E5ECF6",
          "polar": {
           "angularaxis": {
            "gridcolor": "white",
            "linecolor": "white",
            "ticks": ""
           },
           "bgcolor": "#E5ECF6",
           "radialaxis": {
            "gridcolor": "white",
            "linecolor": "white",
            "ticks": ""
           }
          },
          "scene": {
           "xaxis": {
            "backgroundcolor": "#E5ECF6",
            "gridcolor": "white",
            "gridwidth": 2,
            "linecolor": "white",
            "showbackground": true,
            "ticks": "",
            "zerolinecolor": "white"
           },
           "yaxis": {
            "backgroundcolor": "#E5ECF6",
            "gridcolor": "white",
            "gridwidth": 2,
            "linecolor": "white",
            "showbackground": true,
            "ticks": "",
            "zerolinecolor": "white"
           },
           "zaxis": {
            "backgroundcolor": "#E5ECF6",
            "gridcolor": "white",
            "gridwidth": 2,
            "linecolor": "white",
            "showbackground": true,
            "ticks": "",
            "zerolinecolor": "white"
           }
          },
          "shapedefaults": {
           "line": {
            "color": "#2a3f5f"
           }
          },
          "ternary": {
           "aaxis": {
            "gridcolor": "white",
            "linecolor": "white",
            "ticks": ""
           },
           "baxis": {
            "gridcolor": "white",
            "linecolor": "white",
            "ticks": ""
           },
           "bgcolor": "#E5ECF6",
           "caxis": {
            "gridcolor": "white",
            "linecolor": "white",
            "ticks": ""
           }
          },
          "title": {
           "x": 0.05
          },
          "xaxis": {
           "automargin": true,
           "gridcolor": "white",
           "linecolor": "white",
           "ticks": "",
           "title": {
            "standoff": 15
           },
           "zerolinecolor": "white",
           "zerolinewidth": 2
          },
          "yaxis": {
           "automargin": true,
           "gridcolor": "white",
           "linecolor": "white",
           "ticks": "",
           "title": {
            "standoff": 15
           },
           "zerolinecolor": "white",
           "zerolinewidth": 2
          }
         }
        },
        "xaxis": {
         "anchor": "y",
         "domain": [
          0,
          1
         ],
         "title": {
          "text": "episode"
         }
        },
        "yaxis": {
         "anchor": "x",
         "domain": [
          0,
          1
         ],
         "title": {
          "text": "value"
         }
        }
       }
      },
      "text/html": [
       "<div>                            <div id=\"0181faec-44b1-471e-aa93-008527fb4901\" class=\"plotly-graph-div\" style=\"height:525px; width:100%;\"></div>            <script type=\"text/javascript\">                require([\"plotly\"], function(Plotly) {                    window.PLOTLYENV=window.PLOTLYENV || {};                                    if (document.getElementById(\"0181faec-44b1-471e-aa93-008527fb4901\")) {                    Plotly.newPlot(                        \"0181faec-44b1-471e-aa93-008527fb4901\",                        [{\"customdata\":[[50.0],[50.0],[29.0],[50.0],[50.0],[50.0],[37.0],[27.0],[12.0],[10.0],[14.0],[32.0],[18.0],[16.0],[11.0],[25.0],[12.0],[10.0],[50.0],[11.0],[16.0],[22.0],[16.0],[13.0],[12.0],[12.0],[11.0],[12.0],[12.0],[11.0],[20.0],[11.0],[18.0],[12.0],[14.0],[12.0],[10.0],[30.0],[12.0],[10.0],[16.0],[12.0],[19.0],[10.0],[11.0],[19.0],[13.0],[10.0],[13.0],[14.0]],\"hovertemplate\":\"variable=average_total_reward<br>episode=%{x}<br>value=%{y}<br>episode_length=%{customdata[0]}<extra></extra>\",\"legendgroup\":\"average_total_reward\",\"line\":{\"color\":\"#636efa\",\"dash\":\"solid\"},\"mode\":\"lines\",\"name\":\"average_total_reward\",\"orientation\":\"v\",\"showlegend\":true,\"type\":\"scatter\",\"x\":[1,2,3,4,5,6,7,8,9,10,11,12,13,14,15,16,17,18,19,20,21,22,23,24,25,26,27,28,29,30,31,32,33,34,35,36,37,38,39,40,41,42,43,44,45,46,47,48,49,50],\"xaxis\":\"x\",\"y\":[null,null,null,null,85.80492784886118,120.22136898988802,131.34099635560034,167.87082232992228,93.49326866283471,-17.69646968492601,-95.50192524678232,-95.70582746889518,-96.69831311081668,-108.17821522213917,-93.0373427391112,-73.45284463667373,-118.95382616535456,-144.68754362477182,-71.7540013243582,-75.4910629613408,-92.83198279755581,-70.24157542664675,-51.33553944621533,-130.92491475253112,-140.4115980612197,-143.08363701620596,-151.9596850343784,-153.84006031953604,-150.58975432965093,-137.55836026761745,-138.50644667325543,-137.54860793923683,-128.41616635369078,-108.8173357606674,-122.84122540543089,-110.9980832066489,-121.30179777951983,-122.62000795516533,-131.52779148156029,-132.45242343618702,-144.8151159123001,-127.68651836013342,-120.39856503943159,-136.72321582164534,-115.67838160327817,-108.99001925901362,-107.62485957539039,-139.75270500126658,-129.7120376235147,-128.1415736935473],\"yaxis\":\"y\"},{\"customdata\":[[50.0],[50.0],[29.0],[50.0],[50.0],[50.0],[37.0],[27.0],[12.0],[10.0],[14.0],[32.0],[18.0],[16.0],[11.0],[25.0],[12.0],[10.0],[50.0],[11.0],[16.0],[22.0],[16.0],[13.0],[12.0],[12.0],[11.0],[12.0],[12.0],[11.0],[20.0],[11.0],[18.0],[12.0],[14.0],[12.0],[10.0],[30.0],[12.0],[10.0],[16.0],[12.0],[19.0],[10.0],[11.0],[19.0],[13.0],[10.0],[13.0],[14.0]],\"hovertemplate\":\"variable=total_episode_reward<br>episode=%{x}<br>value=%{y}<br>episode_length=%{customdata[0]}<extra></extra>\",\"legendgroup\":\"total_episode_reward\",\"line\":{\"color\":\"#EF553B\",\"dash\":\"solid\"},\"mode\":\"lines\",\"name\":\"total_episode_reward\",\"orientation\":\"v\",\"showlegend\":true,\"type\":\"scatter\",\"x\":[1,2,3,4,5,6,7,8,9,10,11,12,13,14,15,16,17,18,19,20,21,22,23,24,25,26,27,28,29,30,31,32,33,34,35,36,37,38,39,40,41,42,43,44,45,46,47,48,49,50],\"xaxis\":\"x\",\"y\":[96.52726496437089,-48.91613564401487,-249.01811436491573,274.4829325500621,355.9486917388036,268.609470669505,6.682001184546806,-66.36898449330614,-97.4048357853758,-200.0,-120.41780713977651,5.662490073982553,-71.33141270291372,-154.80434634198824,-124.29563758486012,-22.495316627589204,-221.8424175694216,-200.0,209.86336516007992,-142.98094576977317,-109.19991580866429,-108.89038071487624,-105.46982009784293,-188.083511371499,-190.4143623132161,-122.56011058359556,-153.27062080573853,-114.87169652363109,-171.8319814220734,-125.2573920030487,-127.30054261178556,-148.48142713564548,-69.20948859590072,-73.83782845695657,-195.3768402268662,-68.08483161787566,-200.0,-75.80053947412831,-118.37674608893124,-200.0,-129.8982939984409,-114.35701223916676,-39.36077287061914,-200.0,-94.7758289081641,-96.4564822771181,-107.5312138210507,-200.0,-149.7966631112406,-86.92350925832694],\"yaxis\":\"y\"}],                        {\"legend\":{\"title\":{\"text\":\"variable\"},\"tracegroupgap\":0},\"margin\":{\"t\":60},\"template\":{\"data\":{\"bar\":[{\"error_x\":{\"color\":\"#2a3f5f\"},\"error_y\":{\"color\":\"#2a3f5f\"},\"marker\":{\"line\":{\"color\":\"#E5ECF6\",\"width\":0.5},\"pattern\":{\"fillmode\":\"overlay\",\"size\":10,\"solidity\":0.2}},\"type\":\"bar\"}],\"barpolar\":[{\"marker\":{\"line\":{\"color\":\"#E5ECF6\",\"width\":0.5},\"pattern\":{\"fillmode\":\"overlay\",\"size\":10,\"solidity\":0.2}},\"type\":\"barpolar\"}],\"carpet\":[{\"aaxis\":{\"endlinecolor\":\"#2a3f5f\",\"gridcolor\":\"white\",\"linecolor\":\"white\",\"minorgridcolor\":\"white\",\"startlinecolor\":\"#2a3f5f\"},\"baxis\":{\"endlinecolor\":\"#2a3f5f\",\"gridcolor\":\"white\",\"linecolor\":\"white\",\"minorgridcolor\":\"white\",\"startlinecolor\":\"#2a3f5f\"},\"type\":\"carpet\"}],\"choropleth\":[{\"colorbar\":{\"outlinewidth\":0,\"ticks\":\"\"},\"type\":\"choropleth\"}],\"contour\":[{\"colorbar\":{\"outlinewidth\":0,\"ticks\":\"\"},\"colorscale\":[[0.0,\"#0d0887\"],[0.1111111111111111,\"#46039f\"],[0.2222222222222222,\"#7201a8\"],[0.3333333333333333,\"#9c179e\"],[0.4444444444444444,\"#bd3786\"],[0.5555555555555556,\"#d8576b\"],[0.6666666666666666,\"#ed7953\"],[0.7777777777777778,\"#fb9f3a\"],[0.8888888888888888,\"#fdca26\"],[1.0,\"#f0f921\"]],\"type\":\"contour\"}],\"contourcarpet\":[{\"colorbar\":{\"outlinewidth\":0,\"ticks\":\"\"},\"type\":\"contourcarpet\"}],\"heatmap\":[{\"colorbar\":{\"outlinewidth\":0,\"ticks\":\"\"},\"colorscale\":[[0.0,\"#0d0887\"],[0.1111111111111111,\"#46039f\"],[0.2222222222222222,\"#7201a8\"],[0.3333333333333333,\"#9c179e\"],[0.4444444444444444,\"#bd3786\"],[0.5555555555555556,\"#d8576b\"],[0.6666666666666666,\"#ed7953\"],[0.7777777777777778,\"#fb9f3a\"],[0.8888888888888888,\"#fdca26\"],[1.0,\"#f0f921\"]],\"type\":\"heatmap\"}],\"heatmapgl\":[{\"colorbar\":{\"outlinewidth\":0,\"ticks\":\"\"},\"colorscale\":[[0.0,\"#0d0887\"],[0.1111111111111111,\"#46039f\"],[0.2222222222222222,\"#7201a8\"],[0.3333333333333333,\"#9c179e\"],[0.4444444444444444,\"#bd3786\"],[0.5555555555555556,\"#d8576b\"],[0.6666666666666666,\"#ed7953\"],[0.7777777777777778,\"#fb9f3a\"],[0.8888888888888888,\"#fdca26\"],[1.0,\"#f0f921\"]],\"type\":\"heatmapgl\"}],\"histogram\":[{\"marker\":{\"pattern\":{\"fillmode\":\"overlay\",\"size\":10,\"solidity\":0.2}},\"type\":\"histogram\"}],\"histogram2d\":[{\"colorbar\":{\"outlinewidth\":0,\"ticks\":\"\"},\"colorscale\":[[0.0,\"#0d0887\"],[0.1111111111111111,\"#46039f\"],[0.2222222222222222,\"#7201a8\"],[0.3333333333333333,\"#9c179e\"],[0.4444444444444444,\"#bd3786\"],[0.5555555555555556,\"#d8576b\"],[0.6666666666666666,\"#ed7953\"],[0.7777777777777778,\"#fb9f3a\"],[0.8888888888888888,\"#fdca26\"],[1.0,\"#f0f921\"]],\"type\":\"histogram2d\"}],\"histogram2dcontour\":[{\"colorbar\":{\"outlinewidth\":0,\"ticks\":\"\"},\"colorscale\":[[0.0,\"#0d0887\"],[0.1111111111111111,\"#46039f\"],[0.2222222222222222,\"#7201a8\"],[0.3333333333333333,\"#9c179e\"],[0.4444444444444444,\"#bd3786\"],[0.5555555555555556,\"#d8576b\"],[0.6666666666666666,\"#ed7953\"],[0.7777777777777778,\"#fb9f3a\"],[0.8888888888888888,\"#fdca26\"],[1.0,\"#f0f921\"]],\"type\":\"histogram2dcontour\"}],\"mesh3d\":[{\"colorbar\":{\"outlinewidth\":0,\"ticks\":\"\"},\"type\":\"mesh3d\"}],\"parcoords\":[{\"line\":{\"colorbar\":{\"outlinewidth\":0,\"ticks\":\"\"}},\"type\":\"parcoords\"}],\"pie\":[{\"automargin\":true,\"type\":\"pie\"}],\"scatter\":[{\"marker\":{\"colorbar\":{\"outlinewidth\":0,\"ticks\":\"\"}},\"type\":\"scatter\"}],\"scatter3d\":[{\"line\":{\"colorbar\":{\"outlinewidth\":0,\"ticks\":\"\"}},\"marker\":{\"colorbar\":{\"outlinewidth\":0,\"ticks\":\"\"}},\"type\":\"scatter3d\"}],\"scattercarpet\":[{\"marker\":{\"colorbar\":{\"outlinewidth\":0,\"ticks\":\"\"}},\"type\":\"scattercarpet\"}],\"scattergeo\":[{\"marker\":{\"colorbar\":{\"outlinewidth\":0,\"ticks\":\"\"}},\"type\":\"scattergeo\"}],\"scattergl\":[{\"marker\":{\"colorbar\":{\"outlinewidth\":0,\"ticks\":\"\"}},\"type\":\"scattergl\"}],\"scattermapbox\":[{\"marker\":{\"colorbar\":{\"outlinewidth\":0,\"ticks\":\"\"}},\"type\":\"scattermapbox\"}],\"scatterpolar\":[{\"marker\":{\"colorbar\":{\"outlinewidth\":0,\"ticks\":\"\"}},\"type\":\"scatterpolar\"}],\"scatterpolargl\":[{\"marker\":{\"colorbar\":{\"outlinewidth\":0,\"ticks\":\"\"}},\"type\":\"scatterpolargl\"}],\"scatterternary\":[{\"marker\":{\"colorbar\":{\"outlinewidth\":0,\"ticks\":\"\"}},\"type\":\"scatterternary\"}],\"surface\":[{\"colorbar\":{\"outlinewidth\":0,\"ticks\":\"\"},\"colorscale\":[[0.0,\"#0d0887\"],[0.1111111111111111,\"#46039f\"],[0.2222222222222222,\"#7201a8\"],[0.3333333333333333,\"#9c179e\"],[0.4444444444444444,\"#bd3786\"],[0.5555555555555556,\"#d8576b\"],[0.6666666666666666,\"#ed7953\"],[0.7777777777777778,\"#fb9f3a\"],[0.8888888888888888,\"#fdca26\"],[1.0,\"#f0f921\"]],\"type\":\"surface\"}],\"table\":[{\"cells\":{\"fill\":{\"color\":\"#EBF0F8\"},\"line\":{\"color\":\"white\"}},\"header\":{\"fill\":{\"color\":\"#C8D4E3\"},\"line\":{\"color\":\"white\"}},\"type\":\"table\"}]},\"layout\":{\"annotationdefaults\":{\"arrowcolor\":\"#2a3f5f\",\"arrowhead\":0,\"arrowwidth\":1},\"autotypenumbers\":\"strict\",\"coloraxis\":{\"colorbar\":{\"outlinewidth\":0,\"ticks\":\"\"}},\"colorscale\":{\"diverging\":[[0,\"#8e0152\"],[0.1,\"#c51b7d\"],[0.2,\"#de77ae\"],[0.3,\"#f1b6da\"],[0.4,\"#fde0ef\"],[0.5,\"#f7f7f7\"],[0.6,\"#e6f5d0\"],[0.7,\"#b8e186\"],[0.8,\"#7fbc41\"],[0.9,\"#4d9221\"],[1,\"#276419\"]],\"sequential\":[[0.0,\"#0d0887\"],[0.1111111111111111,\"#46039f\"],[0.2222222222222222,\"#7201a8\"],[0.3333333333333333,\"#9c179e\"],[0.4444444444444444,\"#bd3786\"],[0.5555555555555556,\"#d8576b\"],[0.6666666666666666,\"#ed7953\"],[0.7777777777777778,\"#fb9f3a\"],[0.8888888888888888,\"#fdca26\"],[1.0,\"#f0f921\"]],\"sequentialminus\":[[0.0,\"#0d0887\"],[0.1111111111111111,\"#46039f\"],[0.2222222222222222,\"#7201a8\"],[0.3333333333333333,\"#9c179e\"],[0.4444444444444444,\"#bd3786\"],[0.5555555555555556,\"#d8576b\"],[0.6666666666666666,\"#ed7953\"],[0.7777777777777778,\"#fb9f3a\"],[0.8888888888888888,\"#fdca26\"],[1.0,\"#f0f921\"]]},\"colorway\":[\"#636efa\",\"#EF553B\",\"#00cc96\",\"#ab63fa\",\"#FFA15A\",\"#19d3f3\",\"#FF6692\",\"#B6E880\",\"#FF97FF\",\"#FECB52\"],\"font\":{\"color\":\"#2a3f5f\"},\"geo\":{\"bgcolor\":\"white\",\"lakecolor\":\"white\",\"landcolor\":\"#E5ECF6\",\"showlakes\":true,\"showland\":true,\"subunitcolor\":\"white\"},\"hoverlabel\":{\"align\":\"left\"},\"hovermode\":\"closest\",\"mapbox\":{\"style\":\"light\"},\"paper_bgcolor\":\"white\",\"plot_bgcolor\":\"#E5ECF6\",\"polar\":{\"angularaxis\":{\"gridcolor\":\"white\",\"linecolor\":\"white\",\"ticks\":\"\"},\"bgcolor\":\"#E5ECF6\",\"radialaxis\":{\"gridcolor\":\"white\",\"linecolor\":\"white\",\"ticks\":\"\"}},\"scene\":{\"xaxis\":{\"backgroundcolor\":\"#E5ECF6\",\"gridcolor\":\"white\",\"gridwidth\":2,\"linecolor\":\"white\",\"showbackground\":true,\"ticks\":\"\",\"zerolinecolor\":\"white\"},\"yaxis\":{\"backgroundcolor\":\"#E5ECF6\",\"gridcolor\":\"white\",\"gridwidth\":2,\"linecolor\":\"white\",\"showbackground\":true,\"ticks\":\"\",\"zerolinecolor\":\"white\"},\"zaxis\":{\"backgroundcolor\":\"#E5ECF6\",\"gridcolor\":\"white\",\"gridwidth\":2,\"linecolor\":\"white\",\"showbackground\":true,\"ticks\":\"\",\"zerolinecolor\":\"white\"}},\"shapedefaults\":{\"line\":{\"color\":\"#2a3f5f\"}},\"ternary\":{\"aaxis\":{\"gridcolor\":\"white\",\"linecolor\":\"white\",\"ticks\":\"\"},\"baxis\":{\"gridcolor\":\"white\",\"linecolor\":\"white\",\"ticks\":\"\"},\"bgcolor\":\"#E5ECF6\",\"caxis\":{\"gridcolor\":\"white\",\"linecolor\":\"white\",\"ticks\":\"\"}},\"title\":{\"x\":0.05},\"xaxis\":{\"automargin\":true,\"gridcolor\":\"white\",\"linecolor\":\"white\",\"ticks\":\"\",\"title\":{\"standoff\":15},\"zerolinecolor\":\"white\",\"zerolinewidth\":2},\"yaxis\":{\"automargin\":true,\"gridcolor\":\"white\",\"linecolor\":\"white\",\"ticks\":\"\",\"title\":{\"standoff\":15},\"zerolinecolor\":\"white\",\"zerolinewidth\":2}}},\"xaxis\":{\"anchor\":\"y\",\"domain\":[0.0,1.0],\"title\":{\"text\":\"episode\"}},\"yaxis\":{\"anchor\":\"x\",\"domain\":[0.0,1.0],\"title\":{\"text\":\"value\"}}},                        {\"responsive\": true}                    ).then(function(){\n",
       "                            \n",
       "var gd = document.getElementById('0181faec-44b1-471e-aa93-008527fb4901');\n",
       "var x = new MutationObserver(function (mutations, observer) {{\n",
       "        var display = window.getComputedStyle(gd).display;\n",
       "        if (!display || display === 'none') {{\n",
       "            console.log([gd, 'removed!']);\n",
       "            Plotly.purge(gd);\n",
       "            observer.disconnect();\n",
       "        }}\n",
       "}});\n",
       "\n",
       "// Listen for the removal of the full notebook cells\n",
       "var notebookContainer = gd.closest('#notebook-container');\n",
       "if (notebookContainer) {{\n",
       "    x.observe(notebookContainer, {childList: true});\n",
       "}}\n",
       "\n",
       "// Listen for the clearing of the current output cell\n",
       "var outputEl = gd.closest('.output');\n",
       "if (outputEl) {{\n",
       "    x.observe(outputEl, {childList: true});\n",
       "}}\n",
       "\n",
       "                        })                };                });            </script>        </div>"
      ]
     },
     "metadata": {},
     "output_type": "display_data"
    }
   ],
   "source": [
    "fig = px.line(df,x='episode', y=[\"average_total_reward\", \"total_episode_reward\"], hover_data=[\"episode_length\"])\n",
    "fig.show()"
   ]
  },
  {
   "cell_type": "markdown",
   "id": "a7deb8f2",
   "metadata": {},
   "source": [
    "## Inspect memory"
   ]
  },
  {
   "cell_type": "markdown",
   "id": "85afcf3e",
   "metadata": {},
   "source": [
    "Import the environment to have the denormalize functions and env info"
   ]
  },
  {
   "cell_type": "code",
   "execution_count": 30,
   "id": "6235c1fb",
   "metadata": {},
   "outputs": [],
   "source": [
    "env_config = OmegaConf.load(\"hep_tools.yaml\")\n",
    "env = gym.make('PhenoEnvContinuous-v0', env_config=env_config)"
   ]
  },
  {
   "cell_type": "code",
   "execution_count": 31,
   "id": "7f7db913",
   "metadata": {},
   "outputs": [],
   "source": [
    "memory_path = os.path.join(chckpt_path, 'memory.pickle')\n",
    "with open(memory_path, 'rb') as f:\n",
    "    memory = pickle.load(f)"
   ]
  },
  {
   "cell_type": "code",
   "execution_count": 32,
   "id": "0056380e",
   "metadata": {},
   "outputs": [
    {
     "name": "stdout",
     "output_type": "stream",
     "text": [
      "Number of experiences in memory:  987\n"
     ]
    }
   ],
   "source": [
    "print('Number of experiences in memory: ',len( memory))"
   ]
  },
  {
   "cell_type": "code",
   "execution_count": 33,
   "id": "55da5dae",
   "metadata": {},
   "outputs": [
    {
     "data": {
      "text/html": [
       "<div>\n",
       "<style scoped>\n",
       "    .dataframe tbody tr th:only-of-type {\n",
       "        vertical-align: middle;\n",
       "    }\n",
       "\n",
       "    .dataframe tbody tr th {\n",
       "        vertical-align: top;\n",
       "    }\n",
       "\n",
       "    .dataframe thead th {\n",
       "        text-align: right;\n",
       "    }\n",
       "</style>\n",
       "<table border=\"1\" class=\"dataframe\">\n",
       "  <thead>\n",
       "    <tr style=\"text-align: right;\">\n",
       "      <th></th>\n",
       "      <th>Mh(1)</th>\n",
       "      <th>Mh(2)</th>\n",
       "      <th>obsratio</th>\n",
       "      <th>csq(tot)</th>\n",
       "      <th>m0</th>\n",
       "      <th>m12</th>\n",
       "      <th>a0</th>\n",
       "      <th>tanbeta</th>\n",
       "      <th>reward</th>\n",
       "      <th>Mh(1)_prime</th>\n",
       "      <th>Mh(2)_prime</th>\n",
       "      <th>obsratio_prime</th>\n",
       "      <th>csq(tot)_prime</th>\n",
       "      <th>done</th>\n",
       "    </tr>\n",
       "  </thead>\n",
       "  <tbody>\n",
       "    <tr>\n",
       "      <th>0</th>\n",
       "      <td>82.6228</td>\n",
       "      <td>122.053</td>\n",
       "      <td>2.38865</td>\n",
       "      <td>621.57</td>\n",
       "      <td>733.445515</td>\n",
       "      <td>2935.354827</td>\n",
       "      <td>2805.925786</td>\n",
       "      <td>21.832763</td>\n",
       "      <td>-74.941659</td>\n",
       "      <td>120.129</td>\n",
       "      <td>175.859</td>\n",
       "      <td>1.26025</td>\n",
       "      <td>630.848</td>\n",
       "      <td>False</td>\n",
       "    </tr>\n",
       "    <tr>\n",
       "      <th>1</th>\n",
       "      <td>120.129</td>\n",
       "      <td>175.859</td>\n",
       "      <td>1.26025</td>\n",
       "      <td>630.848</td>\n",
       "      <td>728.289491</td>\n",
       "      <td>2829.395221</td>\n",
       "      <td>2661.922678</td>\n",
       "      <td>23.276235</td>\n",
       "      <td>-2.941702</td>\n",
       "      <td>120.356</td>\n",
       "      <td>183.673</td>\n",
       "      <td>1.2097</td>\n",
       "      <td>630.443</td>\n",
       "      <td>False</td>\n",
       "    </tr>\n",
       "    <tr>\n",
       "      <th>2</th>\n",
       "      <td>120.356</td>\n",
       "      <td>183.673</td>\n",
       "      <td>1.2097</td>\n",
       "      <td>630.443</td>\n",
       "      <td>729.554984</td>\n",
       "      <td>2804.17019</td>\n",
       "      <td>2655.939329</td>\n",
       "      <td>23.4134</td>\n",
       "      <td>10.153743</td>\n",
       "      <td>120.332</td>\n",
       "      <td>183.245</td>\n",
       "      <td>1.21568</td>\n",
       "      <td>630.543</td>\n",
       "      <td>False</td>\n",
       "    </tr>\n",
       "    <tr>\n",
       "      <th>3</th>\n",
       "      <td>120.332</td>\n",
       "      <td>183.245</td>\n",
       "      <td>1.21568</td>\n",
       "      <td>630.543</td>\n",
       "      <td>726.929155</td>\n",
       "      <td>2804.384472</td>\n",
       "      <td>2663.973562</td>\n",
       "      <td>23.201375</td>\n",
       "      <td>10.168444</td>\n",
       "      <td>120.318</td>\n",
       "      <td>182.77</td>\n",
       "      <td>1.21898</td>\n",
       "      <td>630.584</td>\n",
       "      <td>False</td>\n",
       "    </tr>\n",
       "    <tr>\n",
       "      <th>4</th>\n",
       "      <td>120.318</td>\n",
       "      <td>182.77</td>\n",
       "      <td>1.21898</td>\n",
       "      <td>630.584</td>\n",
       "      <td>723.581503</td>\n",
       "      <td>2818.198995</td>\n",
       "      <td>2662.879881</td>\n",
       "      <td>23.21796</td>\n",
       "      <td>-0.261797</td>\n",
       "      <td>120.347</td>\n",
       "      <td>183.504</td>\n",
       "      <td>1.21195</td>\n",
       "      <td>630.487</td>\n",
       "      <td>False</td>\n",
       "    </tr>\n",
       "    <tr>\n",
       "      <th>...</th>\n",
       "      <td>...</td>\n",
       "      <td>...</td>\n",
       "      <td>...</td>\n",
       "      <td>...</td>\n",
       "      <td>...</td>\n",
       "      <td>...</td>\n",
       "      <td>...</td>\n",
       "      <td>...</td>\n",
       "      <td>...</td>\n",
       "      <td>...</td>\n",
       "      <td>...</td>\n",
       "      <td>...</td>\n",
       "      <td>...</td>\n",
       "      <td>...</td>\n",
       "    </tr>\n",
       "    <tr>\n",
       "      <th>982</th>\n",
       "      <td>112.723</td>\n",
       "      <td>122.898</td>\n",
       "      <td>1.69959</td>\n",
       "      <td>301.383</td>\n",
       "      <td>997.243252</td>\n",
       "      <td>3212.458692</td>\n",
       "      <td>4000.0</td>\n",
       "      <td>43.204387</td>\n",
       "      <td>-20.0</td>\n",
       "      <td>112.723</td>\n",
       "      <td>122.898</td>\n",
       "      <td>1.69959</td>\n",
       "      <td>301.383</td>\n",
       "      <td>False</td>\n",
       "    </tr>\n",
       "    <tr>\n",
       "      <th>983</th>\n",
       "      <td>112.723</td>\n",
       "      <td>122.898</td>\n",
       "      <td>1.69959</td>\n",
       "      <td>301.383</td>\n",
       "      <td>993.569055</td>\n",
       "      <td>3166.659418</td>\n",
       "      <td>4000.0</td>\n",
       "      <td>42.77005</td>\n",
       "      <td>-20.0</td>\n",
       "      <td>112.723</td>\n",
       "      <td>122.898</td>\n",
       "      <td>1.69959</td>\n",
       "      <td>301.383</td>\n",
       "      <td>False</td>\n",
       "    </tr>\n",
       "    <tr>\n",
       "      <th>984</th>\n",
       "      <td>112.723</td>\n",
       "      <td>122.898</td>\n",
       "      <td>1.69959</td>\n",
       "      <td>301.383</td>\n",
       "      <td>996.703002</td>\n",
       "      <td>3171.097208</td>\n",
       "      <td>4000.0</td>\n",
       "      <td>42.140106</td>\n",
       "      <td>-20.0</td>\n",
       "      <td>112.723</td>\n",
       "      <td>122.898</td>\n",
       "      <td>1.69959</td>\n",
       "      <td>301.383</td>\n",
       "      <td>False</td>\n",
       "    </tr>\n",
       "    <tr>\n",
       "      <th>985</th>\n",
       "      <td>112.723</td>\n",
       "      <td>122.898</td>\n",
       "      <td>1.69959</td>\n",
       "      <td>301.383</td>\n",
       "      <td>999.879247</td>\n",
       "      <td>3193.470389</td>\n",
       "      <td>4000.0</td>\n",
       "      <td>42.359857</td>\n",
       "      <td>-20.0</td>\n",
       "      <td>112.723</td>\n",
       "      <td>122.898</td>\n",
       "      <td>1.69959</td>\n",
       "      <td>301.383</td>\n",
       "      <td>False</td>\n",
       "    </tr>\n",
       "    <tr>\n",
       "      <th>986</th>\n",
       "      <td>112.723</td>\n",
       "      <td>122.898</td>\n",
       "      <td>1.69959</td>\n",
       "      <td>301.383</td>\n",
       "      <td>1000.0</td>\n",
       "      <td>3257.727638</td>\n",
       "      <td>4000.0</td>\n",
       "      <td>42.613377</td>\n",
       "      <td>-20.0</td>\n",
       "      <td>112.723</td>\n",
       "      <td>122.898</td>\n",
       "      <td>1.69959</td>\n",
       "      <td>301.383</td>\n",
       "      <td>True</td>\n",
       "    </tr>\n",
       "  </tbody>\n",
       "</table>\n",
       "<p>987 rows × 14 columns</p>\n",
       "</div>"
      ],
      "text/plain": [
       "       Mh(1)    Mh(2) obsratio csq(tot)          m0          m12           a0  \\\n",
       "0    82.6228  122.053  2.38865   621.57  733.445515  2935.354827  2805.925786   \n",
       "1    120.129  175.859  1.26025  630.848  728.289491  2829.395221  2661.922678   \n",
       "2    120.356  183.673   1.2097  630.443  729.554984   2804.17019  2655.939329   \n",
       "3    120.332  183.245  1.21568  630.543  726.929155  2804.384472  2663.973562   \n",
       "4    120.318   182.77  1.21898  630.584  723.581503  2818.198995  2662.879881   \n",
       "..       ...      ...      ...      ...         ...          ...          ...   \n",
       "982  112.723  122.898  1.69959  301.383  997.243252  3212.458692       4000.0   \n",
       "983  112.723  122.898  1.69959  301.383  993.569055  3166.659418       4000.0   \n",
       "984  112.723  122.898  1.69959  301.383  996.703002  3171.097208       4000.0   \n",
       "985  112.723  122.898  1.69959  301.383  999.879247  3193.470389       4000.0   \n",
       "986  112.723  122.898  1.69959  301.383      1000.0  3257.727638       4000.0   \n",
       "\n",
       "       tanbeta     reward Mh(1)_prime Mh(2)_prime obsratio_prime  \\\n",
       "0    21.832763 -74.941659     120.129     175.859        1.26025   \n",
       "1    23.276235  -2.941702     120.356     183.673         1.2097   \n",
       "2      23.4134  10.153743     120.332     183.245        1.21568   \n",
       "3    23.201375  10.168444     120.318      182.77        1.21898   \n",
       "4     23.21796  -0.261797     120.347     183.504        1.21195   \n",
       "..         ...        ...         ...         ...            ...   \n",
       "982  43.204387      -20.0     112.723     122.898        1.69959   \n",
       "983   42.77005      -20.0     112.723     122.898        1.69959   \n",
       "984  42.140106      -20.0     112.723     122.898        1.69959   \n",
       "985  42.359857      -20.0     112.723     122.898        1.69959   \n",
       "986  42.613377      -20.0     112.723     122.898        1.69959   \n",
       "\n",
       "    csq(tot)_prime   done  \n",
       "0          630.848  False  \n",
       "1          630.443  False  \n",
       "2          630.543  False  \n",
       "3          630.584  False  \n",
       "4          630.487  False  \n",
       "..             ...    ...  \n",
       "982        301.383  False  \n",
       "983        301.383  False  \n",
       "984        301.383  False  \n",
       "985        301.383  False  \n",
       "986        301.383   True  \n",
       "\n",
       "[987 rows x 14 columns]"
      ]
     },
     "execution_count": 33,
     "metadata": {},
     "output_type": "execute_result"
    }
   ],
   "source": [
    "colums_memory_df =  env_config.model.observation.name\\\n",
    "    + env_config.model.parameters.name\\\n",
    "    + ['reward']\\\n",
    "    + [ns + '_prime' for ns in env_config.model.observation.name]\\\n",
    "    + [\"done\"]\n",
    "\n",
    "memory_df = pd.DataFrame({}, columns=colums_memory_df, index=range(len(memory)))\n",
    "\n",
    "state_len = len(env_config.model.observation.name)\n",
    "action_len = len(env_config.model.parameters.name)\n",
    "\n",
    "for i in range(len(memory)):\n",
    "    params_iterate = zip(\n",
    "        env_config.model.observation.name,\n",
    "        env.denormalize_action(memory[i].state, state=True)\n",
    "        )\n",
    "    for name, value in params_iterate:\n",
    "        memory_df[name][i] = value \n",
    "        \n",
    "    params_iterate = zip(\n",
    "        [ns + '_prime' for ns in env_config.model.observation.name],\n",
    "        env.denormalize_action(memory[i].new_state, state=True)\n",
    "        )\n",
    "    for name, value in params_iterate:\n",
    "        memory_df[name][i] = value\n",
    "    \n",
    "    params_iterate = zip(\n",
    "        env_config.model.parameters.name,\n",
    "        env.denormalize_action(memory[i].action)\n",
    "        )\n",
    "    for name, value in params_iterate:\n",
    "        memory_df[name][i] = value\n",
    "        \n",
    "    memory_df['reward'][i] = memory[i].reward\n",
    "    memory_df['done'][i] = memory[i].done\n",
    "    \n",
    "    \n",
    "memory_df"
   ]
  },
  {
   "cell_type": "code",
   "execution_count": 34,
   "id": "d310494d",
   "metadata": {},
   "outputs": [],
   "source": [
    "select_done = memory_df.done == True"
   ]
  },
  {
   "cell_type": "code",
   "execution_count": 36,
   "id": "c0cfaa50",
   "metadata": {},
   "outputs": [
    {
     "data": {
      "application/vnd.plotly.v1+json": {
       "config": {
        "plotlyServerURL": "https://plot.ly"
       },
       "data": [
        {
         "hovertemplate": "done=True<br>Mh(1)=%{x}<br>Mh(2)=%{y}<extra></extra>",
         "legendgroup": "True",
         "marker": {
          "color": "#636efa",
          "symbol": "circle"
         },
         "mode": "markers",
         "name": "True",
         "orientation": "v",
         "showlegend": true,
         "type": "scatter",
         "x": [
          120.65100000000001,
          118.43000000000004,
          115.74200000000002,
          116.23499999999997,
          116.44100000000002,
          115.595,
          110.83599999999998,
          110.87999999999998,
          113.40899999999998,
          89.14169999999999,
          114.54799999999999,
          112.59200000000003,
          79.48060000000001,
          114.79699999999998,
          113.47600000000003,
          99.1457,
          113.369,
          68.65300000000002,
          106.19699999999999,
          113.38199999999998,
          109.21999999999998,
          113.53099999999999,
          102.97600000000001,
          106.73500000000003,
          108.962,
          101.42400000000002,
          114.21999999999998,
          98.46759999999999,
          114.61100000000002,
          113.22399999999999,
          92.20289999999997,
          102.45599999999999,
          113.38799999999999,
          94.1494,
          113.533,
          93.72159999999997,
          116.75400000000002,
          113.34100000000002,
          111.24500000000003,
          44.16599999999998,
          108.31299999999999,
          102.398,
          111.02899999999998,
          96.47749999999999,
          112.49999999999999,
          107.75400000000002,
          111.37200000000003,
          111.36099999999999,
          42.32170000000002,
          112.72300000000001
         ],
         "xaxis": "x",
         "y": [
          200.577,
          152.507,
          155.85099999999997,
          147.373,
          130.413,
          149.49500000000003,
          142.88,
          122.77100000000002,
          123.27799999999999,
          123.29200000000002,
          123.13200000000002,
          123.18299999999999,
          125.68499999999999,
          136.324,
          122.93699999999997,
          118.46499999999999,
          123.674,
          124.29800000000002,
          119.22399999999999,
          122.697,
          129.48099999999997,
          122.90899999999999,
          118.45499999999998,
          118.63800000000002,
          118.23800000000001,
          118.149,
          127.189,
          118.05500000000002,
          128.122,
          123.84400000000001,
          117.44299999999997,
          117.86200000000002,
          125.80400000000003,
          117.585,
          126.60099999999997,
          117.55300000000003,
          168.755,
          122.67300000000003,
          122.944,
          122.84400000000001,
          123.13200000000002,
          123.77,
          123.88100000000001,
          123.71100000000001,
          124.12,
          123.94899999999997,
          122.59100000000001,
          123.031,
          123.47200000000002,
          122.89800000000001
         ],
         "yaxis": "y"
        },
        {
         "alignmentgroup": "True",
         "bingroup": "x",
         "hovertemplate": "done=True<br>Mh(1)=%{x}<br>count=%{y}<extra></extra>",
         "legendgroup": "True",
         "marker": {
          "color": "#636efa"
         },
         "name": "True",
         "offsetgroup": "True",
         "opacity": 0.5,
         "showlegend": false,
         "type": "histogram",
         "x": [
          120.65100000000001,
          118.43000000000004,
          115.74200000000002,
          116.23499999999997,
          116.44100000000002,
          115.595,
          110.83599999999998,
          110.87999999999998,
          113.40899999999998,
          89.14169999999999,
          114.54799999999999,
          112.59200000000003,
          79.48060000000001,
          114.79699999999998,
          113.47600000000003,
          99.1457,
          113.369,
          68.65300000000002,
          106.19699999999999,
          113.38199999999998,
          109.21999999999998,
          113.53099999999999,
          102.97600000000001,
          106.73500000000003,
          108.962,
          101.42400000000002,
          114.21999999999998,
          98.46759999999999,
          114.61100000000002,
          113.22399999999999,
          92.20289999999997,
          102.45599999999999,
          113.38799999999999,
          94.1494,
          113.533,
          93.72159999999997,
          116.75400000000002,
          113.34100000000002,
          111.24500000000003,
          44.16599999999998,
          108.31299999999999,
          102.398,
          111.02899999999998,
          96.47749999999999,
          112.49999999999999,
          107.75400000000002,
          111.37200000000003,
          111.36099999999999,
          42.32170000000002,
          112.72300000000001
         ],
         "xaxis": "x3",
         "yaxis": "y3"
        },
        {
         "alignmentgroup": "True",
         "bingroup": "y",
         "hovertemplate": "done=True<br>Mh(2)=%{y}<br>count=%{x}<extra></extra>",
         "legendgroup": "True",
         "marker": {
          "color": "#636efa"
         },
         "name": "True",
         "offsetgroup": "True",
         "opacity": 0.5,
         "showlegend": false,
         "type": "histogram",
         "xaxis": "x2",
         "y": [
          200.577,
          152.507,
          155.85099999999997,
          147.373,
          130.413,
          149.49500000000003,
          142.88,
          122.77100000000002,
          123.27799999999999,
          123.29200000000002,
          123.13200000000002,
          123.18299999999999,
          125.68499999999999,
          136.324,
          122.93699999999997,
          118.46499999999999,
          123.674,
          124.29800000000002,
          119.22399999999999,
          122.697,
          129.48099999999997,
          122.90899999999999,
          118.45499999999998,
          118.63800000000002,
          118.23800000000001,
          118.149,
          127.189,
          118.05500000000002,
          128.122,
          123.84400000000001,
          117.44299999999997,
          117.86200000000002,
          125.80400000000003,
          117.585,
          126.60099999999997,
          117.55300000000003,
          168.755,
          122.67300000000003,
          122.944,
          122.84400000000001,
          123.13200000000002,
          123.77,
          123.88100000000001,
          123.71100000000001,
          124.12,
          123.94899999999997,
          122.59100000000001,
          123.031,
          123.47200000000002,
          122.89800000000001
         ],
         "yaxis": "y2"
        }
       ],
       "layout": {
        "barmode": "overlay",
        "legend": {
         "title": {
          "text": "done"
         },
         "tracegroupgap": 0
        },
        "margin": {
         "t": 60
        },
        "template": {
         "data": {
          "bar": [
           {
            "error_x": {
             "color": "#2a3f5f"
            },
            "error_y": {
             "color": "#2a3f5f"
            },
            "marker": {
             "line": {
              "color": "#E5ECF6",
              "width": 0.5
             },
             "pattern": {
              "fillmode": "overlay",
              "size": 10,
              "solidity": 0.2
             }
            },
            "type": "bar"
           }
          ],
          "barpolar": [
           {
            "marker": {
             "line": {
              "color": "#E5ECF6",
              "width": 0.5
             },
             "pattern": {
              "fillmode": "overlay",
              "size": 10,
              "solidity": 0.2
             }
            },
            "type": "barpolar"
           }
          ],
          "carpet": [
           {
            "aaxis": {
             "endlinecolor": "#2a3f5f",
             "gridcolor": "white",
             "linecolor": "white",
             "minorgridcolor": "white",
             "startlinecolor": "#2a3f5f"
            },
            "baxis": {
             "endlinecolor": "#2a3f5f",
             "gridcolor": "white",
             "linecolor": "white",
             "minorgridcolor": "white",
             "startlinecolor": "#2a3f5f"
            },
            "type": "carpet"
           }
          ],
          "choropleth": [
           {
            "colorbar": {
             "outlinewidth": 0,
             "ticks": ""
            },
            "type": "choropleth"
           }
          ],
          "contour": [
           {
            "colorbar": {
             "outlinewidth": 0,
             "ticks": ""
            },
            "colorscale": [
             [
              0,
              "#0d0887"
             ],
             [
              0.1111111111111111,
              "#46039f"
             ],
             [
              0.2222222222222222,
              "#7201a8"
             ],
             [
              0.3333333333333333,
              "#9c179e"
             ],
             [
              0.4444444444444444,
              "#bd3786"
             ],
             [
              0.5555555555555556,
              "#d8576b"
             ],
             [
              0.6666666666666666,
              "#ed7953"
             ],
             [
              0.7777777777777778,
              "#fb9f3a"
             ],
             [
              0.8888888888888888,
              "#fdca26"
             ],
             [
              1,
              "#f0f921"
             ]
            ],
            "type": "contour"
           }
          ],
          "contourcarpet": [
           {
            "colorbar": {
             "outlinewidth": 0,
             "ticks": ""
            },
            "type": "contourcarpet"
           }
          ],
          "heatmap": [
           {
            "colorbar": {
             "outlinewidth": 0,
             "ticks": ""
            },
            "colorscale": [
             [
              0,
              "#0d0887"
             ],
             [
              0.1111111111111111,
              "#46039f"
             ],
             [
              0.2222222222222222,
              "#7201a8"
             ],
             [
              0.3333333333333333,
              "#9c179e"
             ],
             [
              0.4444444444444444,
              "#bd3786"
             ],
             [
              0.5555555555555556,
              "#d8576b"
             ],
             [
              0.6666666666666666,
              "#ed7953"
             ],
             [
              0.7777777777777778,
              "#fb9f3a"
             ],
             [
              0.8888888888888888,
              "#fdca26"
             ],
             [
              1,
              "#f0f921"
             ]
            ],
            "type": "heatmap"
           }
          ],
          "heatmapgl": [
           {
            "colorbar": {
             "outlinewidth": 0,
             "ticks": ""
            },
            "colorscale": [
             [
              0,
              "#0d0887"
             ],
             [
              0.1111111111111111,
              "#46039f"
             ],
             [
              0.2222222222222222,
              "#7201a8"
             ],
             [
              0.3333333333333333,
              "#9c179e"
             ],
             [
              0.4444444444444444,
              "#bd3786"
             ],
             [
              0.5555555555555556,
              "#d8576b"
             ],
             [
              0.6666666666666666,
              "#ed7953"
             ],
             [
              0.7777777777777778,
              "#fb9f3a"
             ],
             [
              0.8888888888888888,
              "#fdca26"
             ],
             [
              1,
              "#f0f921"
             ]
            ],
            "type": "heatmapgl"
           }
          ],
          "histogram": [
           {
            "marker": {
             "pattern": {
              "fillmode": "overlay",
              "size": 10,
              "solidity": 0.2
             }
            },
            "type": "histogram"
           }
          ],
          "histogram2d": [
           {
            "colorbar": {
             "outlinewidth": 0,
             "ticks": ""
            },
            "colorscale": [
             [
              0,
              "#0d0887"
             ],
             [
              0.1111111111111111,
              "#46039f"
             ],
             [
              0.2222222222222222,
              "#7201a8"
             ],
             [
              0.3333333333333333,
              "#9c179e"
             ],
             [
              0.4444444444444444,
              "#bd3786"
             ],
             [
              0.5555555555555556,
              "#d8576b"
             ],
             [
              0.6666666666666666,
              "#ed7953"
             ],
             [
              0.7777777777777778,
              "#fb9f3a"
             ],
             [
              0.8888888888888888,
              "#fdca26"
             ],
             [
              1,
              "#f0f921"
             ]
            ],
            "type": "histogram2d"
           }
          ],
          "histogram2dcontour": [
           {
            "colorbar": {
             "outlinewidth": 0,
             "ticks": ""
            },
            "colorscale": [
             [
              0,
              "#0d0887"
             ],
             [
              0.1111111111111111,
              "#46039f"
             ],
             [
              0.2222222222222222,
              "#7201a8"
             ],
             [
              0.3333333333333333,
              "#9c179e"
             ],
             [
              0.4444444444444444,
              "#bd3786"
             ],
             [
              0.5555555555555556,
              "#d8576b"
             ],
             [
              0.6666666666666666,
              "#ed7953"
             ],
             [
              0.7777777777777778,
              "#fb9f3a"
             ],
             [
              0.8888888888888888,
              "#fdca26"
             ],
             [
              1,
              "#f0f921"
             ]
            ],
            "type": "histogram2dcontour"
           }
          ],
          "mesh3d": [
           {
            "colorbar": {
             "outlinewidth": 0,
             "ticks": ""
            },
            "type": "mesh3d"
           }
          ],
          "parcoords": [
           {
            "line": {
             "colorbar": {
              "outlinewidth": 0,
              "ticks": ""
             }
            },
            "type": "parcoords"
           }
          ],
          "pie": [
           {
            "automargin": true,
            "type": "pie"
           }
          ],
          "scatter": [
           {
            "marker": {
             "colorbar": {
              "outlinewidth": 0,
              "ticks": ""
             }
            },
            "type": "scatter"
           }
          ],
          "scatter3d": [
           {
            "line": {
             "colorbar": {
              "outlinewidth": 0,
              "ticks": ""
             }
            },
            "marker": {
             "colorbar": {
              "outlinewidth": 0,
              "ticks": ""
             }
            },
            "type": "scatter3d"
           }
          ],
          "scattercarpet": [
           {
            "marker": {
             "colorbar": {
              "outlinewidth": 0,
              "ticks": ""
             }
            },
            "type": "scattercarpet"
           }
          ],
          "scattergeo": [
           {
            "marker": {
             "colorbar": {
              "outlinewidth": 0,
              "ticks": ""
             }
            },
            "type": "scattergeo"
           }
          ],
          "scattergl": [
           {
            "marker": {
             "colorbar": {
              "outlinewidth": 0,
              "ticks": ""
             }
            },
            "type": "scattergl"
           }
          ],
          "scattermapbox": [
           {
            "marker": {
             "colorbar": {
              "outlinewidth": 0,
              "ticks": ""
             }
            },
            "type": "scattermapbox"
           }
          ],
          "scatterpolar": [
           {
            "marker": {
             "colorbar": {
              "outlinewidth": 0,
              "ticks": ""
             }
            },
            "type": "scatterpolar"
           }
          ],
          "scatterpolargl": [
           {
            "marker": {
             "colorbar": {
              "outlinewidth": 0,
              "ticks": ""
             }
            },
            "type": "scatterpolargl"
           }
          ],
          "scatterternary": [
           {
            "marker": {
             "colorbar": {
              "outlinewidth": 0,
              "ticks": ""
             }
            },
            "type": "scatterternary"
           }
          ],
          "surface": [
           {
            "colorbar": {
             "outlinewidth": 0,
             "ticks": ""
            },
            "colorscale": [
             [
              0,
              "#0d0887"
             ],
             [
              0.1111111111111111,
              "#46039f"
             ],
             [
              0.2222222222222222,
              "#7201a8"
             ],
             [
              0.3333333333333333,
              "#9c179e"
             ],
             [
              0.4444444444444444,
              "#bd3786"
             ],
             [
              0.5555555555555556,
              "#d8576b"
             ],
             [
              0.6666666666666666,
              "#ed7953"
             ],
             [
              0.7777777777777778,
              "#fb9f3a"
             ],
             [
              0.8888888888888888,
              "#fdca26"
             ],
             [
              1,
              "#f0f921"
             ]
            ],
            "type": "surface"
           }
          ],
          "table": [
           {
            "cells": {
             "fill": {
              "color": "#EBF0F8"
             },
             "line": {
              "color": "white"
             }
            },
            "header": {
             "fill": {
              "color": "#C8D4E3"
             },
             "line": {
              "color": "white"
             }
            },
            "type": "table"
           }
          ]
         },
         "layout": {
          "annotationdefaults": {
           "arrowcolor": "#2a3f5f",
           "arrowhead": 0,
           "arrowwidth": 1
          },
          "autotypenumbers": "strict",
          "coloraxis": {
           "colorbar": {
            "outlinewidth": 0,
            "ticks": ""
           }
          },
          "colorscale": {
           "diverging": [
            [
             0,
             "#8e0152"
            ],
            [
             0.1,
             "#c51b7d"
            ],
            [
             0.2,
             "#de77ae"
            ],
            [
             0.3,
             "#f1b6da"
            ],
            [
             0.4,
             "#fde0ef"
            ],
            [
             0.5,
             "#f7f7f7"
            ],
            [
             0.6,
             "#e6f5d0"
            ],
            [
             0.7,
             "#b8e186"
            ],
            [
             0.8,
             "#7fbc41"
            ],
            [
             0.9,
             "#4d9221"
            ],
            [
             1,
             "#276419"
            ]
           ],
           "sequential": [
            [
             0,
             "#0d0887"
            ],
            [
             0.1111111111111111,
             "#46039f"
            ],
            [
             0.2222222222222222,
             "#7201a8"
            ],
            [
             0.3333333333333333,
             "#9c179e"
            ],
            [
             0.4444444444444444,
             "#bd3786"
            ],
            [
             0.5555555555555556,
             "#d8576b"
            ],
            [
             0.6666666666666666,
             "#ed7953"
            ],
            [
             0.7777777777777778,
             "#fb9f3a"
            ],
            [
             0.8888888888888888,
             "#fdca26"
            ],
            [
             1,
             "#f0f921"
            ]
           ],
           "sequentialminus": [
            [
             0,
             "#0d0887"
            ],
            [
             0.1111111111111111,
             "#46039f"
            ],
            [
             0.2222222222222222,
             "#7201a8"
            ],
            [
             0.3333333333333333,
             "#9c179e"
            ],
            [
             0.4444444444444444,
             "#bd3786"
            ],
            [
             0.5555555555555556,
             "#d8576b"
            ],
            [
             0.6666666666666666,
             "#ed7953"
            ],
            [
             0.7777777777777778,
             "#fb9f3a"
            ],
            [
             0.8888888888888888,
             "#fdca26"
            ],
            [
             1,
             "#f0f921"
            ]
           ]
          },
          "colorway": [
           "#636efa",
           "#EF553B",
           "#00cc96",
           "#ab63fa",
           "#FFA15A",
           "#19d3f3",
           "#FF6692",
           "#B6E880",
           "#FF97FF",
           "#FECB52"
          ],
          "font": {
           "color": "#2a3f5f"
          },
          "geo": {
           "bgcolor": "white",
           "lakecolor": "white",
           "landcolor": "#E5ECF6",
           "showlakes": true,
           "showland": true,
           "subunitcolor": "white"
          },
          "hoverlabel": {
           "align": "left"
          },
          "hovermode": "closest",
          "mapbox": {
           "style": "light"
          },
          "paper_bgcolor": "white",
          "plot_bgcolor": "#E5ECF6",
          "polar": {
           "angularaxis": {
            "gridcolor": "white",
            "linecolor": "white",
            "ticks": ""
           },
           "bgcolor": "#E5ECF6",
           "radialaxis": {
            "gridcolor": "white",
            "linecolor": "white",
            "ticks": ""
           }
          },
          "scene": {
           "xaxis": {
            "backgroundcolor": "#E5ECF6",
            "gridcolor": "white",
            "gridwidth": 2,
            "linecolor": "white",
            "showbackground": true,
            "ticks": "",
            "zerolinecolor": "white"
           },
           "yaxis": {
            "backgroundcolor": "#E5ECF6",
            "gridcolor": "white",
            "gridwidth": 2,
            "linecolor": "white",
            "showbackground": true,
            "ticks": "",
            "zerolinecolor": "white"
           },
           "zaxis": {
            "backgroundcolor": "#E5ECF6",
            "gridcolor": "white",
            "gridwidth": 2,
            "linecolor": "white",
            "showbackground": true,
            "ticks": "",
            "zerolinecolor": "white"
           }
          },
          "shapedefaults": {
           "line": {
            "color": "#2a3f5f"
           }
          },
          "ternary": {
           "aaxis": {
            "gridcolor": "white",
            "linecolor": "white",
            "ticks": ""
           },
           "baxis": {
            "gridcolor": "white",
            "linecolor": "white",
            "ticks": ""
           },
           "bgcolor": "#E5ECF6",
           "caxis": {
            "gridcolor": "white",
            "linecolor": "white",
            "ticks": ""
           }
          },
          "title": {
           "x": 0.05
          },
          "xaxis": {
           "automargin": true,
           "gridcolor": "white",
           "linecolor": "white",
           "ticks": "",
           "title": {
            "standoff": 15
           },
           "zerolinecolor": "white",
           "zerolinewidth": 2
          },
          "yaxis": {
           "automargin": true,
           "gridcolor": "white",
           "linecolor": "white",
           "ticks": "",
           "title": {
            "standoff": 15
           },
           "zerolinecolor": "white",
           "zerolinewidth": 2
          }
         }
        },
        "xaxis": {
         "anchor": "y",
         "domain": [
          0,
          0.7363
         ],
         "title": {
          "text": "Mh(1)"
         }
        },
        "xaxis2": {
         "anchor": "y2",
         "domain": [
          0.7413,
          1
         ],
         "matches": "x2",
         "showgrid": true,
         "showline": false,
         "showticklabels": false,
         "ticks": ""
        },
        "xaxis3": {
         "anchor": "y3",
         "domain": [
          0,
          0.7363
         ],
         "matches": "x",
         "showgrid": true,
         "showticklabels": false
        },
        "xaxis4": {
         "anchor": "y4",
         "domain": [
          0.7413,
          1
         ],
         "matches": "x2",
         "showgrid": true,
         "showline": false,
         "showticklabels": false,
         "ticks": ""
        },
        "yaxis": {
         "anchor": "x",
         "domain": [
          0,
          0.7326
         ],
         "title": {
          "text": "Mh(2)"
         }
        },
        "yaxis2": {
         "anchor": "x2",
         "domain": [
          0,
          0.7326
         ],
         "matches": "y",
         "showgrid": true,
         "showticklabels": false
        },
        "yaxis3": {
         "anchor": "x3",
         "domain": [
          0.7426,
          1
         ],
         "matches": "y3",
         "showgrid": true,
         "showline": false,
         "showticklabels": false,
         "ticks": ""
        },
        "yaxis4": {
         "anchor": "x4",
         "domain": [
          0.7426,
          1
         ],
         "matches": "y3",
         "showgrid": true,
         "showline": false,
         "showticklabels": false,
         "ticks": ""
        }
       }
      },
      "text/html": [
       "<div>                            <div id=\"ebf65681-cc29-4a54-93fe-eaa7b545b6e6\" class=\"plotly-graph-div\" style=\"height:525px; width:100%;\"></div>            <script type=\"text/javascript\">                require([\"plotly\"], function(Plotly) {                    window.PLOTLYENV=window.PLOTLYENV || {};                                    if (document.getElementById(\"ebf65681-cc29-4a54-93fe-eaa7b545b6e6\")) {                    Plotly.newPlot(                        \"ebf65681-cc29-4a54-93fe-eaa7b545b6e6\",                        [{\"hovertemplate\":\"done=True<br>Mh(1)=%{x}<br>Mh(2)=%{y}<extra></extra>\",\"legendgroup\":\"True\",\"marker\":{\"color\":\"#636efa\",\"symbol\":\"circle\"},\"mode\":\"markers\",\"name\":\"True\",\"orientation\":\"v\",\"showlegend\":true,\"type\":\"scatter\",\"x\":[120.65100000000001,118.43000000000004,115.74200000000002,116.23499999999997,116.44100000000002,115.595,110.83599999999998,110.87999999999998,113.40899999999998,89.14169999999999,114.54799999999999,112.59200000000003,79.48060000000001,114.79699999999998,113.47600000000003,99.1457,113.369,68.65300000000002,106.19699999999999,113.38199999999998,109.21999999999998,113.53099999999999,102.97600000000001,106.73500000000003,108.962,101.42400000000002,114.21999999999998,98.46759999999999,114.61100000000002,113.22399999999999,92.20289999999997,102.45599999999999,113.38799999999999,94.1494,113.533,93.72159999999997,116.75400000000002,113.34100000000002,111.24500000000003,44.16599999999998,108.31299999999999,102.398,111.02899999999998,96.47749999999999,112.49999999999999,107.75400000000002,111.37200000000003,111.36099999999999,42.32170000000002,112.72300000000001],\"xaxis\":\"x\",\"y\":[200.577,152.507,155.85099999999997,147.373,130.413,149.49500000000003,142.88,122.77100000000002,123.27799999999999,123.29200000000002,123.13200000000002,123.18299999999999,125.68499999999999,136.324,122.93699999999997,118.46499999999999,123.674,124.29800000000002,119.22399999999999,122.697,129.48099999999997,122.90899999999999,118.45499999999998,118.63800000000002,118.23800000000001,118.149,127.189,118.05500000000002,128.122,123.84400000000001,117.44299999999997,117.86200000000002,125.80400000000003,117.585,126.60099999999997,117.55300000000003,168.755,122.67300000000003,122.944,122.84400000000001,123.13200000000002,123.77,123.88100000000001,123.71100000000001,124.12,123.94899999999997,122.59100000000001,123.031,123.47200000000002,122.89800000000001],\"yaxis\":\"y\"},{\"alignmentgroup\":\"True\",\"bingroup\":\"x\",\"hovertemplate\":\"done=True<br>Mh(1)=%{x}<br>count=%{y}<extra></extra>\",\"legendgroup\":\"True\",\"marker\":{\"color\":\"#636efa\"},\"name\":\"True\",\"offsetgroup\":\"True\",\"opacity\":0.5,\"showlegend\":false,\"type\":\"histogram\",\"x\":[120.65100000000001,118.43000000000004,115.74200000000002,116.23499999999997,116.44100000000002,115.595,110.83599999999998,110.87999999999998,113.40899999999998,89.14169999999999,114.54799999999999,112.59200000000003,79.48060000000001,114.79699999999998,113.47600000000003,99.1457,113.369,68.65300000000002,106.19699999999999,113.38199999999998,109.21999999999998,113.53099999999999,102.97600000000001,106.73500000000003,108.962,101.42400000000002,114.21999999999998,98.46759999999999,114.61100000000002,113.22399999999999,92.20289999999997,102.45599999999999,113.38799999999999,94.1494,113.533,93.72159999999997,116.75400000000002,113.34100000000002,111.24500000000003,44.16599999999998,108.31299999999999,102.398,111.02899999999998,96.47749999999999,112.49999999999999,107.75400000000002,111.37200000000003,111.36099999999999,42.32170000000002,112.72300000000001],\"xaxis\":\"x3\",\"yaxis\":\"y3\"},{\"alignmentgroup\":\"True\",\"bingroup\":\"y\",\"hovertemplate\":\"done=True<br>Mh(2)=%{y}<br>count=%{x}<extra></extra>\",\"legendgroup\":\"True\",\"marker\":{\"color\":\"#636efa\"},\"name\":\"True\",\"offsetgroup\":\"True\",\"opacity\":0.5,\"showlegend\":false,\"type\":\"histogram\",\"xaxis\":\"x2\",\"y\":[200.577,152.507,155.85099999999997,147.373,130.413,149.49500000000003,142.88,122.77100000000002,123.27799999999999,123.29200000000002,123.13200000000002,123.18299999999999,125.68499999999999,136.324,122.93699999999997,118.46499999999999,123.674,124.29800000000002,119.22399999999999,122.697,129.48099999999997,122.90899999999999,118.45499999999998,118.63800000000002,118.23800000000001,118.149,127.189,118.05500000000002,128.122,123.84400000000001,117.44299999999997,117.86200000000002,125.80400000000003,117.585,126.60099999999997,117.55300000000003,168.755,122.67300000000003,122.944,122.84400000000001,123.13200000000002,123.77,123.88100000000001,123.71100000000001,124.12,123.94899999999997,122.59100000000001,123.031,123.47200000000002,122.89800000000001],\"yaxis\":\"y2\"}],                        {\"barmode\":\"overlay\",\"legend\":{\"title\":{\"text\":\"done\"},\"tracegroupgap\":0},\"margin\":{\"t\":60},\"template\":{\"data\":{\"bar\":[{\"error_x\":{\"color\":\"#2a3f5f\"},\"error_y\":{\"color\":\"#2a3f5f\"},\"marker\":{\"line\":{\"color\":\"#E5ECF6\",\"width\":0.5},\"pattern\":{\"fillmode\":\"overlay\",\"size\":10,\"solidity\":0.2}},\"type\":\"bar\"}],\"barpolar\":[{\"marker\":{\"line\":{\"color\":\"#E5ECF6\",\"width\":0.5},\"pattern\":{\"fillmode\":\"overlay\",\"size\":10,\"solidity\":0.2}},\"type\":\"barpolar\"}],\"carpet\":[{\"aaxis\":{\"endlinecolor\":\"#2a3f5f\",\"gridcolor\":\"white\",\"linecolor\":\"white\",\"minorgridcolor\":\"white\",\"startlinecolor\":\"#2a3f5f\"},\"baxis\":{\"endlinecolor\":\"#2a3f5f\",\"gridcolor\":\"white\",\"linecolor\":\"white\",\"minorgridcolor\":\"white\",\"startlinecolor\":\"#2a3f5f\"},\"type\":\"carpet\"}],\"choropleth\":[{\"colorbar\":{\"outlinewidth\":0,\"ticks\":\"\"},\"type\":\"choropleth\"}],\"contour\":[{\"colorbar\":{\"outlinewidth\":0,\"ticks\":\"\"},\"colorscale\":[[0.0,\"#0d0887\"],[0.1111111111111111,\"#46039f\"],[0.2222222222222222,\"#7201a8\"],[0.3333333333333333,\"#9c179e\"],[0.4444444444444444,\"#bd3786\"],[0.5555555555555556,\"#d8576b\"],[0.6666666666666666,\"#ed7953\"],[0.7777777777777778,\"#fb9f3a\"],[0.8888888888888888,\"#fdca26\"],[1.0,\"#f0f921\"]],\"type\":\"contour\"}],\"contourcarpet\":[{\"colorbar\":{\"outlinewidth\":0,\"ticks\":\"\"},\"type\":\"contourcarpet\"}],\"heatmap\":[{\"colorbar\":{\"outlinewidth\":0,\"ticks\":\"\"},\"colorscale\":[[0.0,\"#0d0887\"],[0.1111111111111111,\"#46039f\"],[0.2222222222222222,\"#7201a8\"],[0.3333333333333333,\"#9c179e\"],[0.4444444444444444,\"#bd3786\"],[0.5555555555555556,\"#d8576b\"],[0.6666666666666666,\"#ed7953\"],[0.7777777777777778,\"#fb9f3a\"],[0.8888888888888888,\"#fdca26\"],[1.0,\"#f0f921\"]],\"type\":\"heatmap\"}],\"heatmapgl\":[{\"colorbar\":{\"outlinewidth\":0,\"ticks\":\"\"},\"colorscale\":[[0.0,\"#0d0887\"],[0.1111111111111111,\"#46039f\"],[0.2222222222222222,\"#7201a8\"],[0.3333333333333333,\"#9c179e\"],[0.4444444444444444,\"#bd3786\"],[0.5555555555555556,\"#d8576b\"],[0.6666666666666666,\"#ed7953\"],[0.7777777777777778,\"#fb9f3a\"],[0.8888888888888888,\"#fdca26\"],[1.0,\"#f0f921\"]],\"type\":\"heatmapgl\"}],\"histogram\":[{\"marker\":{\"pattern\":{\"fillmode\":\"overlay\",\"size\":10,\"solidity\":0.2}},\"type\":\"histogram\"}],\"histogram2d\":[{\"colorbar\":{\"outlinewidth\":0,\"ticks\":\"\"},\"colorscale\":[[0.0,\"#0d0887\"],[0.1111111111111111,\"#46039f\"],[0.2222222222222222,\"#7201a8\"],[0.3333333333333333,\"#9c179e\"],[0.4444444444444444,\"#bd3786\"],[0.5555555555555556,\"#d8576b\"],[0.6666666666666666,\"#ed7953\"],[0.7777777777777778,\"#fb9f3a\"],[0.8888888888888888,\"#fdca26\"],[1.0,\"#f0f921\"]],\"type\":\"histogram2d\"}],\"histogram2dcontour\":[{\"colorbar\":{\"outlinewidth\":0,\"ticks\":\"\"},\"colorscale\":[[0.0,\"#0d0887\"],[0.1111111111111111,\"#46039f\"],[0.2222222222222222,\"#7201a8\"],[0.3333333333333333,\"#9c179e\"],[0.4444444444444444,\"#bd3786\"],[0.5555555555555556,\"#d8576b\"],[0.6666666666666666,\"#ed7953\"],[0.7777777777777778,\"#fb9f3a\"],[0.8888888888888888,\"#fdca26\"],[1.0,\"#f0f921\"]],\"type\":\"histogram2dcontour\"}],\"mesh3d\":[{\"colorbar\":{\"outlinewidth\":0,\"ticks\":\"\"},\"type\":\"mesh3d\"}],\"parcoords\":[{\"line\":{\"colorbar\":{\"outlinewidth\":0,\"ticks\":\"\"}},\"type\":\"parcoords\"}],\"pie\":[{\"automargin\":true,\"type\":\"pie\"}],\"scatter\":[{\"marker\":{\"colorbar\":{\"outlinewidth\":0,\"ticks\":\"\"}},\"type\":\"scatter\"}],\"scatter3d\":[{\"line\":{\"colorbar\":{\"outlinewidth\":0,\"ticks\":\"\"}},\"marker\":{\"colorbar\":{\"outlinewidth\":0,\"ticks\":\"\"}},\"type\":\"scatter3d\"}],\"scattercarpet\":[{\"marker\":{\"colorbar\":{\"outlinewidth\":0,\"ticks\":\"\"}},\"type\":\"scattercarpet\"}],\"scattergeo\":[{\"marker\":{\"colorbar\":{\"outlinewidth\":0,\"ticks\":\"\"}},\"type\":\"scattergeo\"}],\"scattergl\":[{\"marker\":{\"colorbar\":{\"outlinewidth\":0,\"ticks\":\"\"}},\"type\":\"scattergl\"}],\"scattermapbox\":[{\"marker\":{\"colorbar\":{\"outlinewidth\":0,\"ticks\":\"\"}},\"type\":\"scattermapbox\"}],\"scatterpolar\":[{\"marker\":{\"colorbar\":{\"outlinewidth\":0,\"ticks\":\"\"}},\"type\":\"scatterpolar\"}],\"scatterpolargl\":[{\"marker\":{\"colorbar\":{\"outlinewidth\":0,\"ticks\":\"\"}},\"type\":\"scatterpolargl\"}],\"scatterternary\":[{\"marker\":{\"colorbar\":{\"outlinewidth\":0,\"ticks\":\"\"}},\"type\":\"scatterternary\"}],\"surface\":[{\"colorbar\":{\"outlinewidth\":0,\"ticks\":\"\"},\"colorscale\":[[0.0,\"#0d0887\"],[0.1111111111111111,\"#46039f\"],[0.2222222222222222,\"#7201a8\"],[0.3333333333333333,\"#9c179e\"],[0.4444444444444444,\"#bd3786\"],[0.5555555555555556,\"#d8576b\"],[0.6666666666666666,\"#ed7953\"],[0.7777777777777778,\"#fb9f3a\"],[0.8888888888888888,\"#fdca26\"],[1.0,\"#f0f921\"]],\"type\":\"surface\"}],\"table\":[{\"cells\":{\"fill\":{\"color\":\"#EBF0F8\"},\"line\":{\"color\":\"white\"}},\"header\":{\"fill\":{\"color\":\"#C8D4E3\"},\"line\":{\"color\":\"white\"}},\"type\":\"table\"}]},\"layout\":{\"annotationdefaults\":{\"arrowcolor\":\"#2a3f5f\",\"arrowhead\":0,\"arrowwidth\":1},\"autotypenumbers\":\"strict\",\"coloraxis\":{\"colorbar\":{\"outlinewidth\":0,\"ticks\":\"\"}},\"colorscale\":{\"diverging\":[[0,\"#8e0152\"],[0.1,\"#c51b7d\"],[0.2,\"#de77ae\"],[0.3,\"#f1b6da\"],[0.4,\"#fde0ef\"],[0.5,\"#f7f7f7\"],[0.6,\"#e6f5d0\"],[0.7,\"#b8e186\"],[0.8,\"#7fbc41\"],[0.9,\"#4d9221\"],[1,\"#276419\"]],\"sequential\":[[0.0,\"#0d0887\"],[0.1111111111111111,\"#46039f\"],[0.2222222222222222,\"#7201a8\"],[0.3333333333333333,\"#9c179e\"],[0.4444444444444444,\"#bd3786\"],[0.5555555555555556,\"#d8576b\"],[0.6666666666666666,\"#ed7953\"],[0.7777777777777778,\"#fb9f3a\"],[0.8888888888888888,\"#fdca26\"],[1.0,\"#f0f921\"]],\"sequentialminus\":[[0.0,\"#0d0887\"],[0.1111111111111111,\"#46039f\"],[0.2222222222222222,\"#7201a8\"],[0.3333333333333333,\"#9c179e\"],[0.4444444444444444,\"#bd3786\"],[0.5555555555555556,\"#d8576b\"],[0.6666666666666666,\"#ed7953\"],[0.7777777777777778,\"#fb9f3a\"],[0.8888888888888888,\"#fdca26\"],[1.0,\"#f0f921\"]]},\"colorway\":[\"#636efa\",\"#EF553B\",\"#00cc96\",\"#ab63fa\",\"#FFA15A\",\"#19d3f3\",\"#FF6692\",\"#B6E880\",\"#FF97FF\",\"#FECB52\"],\"font\":{\"color\":\"#2a3f5f\"},\"geo\":{\"bgcolor\":\"white\",\"lakecolor\":\"white\",\"landcolor\":\"#E5ECF6\",\"showlakes\":true,\"showland\":true,\"subunitcolor\":\"white\"},\"hoverlabel\":{\"align\":\"left\"},\"hovermode\":\"closest\",\"mapbox\":{\"style\":\"light\"},\"paper_bgcolor\":\"white\",\"plot_bgcolor\":\"#E5ECF6\",\"polar\":{\"angularaxis\":{\"gridcolor\":\"white\",\"linecolor\":\"white\",\"ticks\":\"\"},\"bgcolor\":\"#E5ECF6\",\"radialaxis\":{\"gridcolor\":\"white\",\"linecolor\":\"white\",\"ticks\":\"\"}},\"scene\":{\"xaxis\":{\"backgroundcolor\":\"#E5ECF6\",\"gridcolor\":\"white\",\"gridwidth\":2,\"linecolor\":\"white\",\"showbackground\":true,\"ticks\":\"\",\"zerolinecolor\":\"white\"},\"yaxis\":{\"backgroundcolor\":\"#E5ECF6\",\"gridcolor\":\"white\",\"gridwidth\":2,\"linecolor\":\"white\",\"showbackground\":true,\"ticks\":\"\",\"zerolinecolor\":\"white\"},\"zaxis\":{\"backgroundcolor\":\"#E5ECF6\",\"gridcolor\":\"white\",\"gridwidth\":2,\"linecolor\":\"white\",\"showbackground\":true,\"ticks\":\"\",\"zerolinecolor\":\"white\"}},\"shapedefaults\":{\"line\":{\"color\":\"#2a3f5f\"}},\"ternary\":{\"aaxis\":{\"gridcolor\":\"white\",\"linecolor\":\"white\",\"ticks\":\"\"},\"baxis\":{\"gridcolor\":\"white\",\"linecolor\":\"white\",\"ticks\":\"\"},\"bgcolor\":\"#E5ECF6\",\"caxis\":{\"gridcolor\":\"white\",\"linecolor\":\"white\",\"ticks\":\"\"}},\"title\":{\"x\":0.05},\"xaxis\":{\"automargin\":true,\"gridcolor\":\"white\",\"linecolor\":\"white\",\"ticks\":\"\",\"title\":{\"standoff\":15},\"zerolinecolor\":\"white\",\"zerolinewidth\":2},\"yaxis\":{\"automargin\":true,\"gridcolor\":\"white\",\"linecolor\":\"white\",\"ticks\":\"\",\"title\":{\"standoff\":15},\"zerolinecolor\":\"white\",\"zerolinewidth\":2}}},\"xaxis\":{\"anchor\":\"y\",\"domain\":[0.0,0.7363],\"title\":{\"text\":\"Mh(1)\"}},\"xaxis2\":{\"anchor\":\"y2\",\"domain\":[0.7413,1.0],\"matches\":\"x2\",\"showgrid\":true,\"showline\":false,\"showticklabels\":false,\"ticks\":\"\"},\"xaxis3\":{\"anchor\":\"y3\",\"domain\":[0.0,0.7363],\"matches\":\"x\",\"showgrid\":true,\"showticklabels\":false},\"xaxis4\":{\"anchor\":\"y4\",\"domain\":[0.7413,1.0],\"matches\":\"x2\",\"showgrid\":true,\"showline\":false,\"showticklabels\":false,\"ticks\":\"\"},\"yaxis\":{\"anchor\":\"x\",\"domain\":[0.0,0.7326],\"title\":{\"text\":\"Mh(2)\"}},\"yaxis2\":{\"anchor\":\"x2\",\"domain\":[0.0,0.7326],\"matches\":\"y\",\"showgrid\":true,\"showticklabels\":false},\"yaxis3\":{\"anchor\":\"x3\",\"domain\":[0.7426,1.0],\"matches\":\"y3\",\"showgrid\":true,\"showline\":false,\"showticklabels\":false,\"ticks\":\"\"},\"yaxis4\":{\"anchor\":\"x4\",\"domain\":[0.7426,1.0],\"matches\":\"y3\",\"showgrid\":true,\"showline\":false,\"showticklabels\":false,\"ticks\":\"\"}},                        {\"responsive\": true}                    ).then(function(){\n",
       "                            \n",
       "var gd = document.getElementById('ebf65681-cc29-4a54-93fe-eaa7b545b6e6');\n",
       "var x = new MutationObserver(function (mutations, observer) {{\n",
       "        var display = window.getComputedStyle(gd).display;\n",
       "        if (!display || display === 'none') {{\n",
       "            console.log([gd, 'removed!']);\n",
       "            Plotly.purge(gd);\n",
       "            observer.disconnect();\n",
       "        }}\n",
       "}});\n",
       "\n",
       "// Listen for the removal of the full notebook cells\n",
       "var notebookContainer = gd.closest('#notebook-container');\n",
       "if (notebookContainer) {{\n",
       "    x.observe(notebookContainer, {childList: true});\n",
       "}}\n",
       "\n",
       "// Listen for the clearing of the current output cell\n",
       "var outputEl = gd.closest('.output');\n",
       "if (outputEl) {{\n",
       "    x.observe(outputEl, {childList: true});\n",
       "}}\n",
       "\n",
       "                        })                };                });            </script>        </div>"
      ]
     },
     "metadata": {},
     "output_type": "display_data"
    }
   ],
   "source": [
    "fig = px.scatter(memory_df[select_done], x=\"Mh(1)\", y=\"Mh(2)\", marginal_x=\"histogram\", marginal_y=\"histogram\", color='done')\n",
    "fig.show()"
   ]
  },
  {
   "cell_type": "code",
   "execution_count": 37,
   "id": "225e5352",
   "metadata": {},
   "outputs": [],
   "source": [
    "diff_mh1 = abs(memory_df['Mh(1)'] - memory_df['Mh(1)_prime']) "
   ]
  },
  {
   "cell_type": "code",
   "execution_count": 38,
   "id": "d44d7abe",
   "metadata": {},
   "outputs": [
    {
     "data": {
      "application/vnd.plotly.v1+json": {
       "config": {
        "plotlyServerURL": "https://plot.ly"
       },
       "data": [
        {
         "alignmentgroup": "True",
         "bingroup": "x",
         "hovertemplate": "variable=0<br>value=%{x}<br>count=%{y}<extra></extra>",
         "legendgroup": "0",
         "marker": {
          "color": "#636efa",
          "pattern": {
           "shape": ""
          }
         },
         "name": "0",
         "offsetgroup": "0",
         "orientation": "v",
         "showlegend": true,
         "type": "histogram",
         "x": [
          37.50619999999999,
          0.2270000000000323,
          0.02400000000002933,
          0.014000000000010004,
          0.028999999999996362,
          0.040000000000048885,
          0.025999999999967827,
          0.002999999999971692,
          0.025999999999967827,
          0.001999999999995339,
          0.0020000000000095497,
          0.005000000000023874,
          0.02899999999995373,
          0.010000000000005116,
          0.014000000000010004,
          0.022999999999996135,
          0.016000000000019554,
          0.021999999999962938,
          0.03000000000002956,
          0.005000000000023874,
          0.013000000000033651,
          0.005000000000023874,
          0.020000000000010232,
          0.020000000000010232,
          0.004999999999981242,
          0.03100000000000591,
          0.001999999999995339,
          0.0069999999999765805,
          0.02200000000001978,
          0.016000000000019554,
          0.025000000000048317,
          0.012000000000014666,
          0.01799999999995805,
          0.0020000000000095497,
          0.016000000000019554,
          0.006000000000014438,
          0.029000000000010573,
          0.005000000000023874,
          0.003999999999990678,
          0.025000000000005684,
          0.027000000000001023,
          0.02200000000001978,
          0.038999999999958845,
          0.03100000000000591,
          0.0040000000000048885,
          0.020999999999943952,
          0.006000000000057071,
          0.013999999999967372,
          0.001999999999995339,
          0.014000000000010004,
          21.83720000000001,
          0.009000000000042974,
          0.0040000000000048885,
          0.006000000000057071,
          0.007000000000033424,
          0.011000000000038312,
          0.01000000000006196,
          0.0040000000000048885,
          0.01700000000005275,
          0.007999999999995566,
          0.022999999999996135,
          0.016999999999995907,
          0.045000000000015916,
          0.0040000000000048885,
          0.018999999999991246,
          0,
          0,
          0,
          0.09700000000000841,
          0.5070000000000334,
          0.5499999999999972,
          0.27300000000002456,
          0.6839999999999549,
          0.8779999999999859,
          0.9490000000000407,
          3.1450000000000102,
          14.647999999999996,
          0,
          0,
          0,
          0,
          0,
          0,
          5.5020000000000095,
          11.248000000000033,
          1.3540000000000134,
          1.1970000000000027,
          0.3650000000000091,
          0.18099999999998317,
          0.022999999999981924,
          0.24499999999999034,
          0.2389999999999901,
          0.22900000000002763,
          0.06299999999998818,
          0.15500000000001535,
          0.28000000000000114,
          0.6829999999999927,
          0.9020000000000152,
          0.29000000000000625,
          0.4360000000000497,
          18.322799999999972,
          0.6680000000000064,
          0.27599999999999625,
          0.3159999999999883,
          0.00899999999998613,
          0.4440000000000026,
          0.6589999999999634,
          0.20700000000002206,
          0.005000000000038085,
          0.20999999999999375,
          0.06199999999999761,
          0.1320000000000192,
          0.17499999999998295,
          0.21299999999996544,
          0.5960000000000463,
          0.6389999999999958,
          0.34399999999995146,
          0.2020000000000408,
          0.562999999999974,
          0,
          0,
          0,
          0,
          0,
          0,
          0,
          0,
          0,
          0,
          1.0829999999999984,
          1.6379999999999768,
          0.11699999999997601,
          0.14300000000000068,
          0.1570000000000249,
          0.04599999999999227,
          0.20400000000003615,
          0.20099999999995077,
          0.11700000000003286,
          0.09999999999999432,
          0.04199999999998738,
          0.06199999999999761,
          0.17800000000001148,
          0.14999999999999147,
          0.10700000000002774,
          0.010999999999981469,
          0.08799999999997965,
          0.0880000000000365,
          0.0999999999999801,
          0.06399999999996453,
          0.13100000000004286,
          0.12499999999998579,
          0.002999999999971692,
          0.0009999999999763531,
          0.016000000000005343,
          0.005000000000023874,
          0.15299999999996317,
          0.20100000000000762,
          0.2090000000000174,
          0.1939999999999742,
          0.02800000000002001,
          0.025999999999967827,
          0.06900000000004525,
          0.16800000000000637,
          0.29199999999995896,
          0.21700000000001296,
          0.03300000000000125,
          0.025000000000005684,
          0.16300000000002512,
          0.2360000000000042,
          0.06199999999999761,
          0.1559999999999775,
          0.44700000000003115,
          0.2570000000000192,
          0.31100000000000705,
          0.23099999999998033,
          0.4440000000000026,
          0.09100000000006503,
          0.14300000000000068,
          0.03100000000000591,
          2.744000000000028,
          0.575999999999965,
          0.08299999999994156,
          0.0040000000000048885,
          0.13000000000000966,
          0.31600000000004513,
          0.0549999999999784,
          0.05700000000003058,
          0.17499999999998295,
          0.025000000000005684,
          0.14199999999996749,
          0.05700000000003058,
          0.08299999999999841,
          0.14599999999998658,
          0.09399999999999409,
          0.20900000000000318,
          0.17800000000001148,
          0.4979999999999478,
          0.07699999999999818,
          0.18099999999998317,
          0.04999999999999716,
          0.15699999999996805,
          0.22599999999995646,
          0.5289999999999537,
          0.2820000000000533,
          0.2139999999999418,
          0.09000000000003183,
          0.3060000000000258,
          0.3429999999999893,
          0.11400000000000432,
          0.24200000000003286,
          0.19999999999997442,
          0.09700000000002262,
          0.027000000000001023,
          0.06500000000004036,
          0.20199999999998397,
          0.36700000000000443,
          0.11400000000000432,
          0.5419999999999874,
          1.160999999999973,
          0.3859999999999957,
          0.8529999999999802,
          1.017999999999958,
          0.2849999999999824,
          0.5260000000000247,
          1.1340000000000146,
          0.5399999999999778,
          0.6849999999999881,
          0.2740000000000009,
          0.12000000000000455,
          1.7220000000000084,
          0.12899999999999068,
          0.34300000000003195,
          0.0870000000000033,
          0.18000000000000682,
          0.21800000000000352,
          0.014999999999986358,
          0.07099999999999795,
          0.0309999999999917,
          0.020000000000010232,
          0.02100000000004343,
          0.05099999999997351,
          0.1950000000000074,
          0.23699999999998056,
          0.06400000000000716,
          0.12499999999998579,
          0.09799999999998477,
          0.008000000000009777,
          0.04899999999996396,
          0.05899999999998329,
          0.715999999999994,
          2.4080000000000155,
          5.1059999999999945,
          0.8500000000000227,
          11.195999999999984,
          4.655000000000015,
          9.706000000000003,
          0.410000000000025,
          21.887500000000003,
          2.151200000000017,
          19.942299999999975,
          1.0839999999999748,
          12.044000000000011,
          14.35799999999999,
          0.07099999999998374,
          0.35499999999998977,
          0.25499999999999545,
          0.9040000000000106,
          1.1900000000000261,
          9.784999999999982,
          9.76300000000002,
          7.706000000000046,
          7.367000000000004,
          0.886999999999972,
          0.3510000000000417,
          2.7889999999999873,
          12.853099999999998,
          16.515100000000004,
          0.2360000000000042,
          0.08499999999999375,
          0,
          0,
          0,
          1.606999999999971,
          11.833000000000027,
          9.856000000000023,
          5.9839999999999804,
          4.382999999999967,
          0.825000000000017,
          1.8569999999999993,
          1.1550000000000153,
          10.813000000000017,
          8.968999999999951,
          11.638999999999953,
          13.117999999999967,
          17.540099999999953,
          16.845099999999945,
          0.15200000000004366,
          0.811000000000007,
          10.125000000000057,
          0,
          0,
          6.514000000000024,
          4.2450000000000045,
          9.859999999999985,
          5.581999999999979,
          0,
          0,
          0,
          4.601000000000013,
          7.109000000000023,
          7.009000000000043,
          6.355000000000004,
          6.595000000000013,
          5.706000000000046,
          0,
          0,
          19.514899999999997,
          5.565899999999999,
          0,
          0,
          0,
          0,
          0,
          8.534999999999968,
          3.3390000000000413,
          7.47199999999998,
          7.6949999999999505,
          8.685999999999979,
          8.635000000000005,
          10.379999999999995,
          9.323999999999998,
          1.2439999999999714,
          12.652999999999977,
          10.811999999999983,
          8.624999999999986,
          9.346000000000018,
          1.8530000000000513,
          2.7679999999999865,
          0,
          0,
          0,
          0,
          0,
          1.3440000000000083,
          6.05900000000004,
          0,
          0,
          0,
          0,
          0,
          0,
          0,
          0,
          0,
          0,
          0,
          0,
          0,
          0,
          0,
          0,
          0,
          0,
          0,
          0,
          75.1291,
          11.439000000000036,
          0.19999999999997442,
          0.5859999999999843,
          0,
          0,
          0,
          0,
          0,
          0,
          0,
          0,
          0,
          0,
          3.2169999999999703,
          6.250000000000028,
          2.680000000000007,
          3.462999999999994,
          19.673999999999964,
          12.487000000000023,
          2.834000000000003,
          2.4149999999999494,
          2.0689999999999884,
          8.233999999999966,
          7.581999999999979,
          2.8079999999999785,
          5.468999999999994,
          1.4620000000000175,
          5.4659999999999656,
          6.531999999999982,
          12.16100000000003,
          8.732000000000014,
          18.783599999999964,
          3.532600000000002,
          3.1959999999999837,
          8.213000000000022,
          0,
          0,
          0,
          0,
          0,
          0,
          0,
          0,
          0,
          0,
          0.8849999999999767,
          4.939999999999998,
          7.860000000000028,
          5.865000000000009,
          9.058999999999983,
          9.32099999999997,
          4.699999999999989,
          33.629399999999976,
          0,
          0,
          0,
          0,
          0,
          0,
          0,
          0,
          0,
          0,
          16.549999999999955,
          13.10899999999998,
          8.96499999999999,
          9.48599999999999,
          15.271699999999996,
          15.282699999999977,
          0,
          0,
          0,
          0,
          0,
          0,
          0,
          0,
          0,
          0,
          6.3629999999999995,
          0,
          0,
          0,
          0,
          0,
          0,
          0,
          0,
          0,
          0,
          2.984999999999957,
          27.38280000000003,
          12.583800000000025,
          0.5559999999999974,
          5.7450000000000045,
          1.4660000000000224,
          5.73899999999999,
          3.5729999999999933,
          9.759999999999991,
          12.953999999999965,
          1.4559999999999462,
          11.317000000000021,
          7.776399999999967,
          19.913399999999967,
          14.229299999999995,
          0,
          0,
          0,
          0,
          0,
          0,
          0,
          0,
          0,
          0,
          22.699799999999996,
          4.645999999999987,
          0,
          0,
          0,
          0,
          0,
          0,
          0,
          0,
          0,
          0,
          0,
          0,
          0,
          0,
          0,
          0,
          0,
          0,
          0,
          0,
          21.889700000000005,
          7.2180000000000035,
          8.13300000000001,
          7.288999999999987,
          3.6860000000000213,
          7.959999999999965,
          6.564000000000021,
          7.949000000000041,
          11.377000000000024,
          0.08100000000000307,
          3.555000000000021,
          17.12360000000001,
          0.5897000000000219,
          11.923300000000026,
          3.778000000000006,
          1.6843000000000359,
          12.568300000000036,
          1.8629999999999995,
          12.078800000000001,
          10.984799999999964,
          2.0660000000000025,
          1.8430000000000462,
          4.3450000000000415,
          0.5730000000000359,
          4.626000000000019,
          2.890999999999977,
          17.983200000000025,
          13.435200000000037,
          2.447000000000031,
          0.2809999999999775,
          2.517999999999958,
          5.294000000000025,
          6.38600000000001,
          0.14399999999997704,
          6.678000000000026,
          15.67700000000005,
          1.9980000000000473,
          0.9439999999999458,
          5.603000000000023,
          4.40000000000002,
          4.085000000000008,
          7.095999999999989,
          6.822999999999965,
          25.0728,
          18.143799999999985,
          6.575999999999965,
          5.866999999999948,
          4.579800000000034,
          6.257799999999989,
          6.1229999999999905,
          4.919000000000011,
          0,
          0,
          0,
          0,
          0,
          0,
          0,
          0,
          0,
          0,
          10.658000000000001,
          3.1110000000000326,
          5.50800000000001,
          16.221000000000032,
          9.510999999999981,
          1.6389999999999958,
          0,
          0,
          0,
          0,
          0,
          0,
          0,
          0,
          0,
          0,
          36.01870000000001,
          10.606800000000021,
          6.9803,
          16.45010000000002,
          3.404999999999987,
          10.927000000000007,
          14.399000000000044,
          0,
          0,
          0,
          0,
          0,
          0,
          21.403600000000026,
          16.582600000000014,
          4.606000000000009,
          3.3299999999999983,
          4.842999999999989,
          0,
          0,
          0,
          0,
          2.40600000000002,
          19.92919999999998,
          3.216600000000014,
          19.013799999999975,
          0.612000000000009,
          10.258999999999958,
          0,
          0,
          0,
          0,
          0,
          0,
          0,
          0,
          0,
          0,
          7.287999999999968,
          3.7740000000000578,
          9.552000000000007,
          0,
          0,
          0,
          0,
          0,
          0,
          0,
          0,
          0,
          0,
          16.90360000000001,
          26.931099999999986,
          0,
          0,
          0,
          0,
          0,
          0,
          0,
          0,
          0,
          0,
          2.5729999999999933,
          16.131,
          0,
          0,
          0,
          0,
          0,
          0,
          0,
          0,
          0,
          0,
          0.5180000000000149,
          0,
          0,
          0,
          0,
          0,
          0,
          0,
          0,
          0,
          0,
          2.950000000000003,
          18.721400000000003,
          0,
          0,
          0,
          0,
          0,
          0,
          0,
          0,
          0,
          0,
          5.128999999999991,
          0.3520000000000181,
          0,
          0,
          0,
          0,
          0,
          0,
          0,
          0,
          0,
          0,
          4.234000000000023,
          0,
          0,
          0,
          0,
          0,
          0,
          0,
          0,
          0,
          0,
          6.271699999999996,
          16.52589999999998,
          16.768899999999974,
          8.197999999999979,
          5.274000000000001,
          6.1769999999999925,
          13.954799999999992,
          3.7348000000000354,
          10.366999999999962,
          21.332100000000025,
          0,
          0,
          0,
          0,
          0,
          0,
          0,
          0,
          0,
          0,
          15.180999999999997,
          0,
          0,
          0,
          0,
          0,
          0,
          0,
          0,
          0,
          0,
          3.3260000000000502,
          14.403999999999982,
          8.377799999999993,
          19.134800000000013,
          20.1327,
          6.588099999999983,
          3.607599999999991,
          10.13900000000001,
          0,
          0,
          0,
          0,
          0,
          0,
          0,
          0,
          0,
          0,
          2.320000000000036,
          0,
          0,
          0,
          0,
          0,
          24.486599999999967,
          0,
          0,
          0,
          0,
          0,
          10.984999999999971,
          7.352999999999994,
          8.861000000000004,
          0.8589999999999947,
          0,
          0,
          0,
          0,
          0,
          0,
          0,
          0,
          0,
          0,
          3.9839999999999947,
          22.487400000000036,
          0,
          0,
          0,
          0,
          0,
          0,
          0,
          0,
          0,
          0,
          0,
          0,
          0,
          0,
          0,
          0,
          0,
          0,
          0,
          0,
          67.96620000000003,
          0.7280000000000655,
          2.3549999999999898,
          8.219000000000037,
          10.971000000000018,
          3.751999999999981,
          4.575000000000003,
          0.228999999999985,
          1.3090000000000117,
          3.396000000000001,
          8.24760000000002,
          11.634600000000049,
          1.0289999999999964,
          1.701999999999984,
          5.927999999999983,
          3.386999999999972,
          4.390999999999977,
          1.279000000000039,
          0.4880000000000422,
          9.336000000000013,
          0,
          0,
          0,
          0,
          0,
          0,
          0,
          0,
          0,
          0,
          8.45799999999997,
          1.0510000000000161,
          0,
          0,
          0,
          0,
          0,
          0,
          0,
          0,
          0,
          0,
          0,
          0,
          0,
          0,
          0,
          0,
          0,
          0,
          0,
          0,
          0.5320000000000391,
          13.616600000000034,
          2.3906000000000205,
          1.0100000000000051,
          2.1310000000000002,
          4.172999999999973,
          0,
          0,
          0,
          0,
          0,
          0,
          0,
          0,
          0,
          0,
          51.10579999999998,
          10.402000000000015,
          0,
          0,
          0,
          0,
          0,
          0,
          0,
          0,
          0,
          0,
          4.182999999999936,
          7.0610000000000355,
          1.6950000000000074,
          1.8569999999999993,
          2.9830000000000183,
          0.6840000000000259,
          2.112000000000009,
          1.1340000000000288,
          3.778999999999968,
          0,
          0,
          0,
          0,
          0,
          0,
          0,
          0,
          0,
          0,
          0,
          0,
          0,
          0,
          0,
          0,
          0,
          0,
          0,
          0,
          7.763000000000019,
          0,
          0,
          0,
          0,
          0,
          0,
          0,
          0,
          0,
          0,
          1.9250000000000114,
          13.488899999999973,
          0.702899999999957,
          1.9320999999999913,
          1.2615999999999872,
          0.8325000000000244,
          2.5732,
          2.964000000000013,
          4.172999999999988,
          0,
          0,
          0,
          0,
          0,
          0,
          0,
          0,
          0,
          0,
          3.284000000000006,
          0.3359999999999985,
          4.967999999999975,
          0,
          0,
          0,
          0,
          0,
          0,
          0,
          0,
          0,
          0,
          0,
          0,
          0,
          0,
          0,
          0,
          0,
          0,
          0,
          0,
          3.3839999999999435,
          86.5826,
          18.447300000000002,
          0,
          0,
          0,
          0,
          0,
          0,
          0,
          0,
          0,
          0,
          5.437000000000026,
          0.08600000000002694,
          0.9129999999999967,
          3.603999999999999,
          0,
          0,
          0,
          0,
          0,
          0,
          0,
          0,
          0,
          0
         ],
         "xaxis": "x",
         "yaxis": "y"
        }
       ],
       "layout": {
        "barmode": "relative",
        "legend": {
         "title": {
          "text": "variable"
         },
         "tracegroupgap": 0
        },
        "margin": {
         "t": 60
        },
        "template": {
         "data": {
          "bar": [
           {
            "error_x": {
             "color": "#2a3f5f"
            },
            "error_y": {
             "color": "#2a3f5f"
            },
            "marker": {
             "line": {
              "color": "#E5ECF6",
              "width": 0.5
             },
             "pattern": {
              "fillmode": "overlay",
              "size": 10,
              "solidity": 0.2
             }
            },
            "type": "bar"
           }
          ],
          "barpolar": [
           {
            "marker": {
             "line": {
              "color": "#E5ECF6",
              "width": 0.5
             },
             "pattern": {
              "fillmode": "overlay",
              "size": 10,
              "solidity": 0.2
             }
            },
            "type": "barpolar"
           }
          ],
          "carpet": [
           {
            "aaxis": {
             "endlinecolor": "#2a3f5f",
             "gridcolor": "white",
             "linecolor": "white",
             "minorgridcolor": "white",
             "startlinecolor": "#2a3f5f"
            },
            "baxis": {
             "endlinecolor": "#2a3f5f",
             "gridcolor": "white",
             "linecolor": "white",
             "minorgridcolor": "white",
             "startlinecolor": "#2a3f5f"
            },
            "type": "carpet"
           }
          ],
          "choropleth": [
           {
            "colorbar": {
             "outlinewidth": 0,
             "ticks": ""
            },
            "type": "choropleth"
           }
          ],
          "contour": [
           {
            "colorbar": {
             "outlinewidth": 0,
             "ticks": ""
            },
            "colorscale": [
             [
              0,
              "#0d0887"
             ],
             [
              0.1111111111111111,
              "#46039f"
             ],
             [
              0.2222222222222222,
              "#7201a8"
             ],
             [
              0.3333333333333333,
              "#9c179e"
             ],
             [
              0.4444444444444444,
              "#bd3786"
             ],
             [
              0.5555555555555556,
              "#d8576b"
             ],
             [
              0.6666666666666666,
              "#ed7953"
             ],
             [
              0.7777777777777778,
              "#fb9f3a"
             ],
             [
              0.8888888888888888,
              "#fdca26"
             ],
             [
              1,
              "#f0f921"
             ]
            ],
            "type": "contour"
           }
          ],
          "contourcarpet": [
           {
            "colorbar": {
             "outlinewidth": 0,
             "ticks": ""
            },
            "type": "contourcarpet"
           }
          ],
          "heatmap": [
           {
            "colorbar": {
             "outlinewidth": 0,
             "ticks": ""
            },
            "colorscale": [
             [
              0,
              "#0d0887"
             ],
             [
              0.1111111111111111,
              "#46039f"
             ],
             [
              0.2222222222222222,
              "#7201a8"
             ],
             [
              0.3333333333333333,
              "#9c179e"
             ],
             [
              0.4444444444444444,
              "#bd3786"
             ],
             [
              0.5555555555555556,
              "#d8576b"
             ],
             [
              0.6666666666666666,
              "#ed7953"
             ],
             [
              0.7777777777777778,
              "#fb9f3a"
             ],
             [
              0.8888888888888888,
              "#fdca26"
             ],
             [
              1,
              "#f0f921"
             ]
            ],
            "type": "heatmap"
           }
          ],
          "heatmapgl": [
           {
            "colorbar": {
             "outlinewidth": 0,
             "ticks": ""
            },
            "colorscale": [
             [
              0,
              "#0d0887"
             ],
             [
              0.1111111111111111,
              "#46039f"
             ],
             [
              0.2222222222222222,
              "#7201a8"
             ],
             [
              0.3333333333333333,
              "#9c179e"
             ],
             [
              0.4444444444444444,
              "#bd3786"
             ],
             [
              0.5555555555555556,
              "#d8576b"
             ],
             [
              0.6666666666666666,
              "#ed7953"
             ],
             [
              0.7777777777777778,
              "#fb9f3a"
             ],
             [
              0.8888888888888888,
              "#fdca26"
             ],
             [
              1,
              "#f0f921"
             ]
            ],
            "type": "heatmapgl"
           }
          ],
          "histogram": [
           {
            "marker": {
             "pattern": {
              "fillmode": "overlay",
              "size": 10,
              "solidity": 0.2
             }
            },
            "type": "histogram"
           }
          ],
          "histogram2d": [
           {
            "colorbar": {
             "outlinewidth": 0,
             "ticks": ""
            },
            "colorscale": [
             [
              0,
              "#0d0887"
             ],
             [
              0.1111111111111111,
              "#46039f"
             ],
             [
              0.2222222222222222,
              "#7201a8"
             ],
             [
              0.3333333333333333,
              "#9c179e"
             ],
             [
              0.4444444444444444,
              "#bd3786"
             ],
             [
              0.5555555555555556,
              "#d8576b"
             ],
             [
              0.6666666666666666,
              "#ed7953"
             ],
             [
              0.7777777777777778,
              "#fb9f3a"
             ],
             [
              0.8888888888888888,
              "#fdca26"
             ],
             [
              1,
              "#f0f921"
             ]
            ],
            "type": "histogram2d"
           }
          ],
          "histogram2dcontour": [
           {
            "colorbar": {
             "outlinewidth": 0,
             "ticks": ""
            },
            "colorscale": [
             [
              0,
              "#0d0887"
             ],
             [
              0.1111111111111111,
              "#46039f"
             ],
             [
              0.2222222222222222,
              "#7201a8"
             ],
             [
              0.3333333333333333,
              "#9c179e"
             ],
             [
              0.4444444444444444,
              "#bd3786"
             ],
             [
              0.5555555555555556,
              "#d8576b"
             ],
             [
              0.6666666666666666,
              "#ed7953"
             ],
             [
              0.7777777777777778,
              "#fb9f3a"
             ],
             [
              0.8888888888888888,
              "#fdca26"
             ],
             [
              1,
              "#f0f921"
             ]
            ],
            "type": "histogram2dcontour"
           }
          ],
          "mesh3d": [
           {
            "colorbar": {
             "outlinewidth": 0,
             "ticks": ""
            },
            "type": "mesh3d"
           }
          ],
          "parcoords": [
           {
            "line": {
             "colorbar": {
              "outlinewidth": 0,
              "ticks": ""
             }
            },
            "type": "parcoords"
           }
          ],
          "pie": [
           {
            "automargin": true,
            "type": "pie"
           }
          ],
          "scatter": [
           {
            "marker": {
             "colorbar": {
              "outlinewidth": 0,
              "ticks": ""
             }
            },
            "type": "scatter"
           }
          ],
          "scatter3d": [
           {
            "line": {
             "colorbar": {
              "outlinewidth": 0,
              "ticks": ""
             }
            },
            "marker": {
             "colorbar": {
              "outlinewidth": 0,
              "ticks": ""
             }
            },
            "type": "scatter3d"
           }
          ],
          "scattercarpet": [
           {
            "marker": {
             "colorbar": {
              "outlinewidth": 0,
              "ticks": ""
             }
            },
            "type": "scattercarpet"
           }
          ],
          "scattergeo": [
           {
            "marker": {
             "colorbar": {
              "outlinewidth": 0,
              "ticks": ""
             }
            },
            "type": "scattergeo"
           }
          ],
          "scattergl": [
           {
            "marker": {
             "colorbar": {
              "outlinewidth": 0,
              "ticks": ""
             }
            },
            "type": "scattergl"
           }
          ],
          "scattermapbox": [
           {
            "marker": {
             "colorbar": {
              "outlinewidth": 0,
              "ticks": ""
             }
            },
            "type": "scattermapbox"
           }
          ],
          "scatterpolar": [
           {
            "marker": {
             "colorbar": {
              "outlinewidth": 0,
              "ticks": ""
             }
            },
            "type": "scatterpolar"
           }
          ],
          "scatterpolargl": [
           {
            "marker": {
             "colorbar": {
              "outlinewidth": 0,
              "ticks": ""
             }
            },
            "type": "scatterpolargl"
           }
          ],
          "scatterternary": [
           {
            "marker": {
             "colorbar": {
              "outlinewidth": 0,
              "ticks": ""
             }
            },
            "type": "scatterternary"
           }
          ],
          "surface": [
           {
            "colorbar": {
             "outlinewidth": 0,
             "ticks": ""
            },
            "colorscale": [
             [
              0,
              "#0d0887"
             ],
             [
              0.1111111111111111,
              "#46039f"
             ],
             [
              0.2222222222222222,
              "#7201a8"
             ],
             [
              0.3333333333333333,
              "#9c179e"
             ],
             [
              0.4444444444444444,
              "#bd3786"
             ],
             [
              0.5555555555555556,
              "#d8576b"
             ],
             [
              0.6666666666666666,
              "#ed7953"
             ],
             [
              0.7777777777777778,
              "#fb9f3a"
             ],
             [
              0.8888888888888888,
              "#fdca26"
             ],
             [
              1,
              "#f0f921"
             ]
            ],
            "type": "surface"
           }
          ],
          "table": [
           {
            "cells": {
             "fill": {
              "color": "#EBF0F8"
             },
             "line": {
              "color": "white"
             }
            },
            "header": {
             "fill": {
              "color": "#C8D4E3"
             },
             "line": {
              "color": "white"
             }
            },
            "type": "table"
           }
          ]
         },
         "layout": {
          "annotationdefaults": {
           "arrowcolor": "#2a3f5f",
           "arrowhead": 0,
           "arrowwidth": 1
          },
          "autotypenumbers": "strict",
          "coloraxis": {
           "colorbar": {
            "outlinewidth": 0,
            "ticks": ""
           }
          },
          "colorscale": {
           "diverging": [
            [
             0,
             "#8e0152"
            ],
            [
             0.1,
             "#c51b7d"
            ],
            [
             0.2,
             "#de77ae"
            ],
            [
             0.3,
             "#f1b6da"
            ],
            [
             0.4,
             "#fde0ef"
            ],
            [
             0.5,
             "#f7f7f7"
            ],
            [
             0.6,
             "#e6f5d0"
            ],
            [
             0.7,
             "#b8e186"
            ],
            [
             0.8,
             "#7fbc41"
            ],
            [
             0.9,
             "#4d9221"
            ],
            [
             1,
             "#276419"
            ]
           ],
           "sequential": [
            [
             0,
             "#0d0887"
            ],
            [
             0.1111111111111111,
             "#46039f"
            ],
            [
             0.2222222222222222,
             "#7201a8"
            ],
            [
             0.3333333333333333,
             "#9c179e"
            ],
            [
             0.4444444444444444,
             "#bd3786"
            ],
            [
             0.5555555555555556,
             "#d8576b"
            ],
            [
             0.6666666666666666,
             "#ed7953"
            ],
            [
             0.7777777777777778,
             "#fb9f3a"
            ],
            [
             0.8888888888888888,
             "#fdca26"
            ],
            [
             1,
             "#f0f921"
            ]
           ],
           "sequentialminus": [
            [
             0,
             "#0d0887"
            ],
            [
             0.1111111111111111,
             "#46039f"
            ],
            [
             0.2222222222222222,
             "#7201a8"
            ],
            [
             0.3333333333333333,
             "#9c179e"
            ],
            [
             0.4444444444444444,
             "#bd3786"
            ],
            [
             0.5555555555555556,
             "#d8576b"
            ],
            [
             0.6666666666666666,
             "#ed7953"
            ],
            [
             0.7777777777777778,
             "#fb9f3a"
            ],
            [
             0.8888888888888888,
             "#fdca26"
            ],
            [
             1,
             "#f0f921"
            ]
           ]
          },
          "colorway": [
           "#636efa",
           "#EF553B",
           "#00cc96",
           "#ab63fa",
           "#FFA15A",
           "#19d3f3",
           "#FF6692",
           "#B6E880",
           "#FF97FF",
           "#FECB52"
          ],
          "font": {
           "color": "#2a3f5f"
          },
          "geo": {
           "bgcolor": "white",
           "lakecolor": "white",
           "landcolor": "#E5ECF6",
           "showlakes": true,
           "showland": true,
           "subunitcolor": "white"
          },
          "hoverlabel": {
           "align": "left"
          },
          "hovermode": "closest",
          "mapbox": {
           "style": "light"
          },
          "paper_bgcolor": "white",
          "plot_bgcolor": "#E5ECF6",
          "polar": {
           "angularaxis": {
            "gridcolor": "white",
            "linecolor": "white",
            "ticks": ""
           },
           "bgcolor": "#E5ECF6",
           "radialaxis": {
            "gridcolor": "white",
            "linecolor": "white",
            "ticks": ""
           }
          },
          "scene": {
           "xaxis": {
            "backgroundcolor": "#E5ECF6",
            "gridcolor": "white",
            "gridwidth": 2,
            "linecolor": "white",
            "showbackground": true,
            "ticks": "",
            "zerolinecolor": "white"
           },
           "yaxis": {
            "backgroundcolor": "#E5ECF6",
            "gridcolor": "white",
            "gridwidth": 2,
            "linecolor": "white",
            "showbackground": true,
            "ticks": "",
            "zerolinecolor": "white"
           },
           "zaxis": {
            "backgroundcolor": "#E5ECF6",
            "gridcolor": "white",
            "gridwidth": 2,
            "linecolor": "white",
            "showbackground": true,
            "ticks": "",
            "zerolinecolor": "white"
           }
          },
          "shapedefaults": {
           "line": {
            "color": "#2a3f5f"
           }
          },
          "ternary": {
           "aaxis": {
            "gridcolor": "white",
            "linecolor": "white",
            "ticks": ""
           },
           "baxis": {
            "gridcolor": "white",
            "linecolor": "white",
            "ticks": ""
           },
           "bgcolor": "#E5ECF6",
           "caxis": {
            "gridcolor": "white",
            "linecolor": "white",
            "ticks": ""
           }
          },
          "title": {
           "x": 0.05
          },
          "xaxis": {
           "automargin": true,
           "gridcolor": "white",
           "linecolor": "white",
           "ticks": "",
           "title": {
            "standoff": 15
           },
           "zerolinecolor": "white",
           "zerolinewidth": 2
          },
          "yaxis": {
           "automargin": true,
           "gridcolor": "white",
           "linecolor": "white",
           "ticks": "",
           "title": {
            "standoff": 15
           },
           "zerolinecolor": "white",
           "zerolinewidth": 2
          }
         }
        },
        "xaxis": {
         "anchor": "y",
         "domain": [
          0,
          1
         ],
         "title": {
          "text": "value"
         }
        },
        "yaxis": {
         "anchor": "x",
         "domain": [
          0,
          1
         ],
         "title": {
          "text": "count"
         }
        }
       }
      },
      "text/html": [
       "<div>                            <div id=\"fcd3d69c-1d34-41d4-85d7-e66a55337604\" class=\"plotly-graph-div\" style=\"height:525px; width:100%;\"></div>            <script type=\"text/javascript\">                require([\"plotly\"], function(Plotly) {                    window.PLOTLYENV=window.PLOTLYENV || {};                                    if (document.getElementById(\"fcd3d69c-1d34-41d4-85d7-e66a55337604\")) {                    Plotly.newPlot(                        \"fcd3d69c-1d34-41d4-85d7-e66a55337604\",                        [{\"alignmentgroup\":\"True\",\"bingroup\":\"x\",\"hovertemplate\":\"variable=0<br>value=%{x}<br>count=%{y}<extra></extra>\",\"legendgroup\":\"0\",\"marker\":{\"color\":\"#636efa\",\"pattern\":{\"shape\":\"\"}},\"name\":\"0\",\"offsetgroup\":\"0\",\"orientation\":\"v\",\"showlegend\":true,\"type\":\"histogram\",\"x\":[37.50619999999999,0.2270000000000323,0.02400000000002933,0.014000000000010004,0.028999999999996362,0.040000000000048885,0.025999999999967827,0.002999999999971692,0.025999999999967827,0.001999999999995339,0.0020000000000095497,0.005000000000023874,0.02899999999995373,0.010000000000005116,0.014000000000010004,0.022999999999996135,0.016000000000019554,0.021999999999962938,0.03000000000002956,0.005000000000023874,0.013000000000033651,0.005000000000023874,0.020000000000010232,0.020000000000010232,0.004999999999981242,0.03100000000000591,0.001999999999995339,0.0069999999999765805,0.02200000000001978,0.016000000000019554,0.025000000000048317,0.012000000000014666,0.01799999999995805,0.0020000000000095497,0.016000000000019554,0.006000000000014438,0.029000000000010573,0.005000000000023874,0.003999999999990678,0.025000000000005684,0.027000000000001023,0.02200000000001978,0.038999999999958845,0.03100000000000591,0.0040000000000048885,0.020999999999943952,0.006000000000057071,0.013999999999967372,0.001999999999995339,0.014000000000010004,21.83720000000001,0.009000000000042974,0.0040000000000048885,0.006000000000057071,0.007000000000033424,0.011000000000038312,0.01000000000006196,0.0040000000000048885,0.01700000000005275,0.007999999999995566,0.022999999999996135,0.016999999999995907,0.045000000000015916,0.0040000000000048885,0.018999999999991246,0.0,0.0,0.0,0.09700000000000841,0.5070000000000334,0.5499999999999972,0.27300000000002456,0.6839999999999549,0.8779999999999859,0.9490000000000407,3.1450000000000102,14.647999999999996,0.0,0.0,0.0,0.0,0.0,0.0,5.5020000000000095,11.248000000000033,1.3540000000000134,1.1970000000000027,0.3650000000000091,0.18099999999998317,0.022999999999981924,0.24499999999999034,0.2389999999999901,0.22900000000002763,0.06299999999998818,0.15500000000001535,0.28000000000000114,0.6829999999999927,0.9020000000000152,0.29000000000000625,0.4360000000000497,18.322799999999972,0.6680000000000064,0.27599999999999625,0.3159999999999883,0.00899999999998613,0.4440000000000026,0.6589999999999634,0.20700000000002206,0.005000000000038085,0.20999999999999375,0.06199999999999761,0.1320000000000192,0.17499999999998295,0.21299999999996544,0.5960000000000463,0.6389999999999958,0.34399999999995146,0.2020000000000408,0.562999999999974,0.0,0.0,0.0,0.0,0.0,0.0,0.0,0.0,0.0,0.0,1.0829999999999984,1.6379999999999768,0.11699999999997601,0.14300000000000068,0.1570000000000249,0.04599999999999227,0.20400000000003615,0.20099999999995077,0.11700000000003286,0.09999999999999432,0.04199999999998738,0.06199999999999761,0.17800000000001148,0.14999999999999147,0.10700000000002774,0.010999999999981469,0.08799999999997965,0.0880000000000365,0.0999999999999801,0.06399999999996453,0.13100000000004286,0.12499999999998579,0.002999999999971692,0.0009999999999763531,0.016000000000005343,0.005000000000023874,0.15299999999996317,0.20100000000000762,0.2090000000000174,0.1939999999999742,0.02800000000002001,0.025999999999967827,0.06900000000004525,0.16800000000000637,0.29199999999995896,0.21700000000001296,0.03300000000000125,0.025000000000005684,0.16300000000002512,0.2360000000000042,0.06199999999999761,0.1559999999999775,0.44700000000003115,0.2570000000000192,0.31100000000000705,0.23099999999998033,0.4440000000000026,0.09100000000006503,0.14300000000000068,0.03100000000000591,2.744000000000028,0.575999999999965,0.08299999999994156,0.0040000000000048885,0.13000000000000966,0.31600000000004513,0.0549999999999784,0.05700000000003058,0.17499999999998295,0.025000000000005684,0.14199999999996749,0.05700000000003058,0.08299999999999841,0.14599999999998658,0.09399999999999409,0.20900000000000318,0.17800000000001148,0.4979999999999478,0.07699999999999818,0.18099999999998317,0.04999999999999716,0.15699999999996805,0.22599999999995646,0.5289999999999537,0.2820000000000533,0.2139999999999418,0.09000000000003183,0.3060000000000258,0.3429999999999893,0.11400000000000432,0.24200000000003286,0.19999999999997442,0.09700000000002262,0.027000000000001023,0.06500000000004036,0.20199999999998397,0.36700000000000443,0.11400000000000432,0.5419999999999874,1.160999999999973,0.3859999999999957,0.8529999999999802,1.017999999999958,0.2849999999999824,0.5260000000000247,1.1340000000000146,0.5399999999999778,0.6849999999999881,0.2740000000000009,0.12000000000000455,1.7220000000000084,0.12899999999999068,0.34300000000003195,0.0870000000000033,0.18000000000000682,0.21800000000000352,0.014999999999986358,0.07099999999999795,0.0309999999999917,0.020000000000010232,0.02100000000004343,0.05099999999997351,0.1950000000000074,0.23699999999998056,0.06400000000000716,0.12499999999998579,0.09799999999998477,0.008000000000009777,0.04899999999996396,0.05899999999998329,0.715999999999994,2.4080000000000155,5.1059999999999945,0.8500000000000227,11.195999999999984,4.655000000000015,9.706000000000003,0.410000000000025,21.887500000000003,2.151200000000017,19.942299999999975,1.0839999999999748,12.044000000000011,14.35799999999999,0.07099999999998374,0.35499999999998977,0.25499999999999545,0.9040000000000106,1.1900000000000261,9.784999999999982,9.76300000000002,7.706000000000046,7.367000000000004,0.886999999999972,0.3510000000000417,2.7889999999999873,12.853099999999998,16.515100000000004,0.2360000000000042,0.08499999999999375,0.0,0.0,0.0,1.606999999999971,11.833000000000027,9.856000000000023,5.9839999999999804,4.382999999999967,0.825000000000017,1.8569999999999993,1.1550000000000153,10.813000000000017,8.968999999999951,11.638999999999953,13.117999999999967,17.540099999999953,16.845099999999945,0.15200000000004366,0.811000000000007,10.125000000000057,0.0,0.0,6.514000000000024,4.2450000000000045,9.859999999999985,5.581999999999979,0.0,0.0,0.0,4.601000000000013,7.109000000000023,7.009000000000043,6.355000000000004,6.595000000000013,5.706000000000046,0.0,0.0,19.514899999999997,5.565899999999999,0.0,0.0,0.0,0.0,0.0,8.534999999999968,3.3390000000000413,7.47199999999998,7.6949999999999505,8.685999999999979,8.635000000000005,10.379999999999995,9.323999999999998,1.2439999999999714,12.652999999999977,10.811999999999983,8.624999999999986,9.346000000000018,1.8530000000000513,2.7679999999999865,0.0,0.0,0.0,0.0,0.0,1.3440000000000083,6.05900000000004,0.0,0.0,0.0,0.0,0.0,0.0,0.0,0.0,0.0,0.0,0.0,0.0,0.0,0.0,0.0,0.0,0.0,0.0,0.0,0.0,75.1291,11.439000000000036,0.19999999999997442,0.5859999999999843,0.0,0.0,0.0,0.0,0.0,0.0,0.0,0.0,0.0,0.0,3.2169999999999703,6.250000000000028,2.680000000000007,3.462999999999994,19.673999999999964,12.487000000000023,2.834000000000003,2.4149999999999494,2.0689999999999884,8.233999999999966,7.581999999999979,2.8079999999999785,5.468999999999994,1.4620000000000175,5.4659999999999656,6.531999999999982,12.16100000000003,8.732000000000014,18.783599999999964,3.532600000000002,3.1959999999999837,8.213000000000022,0.0,0.0,0.0,0.0,0.0,0.0,0.0,0.0,0.0,0.0,0.8849999999999767,4.939999999999998,7.860000000000028,5.865000000000009,9.058999999999983,9.32099999999997,4.699999999999989,33.629399999999976,0.0,0.0,0.0,0.0,0.0,0.0,0.0,0.0,0.0,0.0,16.549999999999955,13.10899999999998,8.96499999999999,9.48599999999999,15.271699999999996,15.282699999999977,0.0,0.0,0.0,0.0,0.0,0.0,0.0,0.0,0.0,0.0,6.3629999999999995,0.0,0.0,0.0,0.0,0.0,0.0,0.0,0.0,0.0,0.0,2.984999999999957,27.38280000000003,12.583800000000025,0.5559999999999974,5.7450000000000045,1.4660000000000224,5.73899999999999,3.5729999999999933,9.759999999999991,12.953999999999965,1.4559999999999462,11.317000000000021,7.776399999999967,19.913399999999967,14.229299999999995,0.0,0.0,0.0,0.0,0.0,0.0,0.0,0.0,0.0,0.0,22.699799999999996,4.645999999999987,0.0,0.0,0.0,0.0,0.0,0.0,0.0,0.0,0.0,0.0,0.0,0.0,0.0,0.0,0.0,0.0,0.0,0.0,0.0,0.0,21.889700000000005,7.2180000000000035,8.13300000000001,7.288999999999987,3.6860000000000213,7.959999999999965,6.564000000000021,7.949000000000041,11.377000000000024,0.08100000000000307,3.555000000000021,17.12360000000001,0.5897000000000219,11.923300000000026,3.778000000000006,1.6843000000000359,12.568300000000036,1.8629999999999995,12.078800000000001,10.984799999999964,2.0660000000000025,1.8430000000000462,4.3450000000000415,0.5730000000000359,4.626000000000019,2.890999999999977,17.983200000000025,13.435200000000037,2.447000000000031,0.2809999999999775,2.517999999999958,5.294000000000025,6.38600000000001,0.14399999999997704,6.678000000000026,15.67700000000005,1.9980000000000473,0.9439999999999458,5.603000000000023,4.40000000000002,4.085000000000008,7.095999999999989,6.822999999999965,25.0728,18.143799999999985,6.575999999999965,5.866999999999948,4.579800000000034,6.257799999999989,6.1229999999999905,4.919000000000011,0.0,0.0,0.0,0.0,0.0,0.0,0.0,0.0,0.0,0.0,10.658000000000001,3.1110000000000326,5.50800000000001,16.221000000000032,9.510999999999981,1.6389999999999958,0.0,0.0,0.0,0.0,0.0,0.0,0.0,0.0,0.0,0.0,36.01870000000001,10.606800000000021,6.9803,16.45010000000002,3.404999999999987,10.927000000000007,14.399000000000044,0.0,0.0,0.0,0.0,0.0,0.0,21.403600000000026,16.582600000000014,4.606000000000009,3.3299999999999983,4.842999999999989,0.0,0.0,0.0,0.0,2.40600000000002,19.92919999999998,3.216600000000014,19.013799999999975,0.612000000000009,10.258999999999958,0.0,0.0,0.0,0.0,0.0,0.0,0.0,0.0,0.0,0.0,7.287999999999968,3.7740000000000578,9.552000000000007,0.0,0.0,0.0,0.0,0.0,0.0,0.0,0.0,0.0,0.0,16.90360000000001,26.931099999999986,0.0,0.0,0.0,0.0,0.0,0.0,0.0,0.0,0.0,0.0,2.5729999999999933,16.131,0.0,0.0,0.0,0.0,0.0,0.0,0.0,0.0,0.0,0.0,0.5180000000000149,0.0,0.0,0.0,0.0,0.0,0.0,0.0,0.0,0.0,0.0,2.950000000000003,18.721400000000003,0.0,0.0,0.0,0.0,0.0,0.0,0.0,0.0,0.0,0.0,5.128999999999991,0.3520000000000181,0.0,0.0,0.0,0.0,0.0,0.0,0.0,0.0,0.0,0.0,4.234000000000023,0.0,0.0,0.0,0.0,0.0,0.0,0.0,0.0,0.0,0.0,6.271699999999996,16.52589999999998,16.768899999999974,8.197999999999979,5.274000000000001,6.1769999999999925,13.954799999999992,3.7348000000000354,10.366999999999962,21.332100000000025,0.0,0.0,0.0,0.0,0.0,0.0,0.0,0.0,0.0,0.0,15.180999999999997,0.0,0.0,0.0,0.0,0.0,0.0,0.0,0.0,0.0,0.0,3.3260000000000502,14.403999999999982,8.377799999999993,19.134800000000013,20.1327,6.588099999999983,3.607599999999991,10.13900000000001,0.0,0.0,0.0,0.0,0.0,0.0,0.0,0.0,0.0,0.0,2.320000000000036,0.0,0.0,0.0,0.0,0.0,24.486599999999967,0.0,0.0,0.0,0.0,0.0,10.984999999999971,7.352999999999994,8.861000000000004,0.8589999999999947,0.0,0.0,0.0,0.0,0.0,0.0,0.0,0.0,0.0,0.0,3.9839999999999947,22.487400000000036,0.0,0.0,0.0,0.0,0.0,0.0,0.0,0.0,0.0,0.0,0.0,0.0,0.0,0.0,0.0,0.0,0.0,0.0,0.0,0.0,67.96620000000003,0.7280000000000655,2.3549999999999898,8.219000000000037,10.971000000000018,3.751999999999981,4.575000000000003,0.228999999999985,1.3090000000000117,3.396000000000001,8.24760000000002,11.634600000000049,1.0289999999999964,1.701999999999984,5.927999999999983,3.386999999999972,4.390999999999977,1.279000000000039,0.4880000000000422,9.336000000000013,0.0,0.0,0.0,0.0,0.0,0.0,0.0,0.0,0.0,0.0,8.45799999999997,1.0510000000000161,0.0,0.0,0.0,0.0,0.0,0.0,0.0,0.0,0.0,0.0,0.0,0.0,0.0,0.0,0.0,0.0,0.0,0.0,0.0,0.0,0.5320000000000391,13.616600000000034,2.3906000000000205,1.0100000000000051,2.1310000000000002,4.172999999999973,0.0,0.0,0.0,0.0,0.0,0.0,0.0,0.0,0.0,0.0,51.10579999999998,10.402000000000015,0.0,0.0,0.0,0.0,0.0,0.0,0.0,0.0,0.0,0.0,4.182999999999936,7.0610000000000355,1.6950000000000074,1.8569999999999993,2.9830000000000183,0.6840000000000259,2.112000000000009,1.1340000000000288,3.778999999999968,0.0,0.0,0.0,0.0,0.0,0.0,0.0,0.0,0.0,0.0,0.0,0.0,0.0,0.0,0.0,0.0,0.0,0.0,0.0,0.0,7.763000000000019,0.0,0.0,0.0,0.0,0.0,0.0,0.0,0.0,0.0,0.0,1.9250000000000114,13.488899999999973,0.702899999999957,1.9320999999999913,1.2615999999999872,0.8325000000000244,2.5732,2.964000000000013,4.172999999999988,0.0,0.0,0.0,0.0,0.0,0.0,0.0,0.0,0.0,0.0,3.284000000000006,0.3359999999999985,4.967999999999975,0.0,0.0,0.0,0.0,0.0,0.0,0.0,0.0,0.0,0.0,0.0,0.0,0.0,0.0,0.0,0.0,0.0,0.0,0.0,0.0,3.3839999999999435,86.5826,18.447300000000002,0.0,0.0,0.0,0.0,0.0,0.0,0.0,0.0,0.0,0.0,5.437000000000026,0.08600000000002694,0.9129999999999967,3.603999999999999,0.0,0.0,0.0,0.0,0.0,0.0,0.0,0.0,0.0,0.0],\"xaxis\":\"x\",\"yaxis\":\"y\"}],                        {\"barmode\":\"relative\",\"legend\":{\"title\":{\"text\":\"variable\"},\"tracegroupgap\":0},\"margin\":{\"t\":60},\"template\":{\"data\":{\"bar\":[{\"error_x\":{\"color\":\"#2a3f5f\"},\"error_y\":{\"color\":\"#2a3f5f\"},\"marker\":{\"line\":{\"color\":\"#E5ECF6\",\"width\":0.5},\"pattern\":{\"fillmode\":\"overlay\",\"size\":10,\"solidity\":0.2}},\"type\":\"bar\"}],\"barpolar\":[{\"marker\":{\"line\":{\"color\":\"#E5ECF6\",\"width\":0.5},\"pattern\":{\"fillmode\":\"overlay\",\"size\":10,\"solidity\":0.2}},\"type\":\"barpolar\"}],\"carpet\":[{\"aaxis\":{\"endlinecolor\":\"#2a3f5f\",\"gridcolor\":\"white\",\"linecolor\":\"white\",\"minorgridcolor\":\"white\",\"startlinecolor\":\"#2a3f5f\"},\"baxis\":{\"endlinecolor\":\"#2a3f5f\",\"gridcolor\":\"white\",\"linecolor\":\"white\",\"minorgridcolor\":\"white\",\"startlinecolor\":\"#2a3f5f\"},\"type\":\"carpet\"}],\"choropleth\":[{\"colorbar\":{\"outlinewidth\":0,\"ticks\":\"\"},\"type\":\"choropleth\"}],\"contour\":[{\"colorbar\":{\"outlinewidth\":0,\"ticks\":\"\"},\"colorscale\":[[0.0,\"#0d0887\"],[0.1111111111111111,\"#46039f\"],[0.2222222222222222,\"#7201a8\"],[0.3333333333333333,\"#9c179e\"],[0.4444444444444444,\"#bd3786\"],[0.5555555555555556,\"#d8576b\"],[0.6666666666666666,\"#ed7953\"],[0.7777777777777778,\"#fb9f3a\"],[0.8888888888888888,\"#fdca26\"],[1.0,\"#f0f921\"]],\"type\":\"contour\"}],\"contourcarpet\":[{\"colorbar\":{\"outlinewidth\":0,\"ticks\":\"\"},\"type\":\"contourcarpet\"}],\"heatmap\":[{\"colorbar\":{\"outlinewidth\":0,\"ticks\":\"\"},\"colorscale\":[[0.0,\"#0d0887\"],[0.1111111111111111,\"#46039f\"],[0.2222222222222222,\"#7201a8\"],[0.3333333333333333,\"#9c179e\"],[0.4444444444444444,\"#bd3786\"],[0.5555555555555556,\"#d8576b\"],[0.6666666666666666,\"#ed7953\"],[0.7777777777777778,\"#fb9f3a\"],[0.8888888888888888,\"#fdca26\"],[1.0,\"#f0f921\"]],\"type\":\"heatmap\"}],\"heatmapgl\":[{\"colorbar\":{\"outlinewidth\":0,\"ticks\":\"\"},\"colorscale\":[[0.0,\"#0d0887\"],[0.1111111111111111,\"#46039f\"],[0.2222222222222222,\"#7201a8\"],[0.3333333333333333,\"#9c179e\"],[0.4444444444444444,\"#bd3786\"],[0.5555555555555556,\"#d8576b\"],[0.6666666666666666,\"#ed7953\"],[0.7777777777777778,\"#fb9f3a\"],[0.8888888888888888,\"#fdca26\"],[1.0,\"#f0f921\"]],\"type\":\"heatmapgl\"}],\"histogram\":[{\"marker\":{\"pattern\":{\"fillmode\":\"overlay\",\"size\":10,\"solidity\":0.2}},\"type\":\"histogram\"}],\"histogram2d\":[{\"colorbar\":{\"outlinewidth\":0,\"ticks\":\"\"},\"colorscale\":[[0.0,\"#0d0887\"],[0.1111111111111111,\"#46039f\"],[0.2222222222222222,\"#7201a8\"],[0.3333333333333333,\"#9c179e\"],[0.4444444444444444,\"#bd3786\"],[0.5555555555555556,\"#d8576b\"],[0.6666666666666666,\"#ed7953\"],[0.7777777777777778,\"#fb9f3a\"],[0.8888888888888888,\"#fdca26\"],[1.0,\"#f0f921\"]],\"type\":\"histogram2d\"}],\"histogram2dcontour\":[{\"colorbar\":{\"outlinewidth\":0,\"ticks\":\"\"},\"colorscale\":[[0.0,\"#0d0887\"],[0.1111111111111111,\"#46039f\"],[0.2222222222222222,\"#7201a8\"],[0.3333333333333333,\"#9c179e\"],[0.4444444444444444,\"#bd3786\"],[0.5555555555555556,\"#d8576b\"],[0.6666666666666666,\"#ed7953\"],[0.7777777777777778,\"#fb9f3a\"],[0.8888888888888888,\"#fdca26\"],[1.0,\"#f0f921\"]],\"type\":\"histogram2dcontour\"}],\"mesh3d\":[{\"colorbar\":{\"outlinewidth\":0,\"ticks\":\"\"},\"type\":\"mesh3d\"}],\"parcoords\":[{\"line\":{\"colorbar\":{\"outlinewidth\":0,\"ticks\":\"\"}},\"type\":\"parcoords\"}],\"pie\":[{\"automargin\":true,\"type\":\"pie\"}],\"scatter\":[{\"marker\":{\"colorbar\":{\"outlinewidth\":0,\"ticks\":\"\"}},\"type\":\"scatter\"}],\"scatter3d\":[{\"line\":{\"colorbar\":{\"outlinewidth\":0,\"ticks\":\"\"}},\"marker\":{\"colorbar\":{\"outlinewidth\":0,\"ticks\":\"\"}},\"type\":\"scatter3d\"}],\"scattercarpet\":[{\"marker\":{\"colorbar\":{\"outlinewidth\":0,\"ticks\":\"\"}},\"type\":\"scattercarpet\"}],\"scattergeo\":[{\"marker\":{\"colorbar\":{\"outlinewidth\":0,\"ticks\":\"\"}},\"type\":\"scattergeo\"}],\"scattergl\":[{\"marker\":{\"colorbar\":{\"outlinewidth\":0,\"ticks\":\"\"}},\"type\":\"scattergl\"}],\"scattermapbox\":[{\"marker\":{\"colorbar\":{\"outlinewidth\":0,\"ticks\":\"\"}},\"type\":\"scattermapbox\"}],\"scatterpolar\":[{\"marker\":{\"colorbar\":{\"outlinewidth\":0,\"ticks\":\"\"}},\"type\":\"scatterpolar\"}],\"scatterpolargl\":[{\"marker\":{\"colorbar\":{\"outlinewidth\":0,\"ticks\":\"\"}},\"type\":\"scatterpolargl\"}],\"scatterternary\":[{\"marker\":{\"colorbar\":{\"outlinewidth\":0,\"ticks\":\"\"}},\"type\":\"scatterternary\"}],\"surface\":[{\"colorbar\":{\"outlinewidth\":0,\"ticks\":\"\"},\"colorscale\":[[0.0,\"#0d0887\"],[0.1111111111111111,\"#46039f\"],[0.2222222222222222,\"#7201a8\"],[0.3333333333333333,\"#9c179e\"],[0.4444444444444444,\"#bd3786\"],[0.5555555555555556,\"#d8576b\"],[0.6666666666666666,\"#ed7953\"],[0.7777777777777778,\"#fb9f3a\"],[0.8888888888888888,\"#fdca26\"],[1.0,\"#f0f921\"]],\"type\":\"surface\"}],\"table\":[{\"cells\":{\"fill\":{\"color\":\"#EBF0F8\"},\"line\":{\"color\":\"white\"}},\"header\":{\"fill\":{\"color\":\"#C8D4E3\"},\"line\":{\"color\":\"white\"}},\"type\":\"table\"}]},\"layout\":{\"annotationdefaults\":{\"arrowcolor\":\"#2a3f5f\",\"arrowhead\":0,\"arrowwidth\":1},\"autotypenumbers\":\"strict\",\"coloraxis\":{\"colorbar\":{\"outlinewidth\":0,\"ticks\":\"\"}},\"colorscale\":{\"diverging\":[[0,\"#8e0152\"],[0.1,\"#c51b7d\"],[0.2,\"#de77ae\"],[0.3,\"#f1b6da\"],[0.4,\"#fde0ef\"],[0.5,\"#f7f7f7\"],[0.6,\"#e6f5d0\"],[0.7,\"#b8e186\"],[0.8,\"#7fbc41\"],[0.9,\"#4d9221\"],[1,\"#276419\"]],\"sequential\":[[0.0,\"#0d0887\"],[0.1111111111111111,\"#46039f\"],[0.2222222222222222,\"#7201a8\"],[0.3333333333333333,\"#9c179e\"],[0.4444444444444444,\"#bd3786\"],[0.5555555555555556,\"#d8576b\"],[0.6666666666666666,\"#ed7953\"],[0.7777777777777778,\"#fb9f3a\"],[0.8888888888888888,\"#fdca26\"],[1.0,\"#f0f921\"]],\"sequentialminus\":[[0.0,\"#0d0887\"],[0.1111111111111111,\"#46039f\"],[0.2222222222222222,\"#7201a8\"],[0.3333333333333333,\"#9c179e\"],[0.4444444444444444,\"#bd3786\"],[0.5555555555555556,\"#d8576b\"],[0.6666666666666666,\"#ed7953\"],[0.7777777777777778,\"#fb9f3a\"],[0.8888888888888888,\"#fdca26\"],[1.0,\"#f0f921\"]]},\"colorway\":[\"#636efa\",\"#EF553B\",\"#00cc96\",\"#ab63fa\",\"#FFA15A\",\"#19d3f3\",\"#FF6692\",\"#B6E880\",\"#FF97FF\",\"#FECB52\"],\"font\":{\"color\":\"#2a3f5f\"},\"geo\":{\"bgcolor\":\"white\",\"lakecolor\":\"white\",\"landcolor\":\"#E5ECF6\",\"showlakes\":true,\"showland\":true,\"subunitcolor\":\"white\"},\"hoverlabel\":{\"align\":\"left\"},\"hovermode\":\"closest\",\"mapbox\":{\"style\":\"light\"},\"paper_bgcolor\":\"white\",\"plot_bgcolor\":\"#E5ECF6\",\"polar\":{\"angularaxis\":{\"gridcolor\":\"white\",\"linecolor\":\"white\",\"ticks\":\"\"},\"bgcolor\":\"#E5ECF6\",\"radialaxis\":{\"gridcolor\":\"white\",\"linecolor\":\"white\",\"ticks\":\"\"}},\"scene\":{\"xaxis\":{\"backgroundcolor\":\"#E5ECF6\",\"gridcolor\":\"white\",\"gridwidth\":2,\"linecolor\":\"white\",\"showbackground\":true,\"ticks\":\"\",\"zerolinecolor\":\"white\"},\"yaxis\":{\"backgroundcolor\":\"#E5ECF6\",\"gridcolor\":\"white\",\"gridwidth\":2,\"linecolor\":\"white\",\"showbackground\":true,\"ticks\":\"\",\"zerolinecolor\":\"white\"},\"zaxis\":{\"backgroundcolor\":\"#E5ECF6\",\"gridcolor\":\"white\",\"gridwidth\":2,\"linecolor\":\"white\",\"showbackground\":true,\"ticks\":\"\",\"zerolinecolor\":\"white\"}},\"shapedefaults\":{\"line\":{\"color\":\"#2a3f5f\"}},\"ternary\":{\"aaxis\":{\"gridcolor\":\"white\",\"linecolor\":\"white\",\"ticks\":\"\"},\"baxis\":{\"gridcolor\":\"white\",\"linecolor\":\"white\",\"ticks\":\"\"},\"bgcolor\":\"#E5ECF6\",\"caxis\":{\"gridcolor\":\"white\",\"linecolor\":\"white\",\"ticks\":\"\"}},\"title\":{\"x\":0.05},\"xaxis\":{\"automargin\":true,\"gridcolor\":\"white\",\"linecolor\":\"white\",\"ticks\":\"\",\"title\":{\"standoff\":15},\"zerolinecolor\":\"white\",\"zerolinewidth\":2},\"yaxis\":{\"automargin\":true,\"gridcolor\":\"white\",\"linecolor\":\"white\",\"ticks\":\"\",\"title\":{\"standoff\":15},\"zerolinecolor\":\"white\",\"zerolinewidth\":2}}},\"xaxis\":{\"anchor\":\"y\",\"domain\":[0.0,1.0],\"title\":{\"text\":\"value\"}},\"yaxis\":{\"anchor\":\"x\",\"domain\":[0.0,1.0],\"title\":{\"text\":\"count\"}}},                        {\"responsive\": true}                    ).then(function(){\n",
       "                            \n",
       "var gd = document.getElementById('fcd3d69c-1d34-41d4-85d7-e66a55337604');\n",
       "var x = new MutationObserver(function (mutations, observer) {{\n",
       "        var display = window.getComputedStyle(gd).display;\n",
       "        if (!display || display === 'none') {{\n",
       "            console.log([gd, 'removed!']);\n",
       "            Plotly.purge(gd);\n",
       "            observer.disconnect();\n",
       "        }}\n",
       "}});\n",
       "\n",
       "// Listen for the removal of the full notebook cells\n",
       "var notebookContainer = gd.closest('#notebook-container');\n",
       "if (notebookContainer) {{\n",
       "    x.observe(notebookContainer, {childList: true});\n",
       "}}\n",
       "\n",
       "// Listen for the clearing of the current output cell\n",
       "var outputEl = gd.closest('.output');\n",
       "if (outputEl) {{\n",
       "    x.observe(outputEl, {childList: true});\n",
       "}}\n",
       "\n",
       "                        })                };                });            </script>        </div>"
      ]
     },
     "metadata": {},
     "output_type": "display_data"
    }
   ],
   "source": [
    "fig = px.histogram(diff_mh1)\n",
    "fig.show(log_x=True)"
   ]
  },
  {
   "cell_type": "code",
   "execution_count": 39,
   "id": "1f8abf76",
   "metadata": {},
   "outputs": [
    {
     "data": {
      "application/vnd.plotly.v1+json": {
       "config": {
        "plotlyServerURL": "https://plot.ly"
       },
       "data": [
        {
         "hovertemplate": "done=True<br>Mh(2)=%{x}<br>Mh(2)_prime=%{y}<extra></extra>",
         "legendgroup": "True",
         "marker": {
          "color": "#636efa",
          "symbol": "circle"
         },
         "mode": "markers",
         "name": "True",
         "orientation": "v",
         "showlegend": true,
         "type": "scatter",
         "x": [
          200.577,
          152.507,
          155.85099999999997,
          147.373,
          130.413,
          149.49500000000003,
          142.88,
          122.77100000000002,
          123.27799999999999,
          123.29200000000002,
          123.13200000000002,
          123.18299999999999,
          125.68499999999999,
          136.324,
          122.93699999999997,
          118.46499999999999,
          123.674,
          124.29800000000002,
          119.22399999999999,
          122.697,
          129.48099999999997,
          122.90899999999999,
          118.45499999999998,
          118.63800000000002,
          118.23800000000001,
          118.149,
          127.189,
          118.05500000000002,
          128.122,
          123.84400000000001,
          117.44299999999997,
          117.86200000000002,
          125.80400000000003,
          117.585,
          126.60099999999997,
          117.55300000000003,
          168.755,
          122.67300000000003,
          122.944,
          122.84400000000001,
          123.13200000000002,
          123.77,
          123.88100000000001,
          123.71100000000001,
          124.12,
          123.94899999999997,
          122.59100000000001,
          123.031,
          123.47200000000002,
          122.89800000000001
         ],
         "xaxis": "x",
         "y": [
          202.16599999999997,
          145.368,
          155.85099999999997,
          150.82899999999998,
          128.417,
          136.47799999999998,
          142.88,
          122.77100000000002,
          123.27799999999999,
          123.29200000000002,
          123.13200000000002,
          123.18299999999999,
          125.68499999999999,
          136.324,
          122.93699999999997,
          118.46499999999999,
          123.674,
          124.29800000000002,
          121.25799999999998,
          122.697,
          129.48099999999997,
          122.90899999999999,
          118.45499999999998,
          118.63800000000002,
          118.23800000000001,
          118.149,
          127.189,
          118.05500000000002,
          128.122,
          123.84400000000001,
          117.44299999999997,
          117.86200000000002,
          125.80400000000003,
          117.585,
          126.60099999999997,
          117.55300000000003,
          168.755,
          122.67300000000003,
          122.944,
          122.84400000000001,
          123.13200000000002,
          123.77,
          123.88100000000001,
          123.71100000000001,
          124.12,
          123.94899999999997,
          122.59100000000001,
          123.031,
          123.47200000000002,
          122.89800000000001
         ],
         "yaxis": "y"
        },
        {
         "alignmentgroup": "True",
         "bingroup": "x",
         "hovertemplate": "done=True<br>Mh(2)=%{x}<br>count=%{y}<extra></extra>",
         "legendgroup": "True",
         "marker": {
          "color": "#636efa"
         },
         "name": "True",
         "offsetgroup": "True",
         "opacity": 0.5,
         "showlegend": false,
         "type": "histogram",
         "x": [
          200.577,
          152.507,
          155.85099999999997,
          147.373,
          130.413,
          149.49500000000003,
          142.88,
          122.77100000000002,
          123.27799999999999,
          123.29200000000002,
          123.13200000000002,
          123.18299999999999,
          125.68499999999999,
          136.324,
          122.93699999999997,
          118.46499999999999,
          123.674,
          124.29800000000002,
          119.22399999999999,
          122.697,
          129.48099999999997,
          122.90899999999999,
          118.45499999999998,
          118.63800000000002,
          118.23800000000001,
          118.149,
          127.189,
          118.05500000000002,
          128.122,
          123.84400000000001,
          117.44299999999997,
          117.86200000000002,
          125.80400000000003,
          117.585,
          126.60099999999997,
          117.55300000000003,
          168.755,
          122.67300000000003,
          122.944,
          122.84400000000001,
          123.13200000000002,
          123.77,
          123.88100000000001,
          123.71100000000001,
          124.12,
          123.94899999999997,
          122.59100000000001,
          123.031,
          123.47200000000002,
          122.89800000000001
         ],
         "xaxis": "x3",
         "yaxis": "y3"
        },
        {
         "alignmentgroup": "True",
         "bingroup": "y",
         "hovertemplate": "done=True<br>Mh(2)_prime=%{y}<br>count=%{x}<extra></extra>",
         "legendgroup": "True",
         "marker": {
          "color": "#636efa"
         },
         "name": "True",
         "offsetgroup": "True",
         "opacity": 0.5,
         "showlegend": false,
         "type": "histogram",
         "xaxis": "x2",
         "y": [
          202.16599999999997,
          145.368,
          155.85099999999997,
          150.82899999999998,
          128.417,
          136.47799999999998,
          142.88,
          122.77100000000002,
          123.27799999999999,
          123.29200000000002,
          123.13200000000002,
          123.18299999999999,
          125.68499999999999,
          136.324,
          122.93699999999997,
          118.46499999999999,
          123.674,
          124.29800000000002,
          121.25799999999998,
          122.697,
          129.48099999999997,
          122.90899999999999,
          118.45499999999998,
          118.63800000000002,
          118.23800000000001,
          118.149,
          127.189,
          118.05500000000002,
          128.122,
          123.84400000000001,
          117.44299999999997,
          117.86200000000002,
          125.80400000000003,
          117.585,
          126.60099999999997,
          117.55300000000003,
          168.755,
          122.67300000000003,
          122.944,
          122.84400000000001,
          123.13200000000002,
          123.77,
          123.88100000000001,
          123.71100000000001,
          124.12,
          123.94899999999997,
          122.59100000000001,
          123.031,
          123.47200000000002,
          122.89800000000001
         ],
         "yaxis": "y2"
        }
       ],
       "layout": {
        "barmode": "overlay",
        "legend": {
         "title": {
          "text": "done"
         },
         "tracegroupgap": 0
        },
        "margin": {
         "t": 60
        },
        "template": {
         "data": {
          "bar": [
           {
            "error_x": {
             "color": "#2a3f5f"
            },
            "error_y": {
             "color": "#2a3f5f"
            },
            "marker": {
             "line": {
              "color": "#E5ECF6",
              "width": 0.5
             },
             "pattern": {
              "fillmode": "overlay",
              "size": 10,
              "solidity": 0.2
             }
            },
            "type": "bar"
           }
          ],
          "barpolar": [
           {
            "marker": {
             "line": {
              "color": "#E5ECF6",
              "width": 0.5
             },
             "pattern": {
              "fillmode": "overlay",
              "size": 10,
              "solidity": 0.2
             }
            },
            "type": "barpolar"
           }
          ],
          "carpet": [
           {
            "aaxis": {
             "endlinecolor": "#2a3f5f",
             "gridcolor": "white",
             "linecolor": "white",
             "minorgridcolor": "white",
             "startlinecolor": "#2a3f5f"
            },
            "baxis": {
             "endlinecolor": "#2a3f5f",
             "gridcolor": "white",
             "linecolor": "white",
             "minorgridcolor": "white",
             "startlinecolor": "#2a3f5f"
            },
            "type": "carpet"
           }
          ],
          "choropleth": [
           {
            "colorbar": {
             "outlinewidth": 0,
             "ticks": ""
            },
            "type": "choropleth"
           }
          ],
          "contour": [
           {
            "colorbar": {
             "outlinewidth": 0,
             "ticks": ""
            },
            "colorscale": [
             [
              0,
              "#0d0887"
             ],
             [
              0.1111111111111111,
              "#46039f"
             ],
             [
              0.2222222222222222,
              "#7201a8"
             ],
             [
              0.3333333333333333,
              "#9c179e"
             ],
             [
              0.4444444444444444,
              "#bd3786"
             ],
             [
              0.5555555555555556,
              "#d8576b"
             ],
             [
              0.6666666666666666,
              "#ed7953"
             ],
             [
              0.7777777777777778,
              "#fb9f3a"
             ],
             [
              0.8888888888888888,
              "#fdca26"
             ],
             [
              1,
              "#f0f921"
             ]
            ],
            "type": "contour"
           }
          ],
          "contourcarpet": [
           {
            "colorbar": {
             "outlinewidth": 0,
             "ticks": ""
            },
            "type": "contourcarpet"
           }
          ],
          "heatmap": [
           {
            "colorbar": {
             "outlinewidth": 0,
             "ticks": ""
            },
            "colorscale": [
             [
              0,
              "#0d0887"
             ],
             [
              0.1111111111111111,
              "#46039f"
             ],
             [
              0.2222222222222222,
              "#7201a8"
             ],
             [
              0.3333333333333333,
              "#9c179e"
             ],
             [
              0.4444444444444444,
              "#bd3786"
             ],
             [
              0.5555555555555556,
              "#d8576b"
             ],
             [
              0.6666666666666666,
              "#ed7953"
             ],
             [
              0.7777777777777778,
              "#fb9f3a"
             ],
             [
              0.8888888888888888,
              "#fdca26"
             ],
             [
              1,
              "#f0f921"
             ]
            ],
            "type": "heatmap"
           }
          ],
          "heatmapgl": [
           {
            "colorbar": {
             "outlinewidth": 0,
             "ticks": ""
            },
            "colorscale": [
             [
              0,
              "#0d0887"
             ],
             [
              0.1111111111111111,
              "#46039f"
             ],
             [
              0.2222222222222222,
              "#7201a8"
             ],
             [
              0.3333333333333333,
              "#9c179e"
             ],
             [
              0.4444444444444444,
              "#bd3786"
             ],
             [
              0.5555555555555556,
              "#d8576b"
             ],
             [
              0.6666666666666666,
              "#ed7953"
             ],
             [
              0.7777777777777778,
              "#fb9f3a"
             ],
             [
              0.8888888888888888,
              "#fdca26"
             ],
             [
              1,
              "#f0f921"
             ]
            ],
            "type": "heatmapgl"
           }
          ],
          "histogram": [
           {
            "marker": {
             "pattern": {
              "fillmode": "overlay",
              "size": 10,
              "solidity": 0.2
             }
            },
            "type": "histogram"
           }
          ],
          "histogram2d": [
           {
            "colorbar": {
             "outlinewidth": 0,
             "ticks": ""
            },
            "colorscale": [
             [
              0,
              "#0d0887"
             ],
             [
              0.1111111111111111,
              "#46039f"
             ],
             [
              0.2222222222222222,
              "#7201a8"
             ],
             [
              0.3333333333333333,
              "#9c179e"
             ],
             [
              0.4444444444444444,
              "#bd3786"
             ],
             [
              0.5555555555555556,
              "#d8576b"
             ],
             [
              0.6666666666666666,
              "#ed7953"
             ],
             [
              0.7777777777777778,
              "#fb9f3a"
             ],
             [
              0.8888888888888888,
              "#fdca26"
             ],
             [
              1,
              "#f0f921"
             ]
            ],
            "type": "histogram2d"
           }
          ],
          "histogram2dcontour": [
           {
            "colorbar": {
             "outlinewidth": 0,
             "ticks": ""
            },
            "colorscale": [
             [
              0,
              "#0d0887"
             ],
             [
              0.1111111111111111,
              "#46039f"
             ],
             [
              0.2222222222222222,
              "#7201a8"
             ],
             [
              0.3333333333333333,
              "#9c179e"
             ],
             [
              0.4444444444444444,
              "#bd3786"
             ],
             [
              0.5555555555555556,
              "#d8576b"
             ],
             [
              0.6666666666666666,
              "#ed7953"
             ],
             [
              0.7777777777777778,
              "#fb9f3a"
             ],
             [
              0.8888888888888888,
              "#fdca26"
             ],
             [
              1,
              "#f0f921"
             ]
            ],
            "type": "histogram2dcontour"
           }
          ],
          "mesh3d": [
           {
            "colorbar": {
             "outlinewidth": 0,
             "ticks": ""
            },
            "type": "mesh3d"
           }
          ],
          "parcoords": [
           {
            "line": {
             "colorbar": {
              "outlinewidth": 0,
              "ticks": ""
             }
            },
            "type": "parcoords"
           }
          ],
          "pie": [
           {
            "automargin": true,
            "type": "pie"
           }
          ],
          "scatter": [
           {
            "marker": {
             "colorbar": {
              "outlinewidth": 0,
              "ticks": ""
             }
            },
            "type": "scatter"
           }
          ],
          "scatter3d": [
           {
            "line": {
             "colorbar": {
              "outlinewidth": 0,
              "ticks": ""
             }
            },
            "marker": {
             "colorbar": {
              "outlinewidth": 0,
              "ticks": ""
             }
            },
            "type": "scatter3d"
           }
          ],
          "scattercarpet": [
           {
            "marker": {
             "colorbar": {
              "outlinewidth": 0,
              "ticks": ""
             }
            },
            "type": "scattercarpet"
           }
          ],
          "scattergeo": [
           {
            "marker": {
             "colorbar": {
              "outlinewidth": 0,
              "ticks": ""
             }
            },
            "type": "scattergeo"
           }
          ],
          "scattergl": [
           {
            "marker": {
             "colorbar": {
              "outlinewidth": 0,
              "ticks": ""
             }
            },
            "type": "scattergl"
           }
          ],
          "scattermapbox": [
           {
            "marker": {
             "colorbar": {
              "outlinewidth": 0,
              "ticks": ""
             }
            },
            "type": "scattermapbox"
           }
          ],
          "scatterpolar": [
           {
            "marker": {
             "colorbar": {
              "outlinewidth": 0,
              "ticks": ""
             }
            },
            "type": "scatterpolar"
           }
          ],
          "scatterpolargl": [
           {
            "marker": {
             "colorbar": {
              "outlinewidth": 0,
              "ticks": ""
             }
            },
            "type": "scatterpolargl"
           }
          ],
          "scatterternary": [
           {
            "marker": {
             "colorbar": {
              "outlinewidth": 0,
              "ticks": ""
             }
            },
            "type": "scatterternary"
           }
          ],
          "surface": [
           {
            "colorbar": {
             "outlinewidth": 0,
             "ticks": ""
            },
            "colorscale": [
             [
              0,
              "#0d0887"
             ],
             [
              0.1111111111111111,
              "#46039f"
             ],
             [
              0.2222222222222222,
              "#7201a8"
             ],
             [
              0.3333333333333333,
              "#9c179e"
             ],
             [
              0.4444444444444444,
              "#bd3786"
             ],
             [
              0.5555555555555556,
              "#d8576b"
             ],
             [
              0.6666666666666666,
              "#ed7953"
             ],
             [
              0.7777777777777778,
              "#fb9f3a"
             ],
             [
              0.8888888888888888,
              "#fdca26"
             ],
             [
              1,
              "#f0f921"
             ]
            ],
            "type": "surface"
           }
          ],
          "table": [
           {
            "cells": {
             "fill": {
              "color": "#EBF0F8"
             },
             "line": {
              "color": "white"
             }
            },
            "header": {
             "fill": {
              "color": "#C8D4E3"
             },
             "line": {
              "color": "white"
             }
            },
            "type": "table"
           }
          ]
         },
         "layout": {
          "annotationdefaults": {
           "arrowcolor": "#2a3f5f",
           "arrowhead": 0,
           "arrowwidth": 1
          },
          "autotypenumbers": "strict",
          "coloraxis": {
           "colorbar": {
            "outlinewidth": 0,
            "ticks": ""
           }
          },
          "colorscale": {
           "diverging": [
            [
             0,
             "#8e0152"
            ],
            [
             0.1,
             "#c51b7d"
            ],
            [
             0.2,
             "#de77ae"
            ],
            [
             0.3,
             "#f1b6da"
            ],
            [
             0.4,
             "#fde0ef"
            ],
            [
             0.5,
             "#f7f7f7"
            ],
            [
             0.6,
             "#e6f5d0"
            ],
            [
             0.7,
             "#b8e186"
            ],
            [
             0.8,
             "#7fbc41"
            ],
            [
             0.9,
             "#4d9221"
            ],
            [
             1,
             "#276419"
            ]
           ],
           "sequential": [
            [
             0,
             "#0d0887"
            ],
            [
             0.1111111111111111,
             "#46039f"
            ],
            [
             0.2222222222222222,
             "#7201a8"
            ],
            [
             0.3333333333333333,
             "#9c179e"
            ],
            [
             0.4444444444444444,
             "#bd3786"
            ],
            [
             0.5555555555555556,
             "#d8576b"
            ],
            [
             0.6666666666666666,
             "#ed7953"
            ],
            [
             0.7777777777777778,
             "#fb9f3a"
            ],
            [
             0.8888888888888888,
             "#fdca26"
            ],
            [
             1,
             "#f0f921"
            ]
           ],
           "sequentialminus": [
            [
             0,
             "#0d0887"
            ],
            [
             0.1111111111111111,
             "#46039f"
            ],
            [
             0.2222222222222222,
             "#7201a8"
            ],
            [
             0.3333333333333333,
             "#9c179e"
            ],
            [
             0.4444444444444444,
             "#bd3786"
            ],
            [
             0.5555555555555556,
             "#d8576b"
            ],
            [
             0.6666666666666666,
             "#ed7953"
            ],
            [
             0.7777777777777778,
             "#fb9f3a"
            ],
            [
             0.8888888888888888,
             "#fdca26"
            ],
            [
             1,
             "#f0f921"
            ]
           ]
          },
          "colorway": [
           "#636efa",
           "#EF553B",
           "#00cc96",
           "#ab63fa",
           "#FFA15A",
           "#19d3f3",
           "#FF6692",
           "#B6E880",
           "#FF97FF",
           "#FECB52"
          ],
          "font": {
           "color": "#2a3f5f"
          },
          "geo": {
           "bgcolor": "white",
           "lakecolor": "white",
           "landcolor": "#E5ECF6",
           "showlakes": true,
           "showland": true,
           "subunitcolor": "white"
          },
          "hoverlabel": {
           "align": "left"
          },
          "hovermode": "closest",
          "mapbox": {
           "style": "light"
          },
          "paper_bgcolor": "white",
          "plot_bgcolor": "#E5ECF6",
          "polar": {
           "angularaxis": {
            "gridcolor": "white",
            "linecolor": "white",
            "ticks": ""
           },
           "bgcolor": "#E5ECF6",
           "radialaxis": {
            "gridcolor": "white",
            "linecolor": "white",
            "ticks": ""
           }
          },
          "scene": {
           "xaxis": {
            "backgroundcolor": "#E5ECF6",
            "gridcolor": "white",
            "gridwidth": 2,
            "linecolor": "white",
            "showbackground": true,
            "ticks": "",
            "zerolinecolor": "white"
           },
           "yaxis": {
            "backgroundcolor": "#E5ECF6",
            "gridcolor": "white",
            "gridwidth": 2,
            "linecolor": "white",
            "showbackground": true,
            "ticks": "",
            "zerolinecolor": "white"
           },
           "zaxis": {
            "backgroundcolor": "#E5ECF6",
            "gridcolor": "white",
            "gridwidth": 2,
            "linecolor": "white",
            "showbackground": true,
            "ticks": "",
            "zerolinecolor": "white"
           }
          },
          "shapedefaults": {
           "line": {
            "color": "#2a3f5f"
           }
          },
          "ternary": {
           "aaxis": {
            "gridcolor": "white",
            "linecolor": "white",
            "ticks": ""
           },
           "baxis": {
            "gridcolor": "white",
            "linecolor": "white",
            "ticks": ""
           },
           "bgcolor": "#E5ECF6",
           "caxis": {
            "gridcolor": "white",
            "linecolor": "white",
            "ticks": ""
           }
          },
          "title": {
           "x": 0.05
          },
          "xaxis": {
           "automargin": true,
           "gridcolor": "white",
           "linecolor": "white",
           "ticks": "",
           "title": {
            "standoff": 15
           },
           "zerolinecolor": "white",
           "zerolinewidth": 2
          },
          "yaxis": {
           "automargin": true,
           "gridcolor": "white",
           "linecolor": "white",
           "ticks": "",
           "title": {
            "standoff": 15
           },
           "zerolinecolor": "white",
           "zerolinewidth": 2
          }
         }
        },
        "xaxis": {
         "anchor": "y",
         "domain": [
          0,
          0.7363
         ],
         "title": {
          "text": "Mh(2)"
         }
        },
        "xaxis2": {
         "anchor": "y2",
         "domain": [
          0.7413,
          1
         ],
         "matches": "x2",
         "showgrid": true,
         "showline": false,
         "showticklabels": false,
         "ticks": ""
        },
        "xaxis3": {
         "anchor": "y3",
         "domain": [
          0,
          0.7363
         ],
         "matches": "x",
         "showgrid": true,
         "showticklabels": false
        },
        "xaxis4": {
         "anchor": "y4",
         "domain": [
          0.7413,
          1
         ],
         "matches": "x2",
         "showgrid": true,
         "showline": false,
         "showticklabels": false,
         "ticks": ""
        },
        "yaxis": {
         "anchor": "x",
         "domain": [
          0,
          0.7326
         ],
         "title": {
          "text": "Mh(2)_prime"
         }
        },
        "yaxis2": {
         "anchor": "x2",
         "domain": [
          0,
          0.7326
         ],
         "matches": "y",
         "showgrid": true,
         "showticklabels": false
        },
        "yaxis3": {
         "anchor": "x3",
         "domain": [
          0.7426,
          1
         ],
         "matches": "y3",
         "showgrid": true,
         "showline": false,
         "showticklabels": false,
         "ticks": ""
        },
        "yaxis4": {
         "anchor": "x4",
         "domain": [
          0.7426,
          1
         ],
         "matches": "y3",
         "showgrid": true,
         "showline": false,
         "showticklabels": false,
         "ticks": ""
        }
       }
      },
      "text/html": [
       "<div>                            <div id=\"6aaf0382-9175-490c-8c32-57ad842a62a4\" class=\"plotly-graph-div\" style=\"height:525px; width:100%;\"></div>            <script type=\"text/javascript\">                require([\"plotly\"], function(Plotly) {                    window.PLOTLYENV=window.PLOTLYENV || {};                                    if (document.getElementById(\"6aaf0382-9175-490c-8c32-57ad842a62a4\")) {                    Plotly.newPlot(                        \"6aaf0382-9175-490c-8c32-57ad842a62a4\",                        [{\"hovertemplate\":\"done=True<br>Mh(2)=%{x}<br>Mh(2)_prime=%{y}<extra></extra>\",\"legendgroup\":\"True\",\"marker\":{\"color\":\"#636efa\",\"symbol\":\"circle\"},\"mode\":\"markers\",\"name\":\"True\",\"orientation\":\"v\",\"showlegend\":true,\"type\":\"scatter\",\"x\":[200.577,152.507,155.85099999999997,147.373,130.413,149.49500000000003,142.88,122.77100000000002,123.27799999999999,123.29200000000002,123.13200000000002,123.18299999999999,125.68499999999999,136.324,122.93699999999997,118.46499999999999,123.674,124.29800000000002,119.22399999999999,122.697,129.48099999999997,122.90899999999999,118.45499999999998,118.63800000000002,118.23800000000001,118.149,127.189,118.05500000000002,128.122,123.84400000000001,117.44299999999997,117.86200000000002,125.80400000000003,117.585,126.60099999999997,117.55300000000003,168.755,122.67300000000003,122.944,122.84400000000001,123.13200000000002,123.77,123.88100000000001,123.71100000000001,124.12,123.94899999999997,122.59100000000001,123.031,123.47200000000002,122.89800000000001],\"xaxis\":\"x\",\"y\":[202.16599999999997,145.368,155.85099999999997,150.82899999999998,128.417,136.47799999999998,142.88,122.77100000000002,123.27799999999999,123.29200000000002,123.13200000000002,123.18299999999999,125.68499999999999,136.324,122.93699999999997,118.46499999999999,123.674,124.29800000000002,121.25799999999998,122.697,129.48099999999997,122.90899999999999,118.45499999999998,118.63800000000002,118.23800000000001,118.149,127.189,118.05500000000002,128.122,123.84400000000001,117.44299999999997,117.86200000000002,125.80400000000003,117.585,126.60099999999997,117.55300000000003,168.755,122.67300000000003,122.944,122.84400000000001,123.13200000000002,123.77,123.88100000000001,123.71100000000001,124.12,123.94899999999997,122.59100000000001,123.031,123.47200000000002,122.89800000000001],\"yaxis\":\"y\"},{\"alignmentgroup\":\"True\",\"bingroup\":\"x\",\"hovertemplate\":\"done=True<br>Mh(2)=%{x}<br>count=%{y}<extra></extra>\",\"legendgroup\":\"True\",\"marker\":{\"color\":\"#636efa\"},\"name\":\"True\",\"offsetgroup\":\"True\",\"opacity\":0.5,\"showlegend\":false,\"type\":\"histogram\",\"x\":[200.577,152.507,155.85099999999997,147.373,130.413,149.49500000000003,142.88,122.77100000000002,123.27799999999999,123.29200000000002,123.13200000000002,123.18299999999999,125.68499999999999,136.324,122.93699999999997,118.46499999999999,123.674,124.29800000000002,119.22399999999999,122.697,129.48099999999997,122.90899999999999,118.45499999999998,118.63800000000002,118.23800000000001,118.149,127.189,118.05500000000002,128.122,123.84400000000001,117.44299999999997,117.86200000000002,125.80400000000003,117.585,126.60099999999997,117.55300000000003,168.755,122.67300000000003,122.944,122.84400000000001,123.13200000000002,123.77,123.88100000000001,123.71100000000001,124.12,123.94899999999997,122.59100000000001,123.031,123.47200000000002,122.89800000000001],\"xaxis\":\"x3\",\"yaxis\":\"y3\"},{\"alignmentgroup\":\"True\",\"bingroup\":\"y\",\"hovertemplate\":\"done=True<br>Mh(2)_prime=%{y}<br>count=%{x}<extra></extra>\",\"legendgroup\":\"True\",\"marker\":{\"color\":\"#636efa\"},\"name\":\"True\",\"offsetgroup\":\"True\",\"opacity\":0.5,\"showlegend\":false,\"type\":\"histogram\",\"xaxis\":\"x2\",\"y\":[202.16599999999997,145.368,155.85099999999997,150.82899999999998,128.417,136.47799999999998,142.88,122.77100000000002,123.27799999999999,123.29200000000002,123.13200000000002,123.18299999999999,125.68499999999999,136.324,122.93699999999997,118.46499999999999,123.674,124.29800000000002,121.25799999999998,122.697,129.48099999999997,122.90899999999999,118.45499999999998,118.63800000000002,118.23800000000001,118.149,127.189,118.05500000000002,128.122,123.84400000000001,117.44299999999997,117.86200000000002,125.80400000000003,117.585,126.60099999999997,117.55300000000003,168.755,122.67300000000003,122.944,122.84400000000001,123.13200000000002,123.77,123.88100000000001,123.71100000000001,124.12,123.94899999999997,122.59100000000001,123.031,123.47200000000002,122.89800000000001],\"yaxis\":\"y2\"}],                        {\"barmode\":\"overlay\",\"legend\":{\"title\":{\"text\":\"done\"},\"tracegroupgap\":0},\"margin\":{\"t\":60},\"template\":{\"data\":{\"bar\":[{\"error_x\":{\"color\":\"#2a3f5f\"},\"error_y\":{\"color\":\"#2a3f5f\"},\"marker\":{\"line\":{\"color\":\"#E5ECF6\",\"width\":0.5},\"pattern\":{\"fillmode\":\"overlay\",\"size\":10,\"solidity\":0.2}},\"type\":\"bar\"}],\"barpolar\":[{\"marker\":{\"line\":{\"color\":\"#E5ECF6\",\"width\":0.5},\"pattern\":{\"fillmode\":\"overlay\",\"size\":10,\"solidity\":0.2}},\"type\":\"barpolar\"}],\"carpet\":[{\"aaxis\":{\"endlinecolor\":\"#2a3f5f\",\"gridcolor\":\"white\",\"linecolor\":\"white\",\"minorgridcolor\":\"white\",\"startlinecolor\":\"#2a3f5f\"},\"baxis\":{\"endlinecolor\":\"#2a3f5f\",\"gridcolor\":\"white\",\"linecolor\":\"white\",\"minorgridcolor\":\"white\",\"startlinecolor\":\"#2a3f5f\"},\"type\":\"carpet\"}],\"choropleth\":[{\"colorbar\":{\"outlinewidth\":0,\"ticks\":\"\"},\"type\":\"choropleth\"}],\"contour\":[{\"colorbar\":{\"outlinewidth\":0,\"ticks\":\"\"},\"colorscale\":[[0.0,\"#0d0887\"],[0.1111111111111111,\"#46039f\"],[0.2222222222222222,\"#7201a8\"],[0.3333333333333333,\"#9c179e\"],[0.4444444444444444,\"#bd3786\"],[0.5555555555555556,\"#d8576b\"],[0.6666666666666666,\"#ed7953\"],[0.7777777777777778,\"#fb9f3a\"],[0.8888888888888888,\"#fdca26\"],[1.0,\"#f0f921\"]],\"type\":\"contour\"}],\"contourcarpet\":[{\"colorbar\":{\"outlinewidth\":0,\"ticks\":\"\"},\"type\":\"contourcarpet\"}],\"heatmap\":[{\"colorbar\":{\"outlinewidth\":0,\"ticks\":\"\"},\"colorscale\":[[0.0,\"#0d0887\"],[0.1111111111111111,\"#46039f\"],[0.2222222222222222,\"#7201a8\"],[0.3333333333333333,\"#9c179e\"],[0.4444444444444444,\"#bd3786\"],[0.5555555555555556,\"#d8576b\"],[0.6666666666666666,\"#ed7953\"],[0.7777777777777778,\"#fb9f3a\"],[0.8888888888888888,\"#fdca26\"],[1.0,\"#f0f921\"]],\"type\":\"heatmap\"}],\"heatmapgl\":[{\"colorbar\":{\"outlinewidth\":0,\"ticks\":\"\"},\"colorscale\":[[0.0,\"#0d0887\"],[0.1111111111111111,\"#46039f\"],[0.2222222222222222,\"#7201a8\"],[0.3333333333333333,\"#9c179e\"],[0.4444444444444444,\"#bd3786\"],[0.5555555555555556,\"#d8576b\"],[0.6666666666666666,\"#ed7953\"],[0.7777777777777778,\"#fb9f3a\"],[0.8888888888888888,\"#fdca26\"],[1.0,\"#f0f921\"]],\"type\":\"heatmapgl\"}],\"histogram\":[{\"marker\":{\"pattern\":{\"fillmode\":\"overlay\",\"size\":10,\"solidity\":0.2}},\"type\":\"histogram\"}],\"histogram2d\":[{\"colorbar\":{\"outlinewidth\":0,\"ticks\":\"\"},\"colorscale\":[[0.0,\"#0d0887\"],[0.1111111111111111,\"#46039f\"],[0.2222222222222222,\"#7201a8\"],[0.3333333333333333,\"#9c179e\"],[0.4444444444444444,\"#bd3786\"],[0.5555555555555556,\"#d8576b\"],[0.6666666666666666,\"#ed7953\"],[0.7777777777777778,\"#fb9f3a\"],[0.8888888888888888,\"#fdca26\"],[1.0,\"#f0f921\"]],\"type\":\"histogram2d\"}],\"histogram2dcontour\":[{\"colorbar\":{\"outlinewidth\":0,\"ticks\":\"\"},\"colorscale\":[[0.0,\"#0d0887\"],[0.1111111111111111,\"#46039f\"],[0.2222222222222222,\"#7201a8\"],[0.3333333333333333,\"#9c179e\"],[0.4444444444444444,\"#bd3786\"],[0.5555555555555556,\"#d8576b\"],[0.6666666666666666,\"#ed7953\"],[0.7777777777777778,\"#fb9f3a\"],[0.8888888888888888,\"#fdca26\"],[1.0,\"#f0f921\"]],\"type\":\"histogram2dcontour\"}],\"mesh3d\":[{\"colorbar\":{\"outlinewidth\":0,\"ticks\":\"\"},\"type\":\"mesh3d\"}],\"parcoords\":[{\"line\":{\"colorbar\":{\"outlinewidth\":0,\"ticks\":\"\"}},\"type\":\"parcoords\"}],\"pie\":[{\"automargin\":true,\"type\":\"pie\"}],\"scatter\":[{\"marker\":{\"colorbar\":{\"outlinewidth\":0,\"ticks\":\"\"}},\"type\":\"scatter\"}],\"scatter3d\":[{\"line\":{\"colorbar\":{\"outlinewidth\":0,\"ticks\":\"\"}},\"marker\":{\"colorbar\":{\"outlinewidth\":0,\"ticks\":\"\"}},\"type\":\"scatter3d\"}],\"scattercarpet\":[{\"marker\":{\"colorbar\":{\"outlinewidth\":0,\"ticks\":\"\"}},\"type\":\"scattercarpet\"}],\"scattergeo\":[{\"marker\":{\"colorbar\":{\"outlinewidth\":0,\"ticks\":\"\"}},\"type\":\"scattergeo\"}],\"scattergl\":[{\"marker\":{\"colorbar\":{\"outlinewidth\":0,\"ticks\":\"\"}},\"type\":\"scattergl\"}],\"scattermapbox\":[{\"marker\":{\"colorbar\":{\"outlinewidth\":0,\"ticks\":\"\"}},\"type\":\"scattermapbox\"}],\"scatterpolar\":[{\"marker\":{\"colorbar\":{\"outlinewidth\":0,\"ticks\":\"\"}},\"type\":\"scatterpolar\"}],\"scatterpolargl\":[{\"marker\":{\"colorbar\":{\"outlinewidth\":0,\"ticks\":\"\"}},\"type\":\"scatterpolargl\"}],\"scatterternary\":[{\"marker\":{\"colorbar\":{\"outlinewidth\":0,\"ticks\":\"\"}},\"type\":\"scatterternary\"}],\"surface\":[{\"colorbar\":{\"outlinewidth\":0,\"ticks\":\"\"},\"colorscale\":[[0.0,\"#0d0887\"],[0.1111111111111111,\"#46039f\"],[0.2222222222222222,\"#7201a8\"],[0.3333333333333333,\"#9c179e\"],[0.4444444444444444,\"#bd3786\"],[0.5555555555555556,\"#d8576b\"],[0.6666666666666666,\"#ed7953\"],[0.7777777777777778,\"#fb9f3a\"],[0.8888888888888888,\"#fdca26\"],[1.0,\"#f0f921\"]],\"type\":\"surface\"}],\"table\":[{\"cells\":{\"fill\":{\"color\":\"#EBF0F8\"},\"line\":{\"color\":\"white\"}},\"header\":{\"fill\":{\"color\":\"#C8D4E3\"},\"line\":{\"color\":\"white\"}},\"type\":\"table\"}]},\"layout\":{\"annotationdefaults\":{\"arrowcolor\":\"#2a3f5f\",\"arrowhead\":0,\"arrowwidth\":1},\"autotypenumbers\":\"strict\",\"coloraxis\":{\"colorbar\":{\"outlinewidth\":0,\"ticks\":\"\"}},\"colorscale\":{\"diverging\":[[0,\"#8e0152\"],[0.1,\"#c51b7d\"],[0.2,\"#de77ae\"],[0.3,\"#f1b6da\"],[0.4,\"#fde0ef\"],[0.5,\"#f7f7f7\"],[0.6,\"#e6f5d0\"],[0.7,\"#b8e186\"],[0.8,\"#7fbc41\"],[0.9,\"#4d9221\"],[1,\"#276419\"]],\"sequential\":[[0.0,\"#0d0887\"],[0.1111111111111111,\"#46039f\"],[0.2222222222222222,\"#7201a8\"],[0.3333333333333333,\"#9c179e\"],[0.4444444444444444,\"#bd3786\"],[0.5555555555555556,\"#d8576b\"],[0.6666666666666666,\"#ed7953\"],[0.7777777777777778,\"#fb9f3a\"],[0.8888888888888888,\"#fdca26\"],[1.0,\"#f0f921\"]],\"sequentialminus\":[[0.0,\"#0d0887\"],[0.1111111111111111,\"#46039f\"],[0.2222222222222222,\"#7201a8\"],[0.3333333333333333,\"#9c179e\"],[0.4444444444444444,\"#bd3786\"],[0.5555555555555556,\"#d8576b\"],[0.6666666666666666,\"#ed7953\"],[0.7777777777777778,\"#fb9f3a\"],[0.8888888888888888,\"#fdca26\"],[1.0,\"#f0f921\"]]},\"colorway\":[\"#636efa\",\"#EF553B\",\"#00cc96\",\"#ab63fa\",\"#FFA15A\",\"#19d3f3\",\"#FF6692\",\"#B6E880\",\"#FF97FF\",\"#FECB52\"],\"font\":{\"color\":\"#2a3f5f\"},\"geo\":{\"bgcolor\":\"white\",\"lakecolor\":\"white\",\"landcolor\":\"#E5ECF6\",\"showlakes\":true,\"showland\":true,\"subunitcolor\":\"white\"},\"hoverlabel\":{\"align\":\"left\"},\"hovermode\":\"closest\",\"mapbox\":{\"style\":\"light\"},\"paper_bgcolor\":\"white\",\"plot_bgcolor\":\"#E5ECF6\",\"polar\":{\"angularaxis\":{\"gridcolor\":\"white\",\"linecolor\":\"white\",\"ticks\":\"\"},\"bgcolor\":\"#E5ECF6\",\"radialaxis\":{\"gridcolor\":\"white\",\"linecolor\":\"white\",\"ticks\":\"\"}},\"scene\":{\"xaxis\":{\"backgroundcolor\":\"#E5ECF6\",\"gridcolor\":\"white\",\"gridwidth\":2,\"linecolor\":\"white\",\"showbackground\":true,\"ticks\":\"\",\"zerolinecolor\":\"white\"},\"yaxis\":{\"backgroundcolor\":\"#E5ECF6\",\"gridcolor\":\"white\",\"gridwidth\":2,\"linecolor\":\"white\",\"showbackground\":true,\"ticks\":\"\",\"zerolinecolor\":\"white\"},\"zaxis\":{\"backgroundcolor\":\"#E5ECF6\",\"gridcolor\":\"white\",\"gridwidth\":2,\"linecolor\":\"white\",\"showbackground\":true,\"ticks\":\"\",\"zerolinecolor\":\"white\"}},\"shapedefaults\":{\"line\":{\"color\":\"#2a3f5f\"}},\"ternary\":{\"aaxis\":{\"gridcolor\":\"white\",\"linecolor\":\"white\",\"ticks\":\"\"},\"baxis\":{\"gridcolor\":\"white\",\"linecolor\":\"white\",\"ticks\":\"\"},\"bgcolor\":\"#E5ECF6\",\"caxis\":{\"gridcolor\":\"white\",\"linecolor\":\"white\",\"ticks\":\"\"}},\"title\":{\"x\":0.05},\"xaxis\":{\"automargin\":true,\"gridcolor\":\"white\",\"linecolor\":\"white\",\"ticks\":\"\",\"title\":{\"standoff\":15},\"zerolinecolor\":\"white\",\"zerolinewidth\":2},\"yaxis\":{\"automargin\":true,\"gridcolor\":\"white\",\"linecolor\":\"white\",\"ticks\":\"\",\"title\":{\"standoff\":15},\"zerolinecolor\":\"white\",\"zerolinewidth\":2}}},\"xaxis\":{\"anchor\":\"y\",\"domain\":[0.0,0.7363],\"title\":{\"text\":\"Mh(2)\"}},\"xaxis2\":{\"anchor\":\"y2\",\"domain\":[0.7413,1.0],\"matches\":\"x2\",\"showgrid\":true,\"showline\":false,\"showticklabels\":false,\"ticks\":\"\"},\"xaxis3\":{\"anchor\":\"y3\",\"domain\":[0.0,0.7363],\"matches\":\"x\",\"showgrid\":true,\"showticklabels\":false},\"xaxis4\":{\"anchor\":\"y4\",\"domain\":[0.7413,1.0],\"matches\":\"x2\",\"showgrid\":true,\"showline\":false,\"showticklabels\":false,\"ticks\":\"\"},\"yaxis\":{\"anchor\":\"x\",\"domain\":[0.0,0.7326],\"title\":{\"text\":\"Mh(2)_prime\"}},\"yaxis2\":{\"anchor\":\"x2\",\"domain\":[0.0,0.7326],\"matches\":\"y\",\"showgrid\":true,\"showticklabels\":false},\"yaxis3\":{\"anchor\":\"x3\",\"domain\":[0.7426,1.0],\"matches\":\"y3\",\"showgrid\":true,\"showline\":false,\"showticklabels\":false,\"ticks\":\"\"},\"yaxis4\":{\"anchor\":\"x4\",\"domain\":[0.7426,1.0],\"matches\":\"y3\",\"showgrid\":true,\"showline\":false,\"showticklabels\":false,\"ticks\":\"\"}},                        {\"responsive\": true}                    ).then(function(){\n",
       "                            \n",
       "var gd = document.getElementById('6aaf0382-9175-490c-8c32-57ad842a62a4');\n",
       "var x = new MutationObserver(function (mutations, observer) {{\n",
       "        var display = window.getComputedStyle(gd).display;\n",
       "        if (!display || display === 'none') {{\n",
       "            console.log([gd, 'removed!']);\n",
       "            Plotly.purge(gd);\n",
       "            observer.disconnect();\n",
       "        }}\n",
       "}});\n",
       "\n",
       "// Listen for the removal of the full notebook cells\n",
       "var notebookContainer = gd.closest('#notebook-container');\n",
       "if (notebookContainer) {{\n",
       "    x.observe(notebookContainer, {childList: true});\n",
       "}}\n",
       "\n",
       "// Listen for the clearing of the current output cell\n",
       "var outputEl = gd.closest('.output');\n",
       "if (outputEl) {{\n",
       "    x.observe(outputEl, {childList: true});\n",
       "}}\n",
       "\n",
       "                        })                };                });            </script>        </div>"
      ]
     },
     "metadata": {},
     "output_type": "display_data"
    }
   ],
   "source": [
    "fig = px.scatter(memory_df[select_done], x=\"Mh(2)\", y=\"Mh(2)_prime\", marginal_x=\"histogram\", marginal_y=\"histogram\", color='done')\n",
    "fig.show()"
   ]
  },
  {
   "cell_type": "code",
   "execution_count": 40,
   "id": "33c8c17f",
   "metadata": {},
   "outputs": [
    {
     "data": {
      "application/vnd.plotly.v1+json": {
       "config": {
        "plotlyServerURL": "https://plot.ly"
       },
       "data": [
        {
         "hovertemplate": "done=True<br>m0=%{x}<br>m12=%{y}<extra></extra>",
         "legendgroup": "True",
         "marker": {
          "color": "#636efa",
          "symbol": "circle"
         },
         "mode": "markers",
         "name": "True",
         "orientation": "v",
         "showlegend": true,
         "type": "scatter",
         "x": [
          709.9202081561089,
          726.8218666315079,
          970.789510011673,
          877.7259767055511,
          736.5637972950935,
          846.4008331298828,
          616.4791539311409,
          902.8774797916412,
          861.7993146181107,
          881.1768263578415,
          805.7552814483643,
          971.7371344566345,
          1000,
          1000,
          983.9247971773148,
          584.1408561915159,
          957.053005695343,
          1000,
          729.4327691197395,
          993.6092615127563,
          677.3078590631485,
          933.173406124115,
          785.4791224002838,
          884.1603010892868,
          991.7442679405212,
          675.0941917300224,
          983.0677509307861,
          688.813342154026,
          701.4599576592445,
          1000,
          1000,
          991.2662178277969,
          991.2796556949615,
          938.3444100618362,
          999.4799464941025,
          914.5928055047989,
          995.5551773309708,
          989.2573773860931,
          1000,
          998.1514483690262,
          1000,
          997.2193539142609,
          977.9196530580521,
          1000,
          996.3255882263184,
          1000,
          999.468868970871,
          1000,
          991.0612165927887,
          1000
         ],
         "xaxis": "x",
         "y": [
          2826.03928912431,
          2109.2157140374184,
          1037.4850034713745,
          1278.803527355194,
          1492.228701710701,
          1063.455954194069,
          1304.4575899839401,
          1251.3754963874817,
          1292.5258874893188,
          1264.8093402385712,
          1836.8192613124847,
          1000,
          4320.14212012291,
          1042.5369590520859,
          4278.240397572517,
          1040.4234677553177,
          4126.740455627441,
          4493.613108992577,
          1276.4868438243866,
          3354.6045422554016,
          1000,
          1470.223754644394,
          1000,
          1000,
          1037.4639332294464,
          1000,
          1003.3648759126663,
          1027.6256948709488,
          1013.8310492038727,
          1019.9024081230164,
          1036.9647145271301,
          1041.2364453077316,
          1000,
          1000,
          1005.9216767549515,
          1000,
          1004.6591311693192,
          1022.5684195756912,
          3962.1566236019135,
          3903.10862660408,
          3818.505972623825,
          3072.8764757514,
          3690.790578722954,
          2676.666274666786,
          3305.0267323851585,
          2959.5360197126865,
          3128.397163003683,
          3280.4177328944206,
          2904.5393504202366,
          3257.727637887001
         ],
         "yaxis": "y"
        },
        {
         "alignmentgroup": "True",
         "bingroup": "x",
         "hovertemplate": "done=True<br>m0=%{x}<br>count=%{y}<extra></extra>",
         "legendgroup": "True",
         "marker": {
          "color": "#636efa"
         },
         "name": "True",
         "offsetgroup": "True",
         "opacity": 0.5,
         "showlegend": false,
         "type": "histogram",
         "x": [
          709.9202081561089,
          726.8218666315079,
          970.789510011673,
          877.7259767055511,
          736.5637972950935,
          846.4008331298828,
          616.4791539311409,
          902.8774797916412,
          861.7993146181107,
          881.1768263578415,
          805.7552814483643,
          971.7371344566345,
          1000,
          1000,
          983.9247971773148,
          584.1408561915159,
          957.053005695343,
          1000,
          729.4327691197395,
          993.6092615127563,
          677.3078590631485,
          933.173406124115,
          785.4791224002838,
          884.1603010892868,
          991.7442679405212,
          675.0941917300224,
          983.0677509307861,
          688.813342154026,
          701.4599576592445,
          1000,
          1000,
          991.2662178277969,
          991.2796556949615,
          938.3444100618362,
          999.4799464941025,
          914.5928055047989,
          995.5551773309708,
          989.2573773860931,
          1000,
          998.1514483690262,
          1000,
          997.2193539142609,
          977.9196530580521,
          1000,
          996.3255882263184,
          1000,
          999.468868970871,
          1000,
          991.0612165927887,
          1000
         ],
         "xaxis": "x3",
         "yaxis": "y3"
        },
        {
         "alignmentgroup": "True",
         "bingroup": "y",
         "hovertemplate": "done=True<br>m12=%{y}<br>count=%{x}<extra></extra>",
         "legendgroup": "True",
         "marker": {
          "color": "#636efa"
         },
         "name": "True",
         "offsetgroup": "True",
         "opacity": 0.5,
         "showlegend": false,
         "type": "histogram",
         "xaxis": "x2",
         "y": [
          2826.03928912431,
          2109.2157140374184,
          1037.4850034713745,
          1278.803527355194,
          1492.228701710701,
          1063.455954194069,
          1304.4575899839401,
          1251.3754963874817,
          1292.5258874893188,
          1264.8093402385712,
          1836.8192613124847,
          1000,
          4320.14212012291,
          1042.5369590520859,
          4278.240397572517,
          1040.4234677553177,
          4126.740455627441,
          4493.613108992577,
          1276.4868438243866,
          3354.6045422554016,
          1000,
          1470.223754644394,
          1000,
          1000,
          1037.4639332294464,
          1000,
          1003.3648759126663,
          1027.6256948709488,
          1013.8310492038727,
          1019.9024081230164,
          1036.9647145271301,
          1041.2364453077316,
          1000,
          1000,
          1005.9216767549515,
          1000,
          1004.6591311693192,
          1022.5684195756912,
          3962.1566236019135,
          3903.10862660408,
          3818.505972623825,
          3072.8764757514,
          3690.790578722954,
          2676.666274666786,
          3305.0267323851585,
          2959.5360197126865,
          3128.397163003683,
          3280.4177328944206,
          2904.5393504202366,
          3257.727637887001
         ],
         "yaxis": "y2"
        }
       ],
       "layout": {
        "barmode": "overlay",
        "legend": {
         "title": {
          "text": "done"
         },
         "tracegroupgap": 0
        },
        "margin": {
         "t": 60
        },
        "template": {
         "data": {
          "bar": [
           {
            "error_x": {
             "color": "#2a3f5f"
            },
            "error_y": {
             "color": "#2a3f5f"
            },
            "marker": {
             "line": {
              "color": "#E5ECF6",
              "width": 0.5
             },
             "pattern": {
              "fillmode": "overlay",
              "size": 10,
              "solidity": 0.2
             }
            },
            "type": "bar"
           }
          ],
          "barpolar": [
           {
            "marker": {
             "line": {
              "color": "#E5ECF6",
              "width": 0.5
             },
             "pattern": {
              "fillmode": "overlay",
              "size": 10,
              "solidity": 0.2
             }
            },
            "type": "barpolar"
           }
          ],
          "carpet": [
           {
            "aaxis": {
             "endlinecolor": "#2a3f5f",
             "gridcolor": "white",
             "linecolor": "white",
             "minorgridcolor": "white",
             "startlinecolor": "#2a3f5f"
            },
            "baxis": {
             "endlinecolor": "#2a3f5f",
             "gridcolor": "white",
             "linecolor": "white",
             "minorgridcolor": "white",
             "startlinecolor": "#2a3f5f"
            },
            "type": "carpet"
           }
          ],
          "choropleth": [
           {
            "colorbar": {
             "outlinewidth": 0,
             "ticks": ""
            },
            "type": "choropleth"
           }
          ],
          "contour": [
           {
            "colorbar": {
             "outlinewidth": 0,
             "ticks": ""
            },
            "colorscale": [
             [
              0,
              "#0d0887"
             ],
             [
              0.1111111111111111,
              "#46039f"
             ],
             [
              0.2222222222222222,
              "#7201a8"
             ],
             [
              0.3333333333333333,
              "#9c179e"
             ],
             [
              0.4444444444444444,
              "#bd3786"
             ],
             [
              0.5555555555555556,
              "#d8576b"
             ],
             [
              0.6666666666666666,
              "#ed7953"
             ],
             [
              0.7777777777777778,
              "#fb9f3a"
             ],
             [
              0.8888888888888888,
              "#fdca26"
             ],
             [
              1,
              "#f0f921"
             ]
            ],
            "type": "contour"
           }
          ],
          "contourcarpet": [
           {
            "colorbar": {
             "outlinewidth": 0,
             "ticks": ""
            },
            "type": "contourcarpet"
           }
          ],
          "heatmap": [
           {
            "colorbar": {
             "outlinewidth": 0,
             "ticks": ""
            },
            "colorscale": [
             [
              0,
              "#0d0887"
             ],
             [
              0.1111111111111111,
              "#46039f"
             ],
             [
              0.2222222222222222,
              "#7201a8"
             ],
             [
              0.3333333333333333,
              "#9c179e"
             ],
             [
              0.4444444444444444,
              "#bd3786"
             ],
             [
              0.5555555555555556,
              "#d8576b"
             ],
             [
              0.6666666666666666,
              "#ed7953"
             ],
             [
              0.7777777777777778,
              "#fb9f3a"
             ],
             [
              0.8888888888888888,
              "#fdca26"
             ],
             [
              1,
              "#f0f921"
             ]
            ],
            "type": "heatmap"
           }
          ],
          "heatmapgl": [
           {
            "colorbar": {
             "outlinewidth": 0,
             "ticks": ""
            },
            "colorscale": [
             [
              0,
              "#0d0887"
             ],
             [
              0.1111111111111111,
              "#46039f"
             ],
             [
              0.2222222222222222,
              "#7201a8"
             ],
             [
              0.3333333333333333,
              "#9c179e"
             ],
             [
              0.4444444444444444,
              "#bd3786"
             ],
             [
              0.5555555555555556,
              "#d8576b"
             ],
             [
              0.6666666666666666,
              "#ed7953"
             ],
             [
              0.7777777777777778,
              "#fb9f3a"
             ],
             [
              0.8888888888888888,
              "#fdca26"
             ],
             [
              1,
              "#f0f921"
             ]
            ],
            "type": "heatmapgl"
           }
          ],
          "histogram": [
           {
            "marker": {
             "pattern": {
              "fillmode": "overlay",
              "size": 10,
              "solidity": 0.2
             }
            },
            "type": "histogram"
           }
          ],
          "histogram2d": [
           {
            "colorbar": {
             "outlinewidth": 0,
             "ticks": ""
            },
            "colorscale": [
             [
              0,
              "#0d0887"
             ],
             [
              0.1111111111111111,
              "#46039f"
             ],
             [
              0.2222222222222222,
              "#7201a8"
             ],
             [
              0.3333333333333333,
              "#9c179e"
             ],
             [
              0.4444444444444444,
              "#bd3786"
             ],
             [
              0.5555555555555556,
              "#d8576b"
             ],
             [
              0.6666666666666666,
              "#ed7953"
             ],
             [
              0.7777777777777778,
              "#fb9f3a"
             ],
             [
              0.8888888888888888,
              "#fdca26"
             ],
             [
              1,
              "#f0f921"
             ]
            ],
            "type": "histogram2d"
           }
          ],
          "histogram2dcontour": [
           {
            "colorbar": {
             "outlinewidth": 0,
             "ticks": ""
            },
            "colorscale": [
             [
              0,
              "#0d0887"
             ],
             [
              0.1111111111111111,
              "#46039f"
             ],
             [
              0.2222222222222222,
              "#7201a8"
             ],
             [
              0.3333333333333333,
              "#9c179e"
             ],
             [
              0.4444444444444444,
              "#bd3786"
             ],
             [
              0.5555555555555556,
              "#d8576b"
             ],
             [
              0.6666666666666666,
              "#ed7953"
             ],
             [
              0.7777777777777778,
              "#fb9f3a"
             ],
             [
              0.8888888888888888,
              "#fdca26"
             ],
             [
              1,
              "#f0f921"
             ]
            ],
            "type": "histogram2dcontour"
           }
          ],
          "mesh3d": [
           {
            "colorbar": {
             "outlinewidth": 0,
             "ticks": ""
            },
            "type": "mesh3d"
           }
          ],
          "parcoords": [
           {
            "line": {
             "colorbar": {
              "outlinewidth": 0,
              "ticks": ""
             }
            },
            "type": "parcoords"
           }
          ],
          "pie": [
           {
            "automargin": true,
            "type": "pie"
           }
          ],
          "scatter": [
           {
            "marker": {
             "colorbar": {
              "outlinewidth": 0,
              "ticks": ""
             }
            },
            "type": "scatter"
           }
          ],
          "scatter3d": [
           {
            "line": {
             "colorbar": {
              "outlinewidth": 0,
              "ticks": ""
             }
            },
            "marker": {
             "colorbar": {
              "outlinewidth": 0,
              "ticks": ""
             }
            },
            "type": "scatter3d"
           }
          ],
          "scattercarpet": [
           {
            "marker": {
             "colorbar": {
              "outlinewidth": 0,
              "ticks": ""
             }
            },
            "type": "scattercarpet"
           }
          ],
          "scattergeo": [
           {
            "marker": {
             "colorbar": {
              "outlinewidth": 0,
              "ticks": ""
             }
            },
            "type": "scattergeo"
           }
          ],
          "scattergl": [
           {
            "marker": {
             "colorbar": {
              "outlinewidth": 0,
              "ticks": ""
             }
            },
            "type": "scattergl"
           }
          ],
          "scattermapbox": [
           {
            "marker": {
             "colorbar": {
              "outlinewidth": 0,
              "ticks": ""
             }
            },
            "type": "scattermapbox"
           }
          ],
          "scatterpolar": [
           {
            "marker": {
             "colorbar": {
              "outlinewidth": 0,
              "ticks": ""
             }
            },
            "type": "scatterpolar"
           }
          ],
          "scatterpolargl": [
           {
            "marker": {
             "colorbar": {
              "outlinewidth": 0,
              "ticks": ""
             }
            },
            "type": "scatterpolargl"
           }
          ],
          "scatterternary": [
           {
            "marker": {
             "colorbar": {
              "outlinewidth": 0,
              "ticks": ""
             }
            },
            "type": "scatterternary"
           }
          ],
          "surface": [
           {
            "colorbar": {
             "outlinewidth": 0,
             "ticks": ""
            },
            "colorscale": [
             [
              0,
              "#0d0887"
             ],
             [
              0.1111111111111111,
              "#46039f"
             ],
             [
              0.2222222222222222,
              "#7201a8"
             ],
             [
              0.3333333333333333,
              "#9c179e"
             ],
             [
              0.4444444444444444,
              "#bd3786"
             ],
             [
              0.5555555555555556,
              "#d8576b"
             ],
             [
              0.6666666666666666,
              "#ed7953"
             ],
             [
              0.7777777777777778,
              "#fb9f3a"
             ],
             [
              0.8888888888888888,
              "#fdca26"
             ],
             [
              1,
              "#f0f921"
             ]
            ],
            "type": "surface"
           }
          ],
          "table": [
           {
            "cells": {
             "fill": {
              "color": "#EBF0F8"
             },
             "line": {
              "color": "white"
             }
            },
            "header": {
             "fill": {
              "color": "#C8D4E3"
             },
             "line": {
              "color": "white"
             }
            },
            "type": "table"
           }
          ]
         },
         "layout": {
          "annotationdefaults": {
           "arrowcolor": "#2a3f5f",
           "arrowhead": 0,
           "arrowwidth": 1
          },
          "autotypenumbers": "strict",
          "coloraxis": {
           "colorbar": {
            "outlinewidth": 0,
            "ticks": ""
           }
          },
          "colorscale": {
           "diverging": [
            [
             0,
             "#8e0152"
            ],
            [
             0.1,
             "#c51b7d"
            ],
            [
             0.2,
             "#de77ae"
            ],
            [
             0.3,
             "#f1b6da"
            ],
            [
             0.4,
             "#fde0ef"
            ],
            [
             0.5,
             "#f7f7f7"
            ],
            [
             0.6,
             "#e6f5d0"
            ],
            [
             0.7,
             "#b8e186"
            ],
            [
             0.8,
             "#7fbc41"
            ],
            [
             0.9,
             "#4d9221"
            ],
            [
             1,
             "#276419"
            ]
           ],
           "sequential": [
            [
             0,
             "#0d0887"
            ],
            [
             0.1111111111111111,
             "#46039f"
            ],
            [
             0.2222222222222222,
             "#7201a8"
            ],
            [
             0.3333333333333333,
             "#9c179e"
            ],
            [
             0.4444444444444444,
             "#bd3786"
            ],
            [
             0.5555555555555556,
             "#d8576b"
            ],
            [
             0.6666666666666666,
             "#ed7953"
            ],
            [
             0.7777777777777778,
             "#fb9f3a"
            ],
            [
             0.8888888888888888,
             "#fdca26"
            ],
            [
             1,
             "#f0f921"
            ]
           ],
           "sequentialminus": [
            [
             0,
             "#0d0887"
            ],
            [
             0.1111111111111111,
             "#46039f"
            ],
            [
             0.2222222222222222,
             "#7201a8"
            ],
            [
             0.3333333333333333,
             "#9c179e"
            ],
            [
             0.4444444444444444,
             "#bd3786"
            ],
            [
             0.5555555555555556,
             "#d8576b"
            ],
            [
             0.6666666666666666,
             "#ed7953"
            ],
            [
             0.7777777777777778,
             "#fb9f3a"
            ],
            [
             0.8888888888888888,
             "#fdca26"
            ],
            [
             1,
             "#f0f921"
            ]
           ]
          },
          "colorway": [
           "#636efa",
           "#EF553B",
           "#00cc96",
           "#ab63fa",
           "#FFA15A",
           "#19d3f3",
           "#FF6692",
           "#B6E880",
           "#FF97FF",
           "#FECB52"
          ],
          "font": {
           "color": "#2a3f5f"
          },
          "geo": {
           "bgcolor": "white",
           "lakecolor": "white",
           "landcolor": "#E5ECF6",
           "showlakes": true,
           "showland": true,
           "subunitcolor": "white"
          },
          "hoverlabel": {
           "align": "left"
          },
          "hovermode": "closest",
          "mapbox": {
           "style": "light"
          },
          "paper_bgcolor": "white",
          "plot_bgcolor": "#E5ECF6",
          "polar": {
           "angularaxis": {
            "gridcolor": "white",
            "linecolor": "white",
            "ticks": ""
           },
           "bgcolor": "#E5ECF6",
           "radialaxis": {
            "gridcolor": "white",
            "linecolor": "white",
            "ticks": ""
           }
          },
          "scene": {
           "xaxis": {
            "backgroundcolor": "#E5ECF6",
            "gridcolor": "white",
            "gridwidth": 2,
            "linecolor": "white",
            "showbackground": true,
            "ticks": "",
            "zerolinecolor": "white"
           },
           "yaxis": {
            "backgroundcolor": "#E5ECF6",
            "gridcolor": "white",
            "gridwidth": 2,
            "linecolor": "white",
            "showbackground": true,
            "ticks": "",
            "zerolinecolor": "white"
           },
           "zaxis": {
            "backgroundcolor": "#E5ECF6",
            "gridcolor": "white",
            "gridwidth": 2,
            "linecolor": "white",
            "showbackground": true,
            "ticks": "",
            "zerolinecolor": "white"
           }
          },
          "shapedefaults": {
           "line": {
            "color": "#2a3f5f"
           }
          },
          "ternary": {
           "aaxis": {
            "gridcolor": "white",
            "linecolor": "white",
            "ticks": ""
           },
           "baxis": {
            "gridcolor": "white",
            "linecolor": "white",
            "ticks": ""
           },
           "bgcolor": "#E5ECF6",
           "caxis": {
            "gridcolor": "white",
            "linecolor": "white",
            "ticks": ""
           }
          },
          "title": {
           "x": 0.05
          },
          "xaxis": {
           "automargin": true,
           "gridcolor": "white",
           "linecolor": "white",
           "ticks": "",
           "title": {
            "standoff": 15
           },
           "zerolinecolor": "white",
           "zerolinewidth": 2
          },
          "yaxis": {
           "automargin": true,
           "gridcolor": "white",
           "linecolor": "white",
           "ticks": "",
           "title": {
            "standoff": 15
           },
           "zerolinecolor": "white",
           "zerolinewidth": 2
          }
         }
        },
        "xaxis": {
         "anchor": "y",
         "domain": [
          0,
          0.7363
         ],
         "title": {
          "text": "m0"
         }
        },
        "xaxis2": {
         "anchor": "y2",
         "domain": [
          0.7413,
          1
         ],
         "matches": "x2",
         "showgrid": true,
         "showline": false,
         "showticklabels": false,
         "ticks": ""
        },
        "xaxis3": {
         "anchor": "y3",
         "domain": [
          0,
          0.7363
         ],
         "matches": "x",
         "showgrid": true,
         "showticklabels": false
        },
        "xaxis4": {
         "anchor": "y4",
         "domain": [
          0.7413,
          1
         ],
         "matches": "x2",
         "showgrid": true,
         "showline": false,
         "showticklabels": false,
         "ticks": ""
        },
        "yaxis": {
         "anchor": "x",
         "domain": [
          0,
          0.7326
         ],
         "title": {
          "text": "m12"
         }
        },
        "yaxis2": {
         "anchor": "x2",
         "domain": [
          0,
          0.7326
         ],
         "matches": "y",
         "showgrid": true,
         "showticklabels": false
        },
        "yaxis3": {
         "anchor": "x3",
         "domain": [
          0.7426,
          1
         ],
         "matches": "y3",
         "showgrid": true,
         "showline": false,
         "showticklabels": false,
         "ticks": ""
        },
        "yaxis4": {
         "anchor": "x4",
         "domain": [
          0.7426,
          1
         ],
         "matches": "y3",
         "showgrid": true,
         "showline": false,
         "showticklabels": false,
         "ticks": ""
        }
       }
      },
      "text/html": [
       "<div>                            <div id=\"f11fa0fe-22bb-4e16-b623-4a134dee80f0\" class=\"plotly-graph-div\" style=\"height:525px; width:100%;\"></div>            <script type=\"text/javascript\">                require([\"plotly\"], function(Plotly) {                    window.PLOTLYENV=window.PLOTLYENV || {};                                    if (document.getElementById(\"f11fa0fe-22bb-4e16-b623-4a134dee80f0\")) {                    Plotly.newPlot(                        \"f11fa0fe-22bb-4e16-b623-4a134dee80f0\",                        [{\"hovertemplate\":\"done=True<br>m0=%{x}<br>m12=%{y}<extra></extra>\",\"legendgroup\":\"True\",\"marker\":{\"color\":\"#636efa\",\"symbol\":\"circle\"},\"mode\":\"markers\",\"name\":\"True\",\"orientation\":\"v\",\"showlegend\":true,\"type\":\"scatter\",\"x\":[709.9202081561089,726.8218666315079,970.789510011673,877.7259767055511,736.5637972950935,846.4008331298828,616.4791539311409,902.8774797916412,861.7993146181107,881.1768263578415,805.7552814483643,971.7371344566345,1000.0,1000.0,983.9247971773148,584.1408561915159,957.053005695343,1000.0,729.4327691197395,993.6092615127563,677.3078590631485,933.173406124115,785.4791224002838,884.1603010892868,991.7442679405212,675.0941917300224,983.0677509307861,688.813342154026,701.4599576592445,1000.0,1000.0,991.2662178277969,991.2796556949615,938.3444100618362,999.4799464941025,914.5928055047989,995.5551773309708,989.2573773860931,1000.0,998.1514483690262,1000.0,997.2193539142609,977.9196530580521,1000.0,996.3255882263184,1000.0,999.468868970871,1000.0,991.0612165927887,1000.0],\"xaxis\":\"x\",\"y\":[2826.03928912431,2109.2157140374184,1037.4850034713745,1278.803527355194,1492.228701710701,1063.455954194069,1304.4575899839401,1251.3754963874817,1292.5258874893188,1264.8093402385712,1836.8192613124847,1000.0,4320.14212012291,1042.5369590520859,4278.240397572517,1040.4234677553177,4126.740455627441,4493.613108992577,1276.4868438243866,3354.6045422554016,1000.0,1470.223754644394,1000.0,1000.0,1037.4639332294464,1000.0,1003.3648759126663,1027.6256948709488,1013.8310492038727,1019.9024081230164,1036.9647145271301,1041.2364453077316,1000.0,1000.0,1005.9216767549515,1000.0,1004.6591311693192,1022.5684195756912,3962.1566236019135,3903.10862660408,3818.505972623825,3072.8764757514,3690.790578722954,2676.666274666786,3305.0267323851585,2959.5360197126865,3128.397163003683,3280.4177328944206,2904.5393504202366,3257.727637887001],\"yaxis\":\"y\"},{\"alignmentgroup\":\"True\",\"bingroup\":\"x\",\"hovertemplate\":\"done=True<br>m0=%{x}<br>count=%{y}<extra></extra>\",\"legendgroup\":\"True\",\"marker\":{\"color\":\"#636efa\"},\"name\":\"True\",\"offsetgroup\":\"True\",\"opacity\":0.5,\"showlegend\":false,\"type\":\"histogram\",\"x\":[709.9202081561089,726.8218666315079,970.789510011673,877.7259767055511,736.5637972950935,846.4008331298828,616.4791539311409,902.8774797916412,861.7993146181107,881.1768263578415,805.7552814483643,971.7371344566345,1000.0,1000.0,983.9247971773148,584.1408561915159,957.053005695343,1000.0,729.4327691197395,993.6092615127563,677.3078590631485,933.173406124115,785.4791224002838,884.1603010892868,991.7442679405212,675.0941917300224,983.0677509307861,688.813342154026,701.4599576592445,1000.0,1000.0,991.2662178277969,991.2796556949615,938.3444100618362,999.4799464941025,914.5928055047989,995.5551773309708,989.2573773860931,1000.0,998.1514483690262,1000.0,997.2193539142609,977.9196530580521,1000.0,996.3255882263184,1000.0,999.468868970871,1000.0,991.0612165927887,1000.0],\"xaxis\":\"x3\",\"yaxis\":\"y3\"},{\"alignmentgroup\":\"True\",\"bingroup\":\"y\",\"hovertemplate\":\"done=True<br>m12=%{y}<br>count=%{x}<extra></extra>\",\"legendgroup\":\"True\",\"marker\":{\"color\":\"#636efa\"},\"name\":\"True\",\"offsetgroup\":\"True\",\"opacity\":0.5,\"showlegend\":false,\"type\":\"histogram\",\"xaxis\":\"x2\",\"y\":[2826.03928912431,2109.2157140374184,1037.4850034713745,1278.803527355194,1492.228701710701,1063.455954194069,1304.4575899839401,1251.3754963874817,1292.5258874893188,1264.8093402385712,1836.8192613124847,1000.0,4320.14212012291,1042.5369590520859,4278.240397572517,1040.4234677553177,4126.740455627441,4493.613108992577,1276.4868438243866,3354.6045422554016,1000.0,1470.223754644394,1000.0,1000.0,1037.4639332294464,1000.0,1003.3648759126663,1027.6256948709488,1013.8310492038727,1019.9024081230164,1036.9647145271301,1041.2364453077316,1000.0,1000.0,1005.9216767549515,1000.0,1004.6591311693192,1022.5684195756912,3962.1566236019135,3903.10862660408,3818.505972623825,3072.8764757514,3690.790578722954,2676.666274666786,3305.0267323851585,2959.5360197126865,3128.397163003683,3280.4177328944206,2904.5393504202366,3257.727637887001],\"yaxis\":\"y2\"}],                        {\"barmode\":\"overlay\",\"legend\":{\"title\":{\"text\":\"done\"},\"tracegroupgap\":0},\"margin\":{\"t\":60},\"template\":{\"data\":{\"bar\":[{\"error_x\":{\"color\":\"#2a3f5f\"},\"error_y\":{\"color\":\"#2a3f5f\"},\"marker\":{\"line\":{\"color\":\"#E5ECF6\",\"width\":0.5},\"pattern\":{\"fillmode\":\"overlay\",\"size\":10,\"solidity\":0.2}},\"type\":\"bar\"}],\"barpolar\":[{\"marker\":{\"line\":{\"color\":\"#E5ECF6\",\"width\":0.5},\"pattern\":{\"fillmode\":\"overlay\",\"size\":10,\"solidity\":0.2}},\"type\":\"barpolar\"}],\"carpet\":[{\"aaxis\":{\"endlinecolor\":\"#2a3f5f\",\"gridcolor\":\"white\",\"linecolor\":\"white\",\"minorgridcolor\":\"white\",\"startlinecolor\":\"#2a3f5f\"},\"baxis\":{\"endlinecolor\":\"#2a3f5f\",\"gridcolor\":\"white\",\"linecolor\":\"white\",\"minorgridcolor\":\"white\",\"startlinecolor\":\"#2a3f5f\"},\"type\":\"carpet\"}],\"choropleth\":[{\"colorbar\":{\"outlinewidth\":0,\"ticks\":\"\"},\"type\":\"choropleth\"}],\"contour\":[{\"colorbar\":{\"outlinewidth\":0,\"ticks\":\"\"},\"colorscale\":[[0.0,\"#0d0887\"],[0.1111111111111111,\"#46039f\"],[0.2222222222222222,\"#7201a8\"],[0.3333333333333333,\"#9c179e\"],[0.4444444444444444,\"#bd3786\"],[0.5555555555555556,\"#d8576b\"],[0.6666666666666666,\"#ed7953\"],[0.7777777777777778,\"#fb9f3a\"],[0.8888888888888888,\"#fdca26\"],[1.0,\"#f0f921\"]],\"type\":\"contour\"}],\"contourcarpet\":[{\"colorbar\":{\"outlinewidth\":0,\"ticks\":\"\"},\"type\":\"contourcarpet\"}],\"heatmap\":[{\"colorbar\":{\"outlinewidth\":0,\"ticks\":\"\"},\"colorscale\":[[0.0,\"#0d0887\"],[0.1111111111111111,\"#46039f\"],[0.2222222222222222,\"#7201a8\"],[0.3333333333333333,\"#9c179e\"],[0.4444444444444444,\"#bd3786\"],[0.5555555555555556,\"#d8576b\"],[0.6666666666666666,\"#ed7953\"],[0.7777777777777778,\"#fb9f3a\"],[0.8888888888888888,\"#fdca26\"],[1.0,\"#f0f921\"]],\"type\":\"heatmap\"}],\"heatmapgl\":[{\"colorbar\":{\"outlinewidth\":0,\"ticks\":\"\"},\"colorscale\":[[0.0,\"#0d0887\"],[0.1111111111111111,\"#46039f\"],[0.2222222222222222,\"#7201a8\"],[0.3333333333333333,\"#9c179e\"],[0.4444444444444444,\"#bd3786\"],[0.5555555555555556,\"#d8576b\"],[0.6666666666666666,\"#ed7953\"],[0.7777777777777778,\"#fb9f3a\"],[0.8888888888888888,\"#fdca26\"],[1.0,\"#f0f921\"]],\"type\":\"heatmapgl\"}],\"histogram\":[{\"marker\":{\"pattern\":{\"fillmode\":\"overlay\",\"size\":10,\"solidity\":0.2}},\"type\":\"histogram\"}],\"histogram2d\":[{\"colorbar\":{\"outlinewidth\":0,\"ticks\":\"\"},\"colorscale\":[[0.0,\"#0d0887\"],[0.1111111111111111,\"#46039f\"],[0.2222222222222222,\"#7201a8\"],[0.3333333333333333,\"#9c179e\"],[0.4444444444444444,\"#bd3786\"],[0.5555555555555556,\"#d8576b\"],[0.6666666666666666,\"#ed7953\"],[0.7777777777777778,\"#fb9f3a\"],[0.8888888888888888,\"#fdca26\"],[1.0,\"#f0f921\"]],\"type\":\"histogram2d\"}],\"histogram2dcontour\":[{\"colorbar\":{\"outlinewidth\":0,\"ticks\":\"\"},\"colorscale\":[[0.0,\"#0d0887\"],[0.1111111111111111,\"#46039f\"],[0.2222222222222222,\"#7201a8\"],[0.3333333333333333,\"#9c179e\"],[0.4444444444444444,\"#bd3786\"],[0.5555555555555556,\"#d8576b\"],[0.6666666666666666,\"#ed7953\"],[0.7777777777777778,\"#fb9f3a\"],[0.8888888888888888,\"#fdca26\"],[1.0,\"#f0f921\"]],\"type\":\"histogram2dcontour\"}],\"mesh3d\":[{\"colorbar\":{\"outlinewidth\":0,\"ticks\":\"\"},\"type\":\"mesh3d\"}],\"parcoords\":[{\"line\":{\"colorbar\":{\"outlinewidth\":0,\"ticks\":\"\"}},\"type\":\"parcoords\"}],\"pie\":[{\"automargin\":true,\"type\":\"pie\"}],\"scatter\":[{\"marker\":{\"colorbar\":{\"outlinewidth\":0,\"ticks\":\"\"}},\"type\":\"scatter\"}],\"scatter3d\":[{\"line\":{\"colorbar\":{\"outlinewidth\":0,\"ticks\":\"\"}},\"marker\":{\"colorbar\":{\"outlinewidth\":0,\"ticks\":\"\"}},\"type\":\"scatter3d\"}],\"scattercarpet\":[{\"marker\":{\"colorbar\":{\"outlinewidth\":0,\"ticks\":\"\"}},\"type\":\"scattercarpet\"}],\"scattergeo\":[{\"marker\":{\"colorbar\":{\"outlinewidth\":0,\"ticks\":\"\"}},\"type\":\"scattergeo\"}],\"scattergl\":[{\"marker\":{\"colorbar\":{\"outlinewidth\":0,\"ticks\":\"\"}},\"type\":\"scattergl\"}],\"scattermapbox\":[{\"marker\":{\"colorbar\":{\"outlinewidth\":0,\"ticks\":\"\"}},\"type\":\"scattermapbox\"}],\"scatterpolar\":[{\"marker\":{\"colorbar\":{\"outlinewidth\":0,\"ticks\":\"\"}},\"type\":\"scatterpolar\"}],\"scatterpolargl\":[{\"marker\":{\"colorbar\":{\"outlinewidth\":0,\"ticks\":\"\"}},\"type\":\"scatterpolargl\"}],\"scatterternary\":[{\"marker\":{\"colorbar\":{\"outlinewidth\":0,\"ticks\":\"\"}},\"type\":\"scatterternary\"}],\"surface\":[{\"colorbar\":{\"outlinewidth\":0,\"ticks\":\"\"},\"colorscale\":[[0.0,\"#0d0887\"],[0.1111111111111111,\"#46039f\"],[0.2222222222222222,\"#7201a8\"],[0.3333333333333333,\"#9c179e\"],[0.4444444444444444,\"#bd3786\"],[0.5555555555555556,\"#d8576b\"],[0.6666666666666666,\"#ed7953\"],[0.7777777777777778,\"#fb9f3a\"],[0.8888888888888888,\"#fdca26\"],[1.0,\"#f0f921\"]],\"type\":\"surface\"}],\"table\":[{\"cells\":{\"fill\":{\"color\":\"#EBF0F8\"},\"line\":{\"color\":\"white\"}},\"header\":{\"fill\":{\"color\":\"#C8D4E3\"},\"line\":{\"color\":\"white\"}},\"type\":\"table\"}]},\"layout\":{\"annotationdefaults\":{\"arrowcolor\":\"#2a3f5f\",\"arrowhead\":0,\"arrowwidth\":1},\"autotypenumbers\":\"strict\",\"coloraxis\":{\"colorbar\":{\"outlinewidth\":0,\"ticks\":\"\"}},\"colorscale\":{\"diverging\":[[0,\"#8e0152\"],[0.1,\"#c51b7d\"],[0.2,\"#de77ae\"],[0.3,\"#f1b6da\"],[0.4,\"#fde0ef\"],[0.5,\"#f7f7f7\"],[0.6,\"#e6f5d0\"],[0.7,\"#b8e186\"],[0.8,\"#7fbc41\"],[0.9,\"#4d9221\"],[1,\"#276419\"]],\"sequential\":[[0.0,\"#0d0887\"],[0.1111111111111111,\"#46039f\"],[0.2222222222222222,\"#7201a8\"],[0.3333333333333333,\"#9c179e\"],[0.4444444444444444,\"#bd3786\"],[0.5555555555555556,\"#d8576b\"],[0.6666666666666666,\"#ed7953\"],[0.7777777777777778,\"#fb9f3a\"],[0.8888888888888888,\"#fdca26\"],[1.0,\"#f0f921\"]],\"sequentialminus\":[[0.0,\"#0d0887\"],[0.1111111111111111,\"#46039f\"],[0.2222222222222222,\"#7201a8\"],[0.3333333333333333,\"#9c179e\"],[0.4444444444444444,\"#bd3786\"],[0.5555555555555556,\"#d8576b\"],[0.6666666666666666,\"#ed7953\"],[0.7777777777777778,\"#fb9f3a\"],[0.8888888888888888,\"#fdca26\"],[1.0,\"#f0f921\"]]},\"colorway\":[\"#636efa\",\"#EF553B\",\"#00cc96\",\"#ab63fa\",\"#FFA15A\",\"#19d3f3\",\"#FF6692\",\"#B6E880\",\"#FF97FF\",\"#FECB52\"],\"font\":{\"color\":\"#2a3f5f\"},\"geo\":{\"bgcolor\":\"white\",\"lakecolor\":\"white\",\"landcolor\":\"#E5ECF6\",\"showlakes\":true,\"showland\":true,\"subunitcolor\":\"white\"},\"hoverlabel\":{\"align\":\"left\"},\"hovermode\":\"closest\",\"mapbox\":{\"style\":\"light\"},\"paper_bgcolor\":\"white\",\"plot_bgcolor\":\"#E5ECF6\",\"polar\":{\"angularaxis\":{\"gridcolor\":\"white\",\"linecolor\":\"white\",\"ticks\":\"\"},\"bgcolor\":\"#E5ECF6\",\"radialaxis\":{\"gridcolor\":\"white\",\"linecolor\":\"white\",\"ticks\":\"\"}},\"scene\":{\"xaxis\":{\"backgroundcolor\":\"#E5ECF6\",\"gridcolor\":\"white\",\"gridwidth\":2,\"linecolor\":\"white\",\"showbackground\":true,\"ticks\":\"\",\"zerolinecolor\":\"white\"},\"yaxis\":{\"backgroundcolor\":\"#E5ECF6\",\"gridcolor\":\"white\",\"gridwidth\":2,\"linecolor\":\"white\",\"showbackground\":true,\"ticks\":\"\",\"zerolinecolor\":\"white\"},\"zaxis\":{\"backgroundcolor\":\"#E5ECF6\",\"gridcolor\":\"white\",\"gridwidth\":2,\"linecolor\":\"white\",\"showbackground\":true,\"ticks\":\"\",\"zerolinecolor\":\"white\"}},\"shapedefaults\":{\"line\":{\"color\":\"#2a3f5f\"}},\"ternary\":{\"aaxis\":{\"gridcolor\":\"white\",\"linecolor\":\"white\",\"ticks\":\"\"},\"baxis\":{\"gridcolor\":\"white\",\"linecolor\":\"white\",\"ticks\":\"\"},\"bgcolor\":\"#E5ECF6\",\"caxis\":{\"gridcolor\":\"white\",\"linecolor\":\"white\",\"ticks\":\"\"}},\"title\":{\"x\":0.05},\"xaxis\":{\"automargin\":true,\"gridcolor\":\"white\",\"linecolor\":\"white\",\"ticks\":\"\",\"title\":{\"standoff\":15},\"zerolinecolor\":\"white\",\"zerolinewidth\":2},\"yaxis\":{\"automargin\":true,\"gridcolor\":\"white\",\"linecolor\":\"white\",\"ticks\":\"\",\"title\":{\"standoff\":15},\"zerolinecolor\":\"white\",\"zerolinewidth\":2}}},\"xaxis\":{\"anchor\":\"y\",\"domain\":[0.0,0.7363],\"title\":{\"text\":\"m0\"}},\"xaxis2\":{\"anchor\":\"y2\",\"domain\":[0.7413,1.0],\"matches\":\"x2\",\"showgrid\":true,\"showline\":false,\"showticklabels\":false,\"ticks\":\"\"},\"xaxis3\":{\"anchor\":\"y3\",\"domain\":[0.0,0.7363],\"matches\":\"x\",\"showgrid\":true,\"showticklabels\":false},\"xaxis4\":{\"anchor\":\"y4\",\"domain\":[0.7413,1.0],\"matches\":\"x2\",\"showgrid\":true,\"showline\":false,\"showticklabels\":false,\"ticks\":\"\"},\"yaxis\":{\"anchor\":\"x\",\"domain\":[0.0,0.7326],\"title\":{\"text\":\"m12\"}},\"yaxis2\":{\"anchor\":\"x2\",\"domain\":[0.0,0.7326],\"matches\":\"y\",\"showgrid\":true,\"showticklabels\":false},\"yaxis3\":{\"anchor\":\"x3\",\"domain\":[0.7426,1.0],\"matches\":\"y3\",\"showgrid\":true,\"showline\":false,\"showticklabels\":false,\"ticks\":\"\"},\"yaxis4\":{\"anchor\":\"x4\",\"domain\":[0.7426,1.0],\"matches\":\"y3\",\"showgrid\":true,\"showline\":false,\"showticklabels\":false,\"ticks\":\"\"}},                        {\"responsive\": true}                    ).then(function(){\n",
       "                            \n",
       "var gd = document.getElementById('f11fa0fe-22bb-4e16-b623-4a134dee80f0');\n",
       "var x = new MutationObserver(function (mutations, observer) {{\n",
       "        var display = window.getComputedStyle(gd).display;\n",
       "        if (!display || display === 'none') {{\n",
       "            console.log([gd, 'removed!']);\n",
       "            Plotly.purge(gd);\n",
       "            observer.disconnect();\n",
       "        }}\n",
       "}});\n",
       "\n",
       "// Listen for the removal of the full notebook cells\n",
       "var notebookContainer = gd.closest('#notebook-container');\n",
       "if (notebookContainer) {{\n",
       "    x.observe(notebookContainer, {childList: true});\n",
       "}}\n",
       "\n",
       "// Listen for the clearing of the current output cell\n",
       "var outputEl = gd.closest('.output');\n",
       "if (outputEl) {{\n",
       "    x.observe(outputEl, {childList: true});\n",
       "}}\n",
       "\n",
       "                        })                };                });            </script>        </div>"
      ]
     },
     "metadata": {},
     "output_type": "display_data"
    }
   ],
   "source": [
    "fig = px.scatter(memory_df[select_done], x=\"m0\", y=\"m12\", marginal_x=\"histogram\", marginal_y=\"histogram\", color='done')\n",
    "fig.show()"
   ]
  },
  {
   "cell_type": "markdown",
   "id": "aab199b7",
   "metadata": {},
   "source": [
    "## Building Reward Function"
   ]
  },
  {
   "cell_type": "code",
   "execution_count": 15,
   "id": "d12ea3ec",
   "metadata": {},
   "outputs": [
    {
     "data": {
      "image/png": "[encoded data removed]",
      "text/plain": [
       "<Figure size 432x288 with 1 Axes>"
      ]
     },
     "metadata": {
      "needs_background": "light"
     },
     "output_type": "display_data"
    },
    {
     "name": "stdout",
     "output_type": "stream",
     "text": [
      "12.204471524804903\n"
     ]
    }
   ],
   "source": [
    "import numpy as np\n",
    "import matplotlib.pyplot as plt\n",
    "\n",
    "def distance(variable,goal):\n",
    "    return -np.log((variable-goal)**2+1e-6)\n",
    "\n",
    "space = np.linspace(125-2, 125+2,1000)\n",
    "goal = np.ones(1000)*125\n",
    "plt.plot(space, distance(space,goal))\n",
    "plt.axhline(0, c='r')\n",
    "plt.show()\n",
    "print(distance(space,goal).max())"
   ]
  },
  {
   "cell_type": "code",
   "execution_count": 16,
   "id": "98169c2d",
   "metadata": {},
   "outputs": [],
   "source": [
    "memory_len = len(memory)\n",
    "values = distance(\n",
    "    memory_df[\"Mh(1)_prime\"].to_numpy().astype(np.float32),\n",
    "    env_config.model.goal.value[1]\n",
    ")"
   ]
  },
  {
   "cell_type": "code",
   "execution_count": 17,
   "id": "f1310045",
   "metadata": {},
   "outputs": [
    {
     "data": {
      "text/html": [
       "<div>\n",
       "<style scoped>\n",
       "    .dataframe tbody tr th:only-of-type {\n",
       "        vertical-align: middle;\n",
       "    }\n",
       "\n",
       "    .dataframe tbody tr th {\n",
       "        vertical-align: top;\n",
       "    }\n",
       "\n",
       "    .dataframe thead th {\n",
       "        text-align: right;\n",
       "    }\n",
       "</style>\n",
       "<table border=\"1\" class=\"dataframe\">\n",
       "  <thead>\n",
       "    <tr style=\"text-align: right;\">\n",
       "      <th></th>\n",
       "      <th>Mh(1)</th>\n",
       "      <th>Mh(2)</th>\n",
       "      <th>obsratio</th>\n",
       "      <th>csq(tot)</th>\n",
       "      <th>m0</th>\n",
       "      <th>m12</th>\n",
       "      <th>a0</th>\n",
       "      <th>tanbeta</th>\n",
       "      <th>reward</th>\n",
       "      <th>Mh(1)_prime</th>\n",
       "      <th>Mh(2)_prime</th>\n",
       "      <th>obsratio_prime</th>\n",
       "      <th>csq(tot)_prime</th>\n",
       "      <th>done</th>\n",
       "    </tr>\n",
       "  </thead>\n",
       "  <tbody>\n",
       "    <tr>\n",
       "      <th>97</th>\n",
       "      <td>7.16031</td>\n",
       "      <td>101.305</td>\n",
       "      <td>3.66499</td>\n",
       "      <td>900.0</td>\n",
       "      <td>124.514666</td>\n",
       "      <td>1034.422517</td>\n",
       "      <td>3999.486715</td>\n",
       "      <td>2.175955</td>\n",
       "      <td>0</td>\n",
       "      <td>4.64581</td>\n",
       "      <td>97.3475</td>\n",
       "      <td>3.45709</td>\n",
       "      <td>900.0</td>\n",
       "      <td>False</td>\n",
       "    </tr>\n",
       "    <tr>\n",
       "      <th>96</th>\n",
       "      <td>118.219</td>\n",
       "      <td>151.194</td>\n",
       "      <td>6.11343</td>\n",
       "      <td>801.577</td>\n",
       "      <td>138.563514</td>\n",
       "      <td>1047.589853</td>\n",
       "      <td>4000.0</td>\n",
       "      <td>2.562476</td>\n",
       "      <td>0</td>\n",
       "      <td>7.16031</td>\n",
       "      <td>101.305</td>\n",
       "      <td>3.66499</td>\n",
       "      <td>900.0</td>\n",
       "      <td>False</td>\n",
       "    </tr>\n",
       "    <tr>\n",
       "      <th>169</th>\n",
       "      <td>106.504</td>\n",
       "      <td>246.007</td>\n",
       "      <td>4.0496</td>\n",
       "      <td>900.0</td>\n",
       "      <td>995.703316</td>\n",
       "      <td>4500.0</td>\n",
       "      <td>1005.641222</td>\n",
       "      <td>1.899567</td>\n",
       "      <td>10.235954</td>\n",
       "      <td>103.768</td>\n",
       "      <td>245.998</td>\n",
       "      <td>4.0869</td>\n",
       "      <td>900.0</td>\n",
       "      <td>False</td>\n",
       "    </tr>\n",
       "    <tr>\n",
       "      <th>171</th>\n",
       "      <td>104.853</td>\n",
       "      <td>244.962</td>\n",
       "      <td>4.48028</td>\n",
       "      <td>900.0</td>\n",
       "      <td>997.428566</td>\n",
       "      <td>4500.0</td>\n",
       "      <td>1007.798612</td>\n",
       "      <td>1.914312</td>\n",
       "      <td>10.178841</td>\n",
       "      <td>103.934</td>\n",
       "      <td>245.43</td>\n",
       "      <td>4.00999</td>\n",
       "      <td>900.0</td>\n",
       "      <td>False</td>\n",
       "    </tr>\n",
       "    <tr>\n",
       "      <th>170</th>\n",
       "      <td>103.768</td>\n",
       "      <td>245.998</td>\n",
       "      <td>4.0869</td>\n",
       "      <td>900.0</td>\n",
       "      <td>998.891953</td>\n",
       "      <td>4500.0</td>\n",
       "      <td>1006.262958</td>\n",
       "      <td>1.995739</td>\n",
       "      <td>0</td>\n",
       "      <td>104.853</td>\n",
       "      <td>244.962</td>\n",
       "      <td>4.48028</td>\n",
       "      <td>900.0</td>\n",
       "      <td>False</td>\n",
       "    </tr>\n",
       "    <tr>\n",
       "      <th>...</th>\n",
       "      <td>...</td>\n",
       "      <td>...</td>\n",
       "      <td>...</td>\n",
       "      <td>...</td>\n",
       "      <td>...</td>\n",
       "      <td>...</td>\n",
       "      <td>...</td>\n",
       "      <td>...</td>\n",
       "      <td>...</td>\n",
       "      <td>...</td>\n",
       "      <td>...</td>\n",
       "      <td>...</td>\n",
       "      <td>...</td>\n",
       "      <td>...</td>\n",
       "    </tr>\n",
       "    <tr>\n",
       "      <th>616</th>\n",
       "      <td>122.654</td>\n",
       "      <td>255.665</td>\n",
       "      <td>0.850788</td>\n",
       "      <td>205.761</td>\n",
       "      <td>974.638909</td>\n",
       "      <td>4500.0</td>\n",
       "      <td>1027.296484</td>\n",
       "      <td>33.932718</td>\n",
       "      <td>10.017813</td>\n",
       "      <td>122.655</td>\n",
       "      <td>255.213</td>\n",
       "      <td>0.850713</td>\n",
       "      <td>205.738</td>\n",
       "      <td>False</td>\n",
       "    </tr>\n",
       "    <tr>\n",
       "      <th>619</th>\n",
       "      <td>122.655</td>\n",
       "      <td>254.838</td>\n",
       "      <td>0.850738</td>\n",
       "      <td>205.724</td>\n",
       "      <td>974.508232</td>\n",
       "      <td>4500.0</td>\n",
       "      <td>1021.873862</td>\n",
       "      <td>35.873597</td>\n",
       "      <td>0</td>\n",
       "      <td>122.659</td>\n",
       "      <td>255.573</td>\n",
       "      <td>0.850507</td>\n",
       "      <td>205.72</td>\n",
       "      <td>False</td>\n",
       "    </tr>\n",
       "    <tr>\n",
       "      <th>622</th>\n",
       "      <td>122.668</td>\n",
       "      <td>257.284</td>\n",
       "      <td>0.850078</td>\n",
       "      <td>205.715</td>\n",
       "      <td>972.683525</td>\n",
       "      <td>4495.25784</td>\n",
       "      <td>1035.418928</td>\n",
       "      <td>32.454721</td>\n",
       "      <td>10.010449</td>\n",
       "      <td>122.661</td>\n",
       "      <td>257.013</td>\n",
       "      <td>0.850491</td>\n",
       "      <td>205.751</td>\n",
       "      <td>False</td>\n",
       "    </tr>\n",
       "    <tr>\n",
       "      <th>617</th>\n",
       "      <td>122.655</td>\n",
       "      <td>255.213</td>\n",
       "      <td>0.850713</td>\n",
       "      <td>205.738</td>\n",
       "      <td>974.491039</td>\n",
       "      <td>4500.0</td>\n",
       "      <td>1017.211378</td>\n",
       "      <td>35.231517</td>\n",
       "      <td>0</td>\n",
       "      <td>122.661</td>\n",
       "      <td>255.652</td>\n",
       "      <td>0.850384</td>\n",
       "      <td>205.714</td>\n",
       "      <td>False</td>\n",
       "    </tr>\n",
       "    <tr>\n",
       "      <th>621</th>\n",
       "      <td>122.652</td>\n",
       "      <td>254.658</td>\n",
       "      <td>0.850877</td>\n",
       "      <td>205.734</td>\n",
       "      <td>972.722793</td>\n",
       "      <td>4496.216118</td>\n",
       "      <td>1027.378827</td>\n",
       "      <td>34.51879</td>\n",
       "      <td>0</td>\n",
       "      <td>122.668</td>\n",
       "      <td>257.284</td>\n",
       "      <td>0.850078</td>\n",
       "      <td>205.715</td>\n",
       "      <td>False</td>\n",
       "    </tr>\n",
       "  </tbody>\n",
       "</table>\n",
       "<p>1286 rows × 14 columns</p>\n",
       "</div>"
      ],
      "text/plain": [
       "       Mh(1)    Mh(2)  obsratio csq(tot)          m0          m12  \\\n",
       "97   7.16031  101.305   3.66499    900.0  124.514666  1034.422517   \n",
       "96   118.219  151.194   6.11343  801.577  138.563514  1047.589853   \n",
       "169  106.504  246.007    4.0496    900.0  995.703316       4500.0   \n",
       "171  104.853  244.962   4.48028    900.0  997.428566       4500.0   \n",
       "170  103.768  245.998    4.0869    900.0  998.891953       4500.0   \n",
       "..       ...      ...       ...      ...         ...          ...   \n",
       "616  122.654  255.665  0.850788  205.761  974.638909       4500.0   \n",
       "619  122.655  254.838  0.850738  205.724  974.508232       4500.0   \n",
       "622  122.668  257.284  0.850078  205.715  972.683525   4495.25784   \n",
       "617  122.655  255.213  0.850713  205.738  974.491039       4500.0   \n",
       "621  122.652  254.658  0.850877  205.734  972.722793  4496.216118   \n",
       "\n",
       "              a0    tanbeta     reward Mh(1)_prime Mh(2)_prime obsratio_prime  \\\n",
       "97   3999.486715   2.175955          0     4.64581     97.3475        3.45709   \n",
       "96        4000.0   2.562476          0     7.16031     101.305        3.66499   \n",
       "169  1005.641222   1.899567  10.235954     103.768     245.998         4.0869   \n",
       "171  1007.798612   1.914312  10.178841     103.934      245.43        4.00999   \n",
       "170  1006.262958   1.995739          0     104.853     244.962        4.48028   \n",
       "..           ...        ...        ...         ...         ...            ...   \n",
       "616  1027.296484  33.932718  10.017813     122.655     255.213       0.850713   \n",
       "619  1021.873862  35.873597          0     122.659     255.573       0.850507   \n",
       "622  1035.418928  32.454721  10.010449     122.661     257.013       0.850491   \n",
       "617  1017.211378  35.231517          0     122.661     255.652       0.850384   \n",
       "621  1027.378827   34.51879          0     122.668     257.284       0.850078   \n",
       "\n",
       "    csq(tot)_prime   done  \n",
       "97           900.0  False  \n",
       "96           900.0  False  \n",
       "169          900.0  False  \n",
       "171          900.0  False  \n",
       "170          900.0  False  \n",
       "..             ...    ...  \n",
       "616        205.738  False  \n",
       "619         205.72  False  \n",
       "622        205.751  False  \n",
       "617        205.714  False  \n",
       "621        205.715  False  \n",
       "\n",
       "[1286 rows x 14 columns]"
      ]
     },
     "execution_count": 17,
     "metadata": {},
     "output_type": "execute_result"
    }
   ],
   "source": [
    "memory_df[memory_df[\"Mh(1)\"] != memory_df[\"Mh(1)_prime\"]].sort_values(\"Mh(1)_prime\")"
   ]
  },
  {
   "cell_type": "code",
   "execution_count": 18,
   "id": "3dcdc25d",
   "metadata": {},
   "outputs": [
    {
     "data": {
      "image/png": "[encoded data removed]",
      "text/plain": [
       "<Figure size 432x288 with 1 Axes>"
      ]
     },
     "metadata": {
      "needs_background": "light"
     },
     "output_type": "display_data"
    },
    {
     "name": "stdout",
     "output_type": "stream",
     "text": [
      "13.815510557964274\n"
     ]
    }
   ],
   "source": [
    "space = np.linspace(0, 2,1000)\n",
    "goal = np.ones(1000)*0\n",
    "plt.plot(space, distance(space,goal))\n",
    "plt.axhline(0, c='r')\n",
    "plt.show()\n",
    "print(distance(space,goal).max())"
   ]
  },
  {
   "cell_type": "code",
   "execution_count": 19,
   "id": "d6b02a39",
   "metadata": {},
   "outputs": [
    {
     "name": "stdout",
     "output_type": "stream",
     "text": [
      "[118.219   151.194     6.11343 801.577  ]\n"
     ]
    }
   ],
   "source": [
    "state = env.denormalize_action(memory[96].state, state=True)\n",
    "new_state = env.denormalize_action(memory[96].new_state, state=True)\n",
    "print(state)"
   ]
  },
  {
   "cell_type": "code",
   "execution_count": 20,
   "id": "06231800",
   "metadata": {},
   "outputs": [
    {
     "data": {
      "text/plain": [
       "(['Mh(1)', 'Mh2(2)', 'obsratio', 'csq(tot)'], array([ 93., 125.,   0., 100.]))"
      ]
     },
     "execution_count": 20,
     "metadata": {},
     "output_type": "execute_result"
    }
   ],
   "source": [
    "goals = np.array(env_config.model.goal.value)\n",
    "goals_name = env_config.model.goal.name\n",
    "goals_name, goals"
   ]
  },
  {
   "cell_type": "code",
   "execution_count": 21,
   "id": "88c39fa7",
   "metadata": {},
   "outputs": [
    {
     "name": "stdout",
     "output_type": "stream",
     "text": [
      "[ -6.45519536  -6.53106076  -3.62097601 -13.10666132]\n",
      "[-64.55195359 -65.31060755  -3.62097601 -13.10666132]\n",
      "-146.5901984663532\n"
     ]
    }
   ],
   "source": [
    "distances = distance(state, goals)\n",
    "factor = np.array([10,10,1,1])\n",
    "values  = distances * factor\n",
    "total_value = sum(values)\n",
    "print(distances)\n",
    "print(values)\n",
    "print(total_value)\n",
    "\n",
    "\n"
   ]
  },
  {
   "cell_type": "code",
   "execution_count": 22,
   "id": "fe90093d",
   "metadata": {},
   "outputs": [
    {
     "name": "stdout",
     "output_type": "stream",
     "text": [
      "[ -8.90496297  -6.33052811  -2.59765129 -13.36922346]\n",
      "[-89.04962974 -63.30528113  -2.59765129 -13.36922346]\n",
      "-168.32178560990724\n"
     ]
    }
   ],
   "source": [
    "distances_prime = distance(new_state, goals)\n",
    "factor = np.array([10,10,1,1])\n",
    "values_prime  = distances_prime * factor\n",
    "total_value_prime = sum(values_prime)\n",
    "print(distances_prime)\n",
    "print(values_prime)\n",
    "print(total_value_prime)"
   ]
  },
  {
   "cell_type": "code",
   "execution_count": 23,
   "id": "92e459ed",
   "metadata": {},
   "outputs": [
    {
     "data": {
      "text/plain": [
       "-21.731587143554037"
      ]
     },
     "execution_count": 23,
     "metadata": {},
     "output_type": "execute_result"
    }
   ],
   "source": [
    "total_value_prime - total_value"
   ]
  },
  {
   "cell_type": "code",
   "execution_count": 24,
   "id": "ccbacb13",
   "metadata": {},
   "outputs": [
    {
     "data": {
      "text/plain": [
       "True"
      ]
     },
     "execution_count": 24,
     "metadata": {},
     "output_type": "execute_result"
    }
   ],
   "source": [
    "values = np.array([10,2,4,5])\n",
    "sum(values > 0) == len(values)"
   ]
  },
  {
   "cell_type": "markdown",
   "id": "4ffc9be2",
   "metadata": {},
   "source": [
    "## Comparing distributions"
   ]
  },
  {
   "cell_type": "code",
   "execution_count": 25,
   "id": "bbf4838c",
   "metadata": {},
   "outputs": [],
   "source": [
    "def likelihood_ratio(p,q):\n",
    "    return np.prod(p/q + 1e-20)\n",
    "\n",
    "def log_likelihood_ratio(p,q):\n",
    "    return np.sum(np.log(p/q + 1e-20))\n",
    "\n",
    "def weighted_llr(p,q):\n",
    "    x = q * np.log(p/q + 1e-20)\n",
    "    x = np.sum(x)\n",
    "    return x\n",
    "    \n",
    "def kullback_leibler_div(p,q): \n",
    "    x = q * np.log(p/q + 1e-20)\n",
    "    x = -1 * np.sum(x)\n",
    "    return x\n",
    "\n",
    "def cross_entropy(p,q):\n",
    "    x = q * np.log(p + 1e-20)\n",
    "    x = -1*np.sum(x)\n",
    "    return x"
   ]
  },
  {
   "cell_type": "code",
   "execution_count": null,
   "id": "6bb09507",
   "metadata": {},
   "outputs": [],
   "source": []
  }
 ],
 "metadata": {
  "kernelspec": {
   "display_name": "Python [conda env:.conda-rrlib] *",
   "language": "python",
   "name": "conda-env-.conda-rrlib-py"
  },
  "language_info": {
   "codemirror_mode": {
    "name": "ipython",
    "version": 3
   },
   "file_extension": ".py",
   "mimetype": "text/x-python",
   "name": "python",
   "nbconvert_exporter": "python",
   "pygments_lexer": "ipython3",
   "version": "3.8.12"
  }
 },
 "nbformat": 4,
 "nbformat_minor": 5
}
